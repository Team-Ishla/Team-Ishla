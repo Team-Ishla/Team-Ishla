{
 "cells": [
  {
   "cell_type": "markdown",
   "id": "different-gather",
   "metadata": {},
   "source": [
    "# Optimal Path\n",
    "“To find the optimal path from the starting point (source), covering all the sub-destinations”.\n",
    "\n",
    "The problem statements aim at determining the closest sub-destination from the current position, the starting point being the user’s current location."
   ]
  },
  {
   "cell_type": "markdown",
   "id": "coated-occupation",
   "metadata": {},
   "source": [
    "# Importing Libraries"
   ]
  },
  {
   "cell_type": "code",
   "execution_count": 29,
   "id": "funky-factory",
   "metadata": {},
   "outputs": [],
   "source": [
    "#importing necessary libraries\n",
    "import pandas as pd\n",
    "import numpy as np\n",
    "import geopy\n",
    "import geopandas\n",
    "from geopy import Nominatim\n",
    "import folium"
   ]
  },
  {
   "cell_type": "markdown",
   "id": "executive-classic",
   "metadata": {},
   "source": [
    "# Loading the dataset with the address"
   ]
  },
  {
   "cell_type": "code",
   "execution_count": 30,
   "id": "industrial-safety",
   "metadata": {
    "scrolled": false
   },
   "outputs": [
    {
     "data": {
      "text/html": [
       "<div>\n",
       "<style scoped>\n",
       "    .dataframe tbody tr th:only-of-type {\n",
       "        vertical-align: middle;\n",
       "    }\n",
       "\n",
       "    .dataframe tbody tr th {\n",
       "        vertical-align: top;\n",
       "    }\n",
       "\n",
       "    .dataframe thead th {\n",
       "        text-align: right;\n",
       "    }\n",
       "</style>\n",
       "<table border=\"1\" class=\"dataframe\">\n",
       "  <thead>\n",
       "    <tr style=\"text-align: right;\">\n",
       "      <th></th>\n",
       "      <th>Category</th>\n",
       "      <th>Number</th>\n",
       "      <th>Name</th>\n",
       "      <th>Address 1</th>\n",
       "      <th>City</th>\n",
       "      <th>Province</th>\n",
       "      <th>Country</th>\n",
       "      <th>Postal Code</th>\n",
       "      <th>Telefon</th>\n",
       "      <th>color</th>\n",
       "      <th>shape</th>\n",
       "    </tr>\n",
       "  </thead>\n",
       "  <tbody>\n",
       "    <tr>\n",
       "      <th>0</th>\n",
       "      <td>G</td>\n",
       "      <td>NaN</td>\n",
       "      <td>FreshCo Simcoe &amp; Byng</td>\n",
       "      <td>1150 Simcoe Street North</td>\n",
       "      <td>Oshawa</td>\n",
       "      <td>ON</td>\n",
       "      <td>Canada</td>\n",
       "      <td>L1G 4W7</td>\n",
       "      <td>905-576-9562</td>\n",
       "      <td>blue</td>\n",
       "      <td>shopping-cart</td>\n",
       "    </tr>\n",
       "    <tr>\n",
       "      <th>1</th>\n",
       "      <td>G</td>\n",
       "      <td>NaN</td>\n",
       "      <td>FreshCo Simcoe &amp; Winchester</td>\n",
       "      <td>2650 Simcoe Street North</td>\n",
       "      <td>Oshawa</td>\n",
       "      <td>ON</td>\n",
       "      <td>Canada</td>\n",
       "      <td>L1L 0R1</td>\n",
       "      <td>905-436-9851</td>\n",
       "      <td>blue</td>\n",
       "      <td>shopping-cart</td>\n",
       "    </tr>\n",
       "    <tr>\n",
       "      <th>2</th>\n",
       "      <td>G</td>\n",
       "      <td>173</td>\n",
       "      <td>Giant Tiger, Oshawa</td>\n",
       "      <td>250 Taunton Road East</td>\n",
       "      <td>Oshawa</td>\n",
       "      <td>ON</td>\n",
       "      <td>Canada</td>\n",
       "      <td>L1G 7T1</td>\n",
       "      <td>905-438-8433</td>\n",
       "      <td>blue</td>\n",
       "      <td>shopping-cart</td>\n",
       "    </tr>\n",
       "    <tr>\n",
       "      <th>3</th>\n",
       "      <td>G</td>\n",
       "      <td>NaN</td>\n",
       "      <td>Sobeys Oshawa</td>\n",
       "      <td>1377 Wilson Road North</td>\n",
       "      <td>Oshawa</td>\n",
       "      <td>ON</td>\n",
       "      <td>Canada</td>\n",
       "      <td>�L1K 2Z5</td>\n",
       "      <td>905-440-4687</td>\n",
       "      <td>blue</td>\n",
       "      <td>shopping-cart</td>\n",
       "    </tr>\n",
       "    <tr>\n",
       "      <th>4</th>\n",
       "      <td>G</td>\n",
       "      <td>NaN</td>\n",
       "      <td>LIZ'S NOFRILLS OSHAWA</td>\n",
       "      <td>1050 SIMCOE ST N</td>\n",
       "      <td>Oshawa</td>\n",
       "      <td>ON</td>\n",
       "      <td>Canada</td>\n",
       "      <td>L1G 4W5</td>\n",
       "      <td>866-987-6453</td>\n",
       "      <td>blue</td>\n",
       "      <td>shopping-cart</td>\n",
       "    </tr>\n",
       "  </tbody>\n",
       "</table>\n",
       "</div>"
      ],
      "text/plain": [
       "  Category Number                         Name                 Address 1  \\\n",
       "0        G    NaN        FreshCo Simcoe & Byng  1150 Simcoe Street North   \n",
       "1        G    NaN  FreshCo Simcoe & Winchester  2650 Simcoe Street North   \n",
       "2        G    173          Giant Tiger, Oshawa     250 Taunton Road East   \n",
       "3        G    NaN                Sobeys Oshawa    1377 Wilson Road North   \n",
       "4        G    NaN        LIZ'S NOFRILLS OSHAWA          1050 SIMCOE ST N   \n",
       "\n",
       "     City Province Country Postal Code       Telefon color          shape  \n",
       "0  Oshawa       ON  Canada     L1G 4W7  905-576-9562  blue  shopping-cart  \n",
       "1  Oshawa       ON  Canada     L1L 0R1  905-436-9851  blue  shopping-cart  \n",
       "2  Oshawa       ON  Canada     L1G 7T1  905-438-8433  blue  shopping-cart  \n",
       "3  Oshawa       ON  Canada    �L1K 2Z5  905-440-4687  blue  shopping-cart  \n",
       "4  Oshawa       ON  Canada     L1G 4W5  866-987-6453  blue  shopping-cart  "
      ]
     },
     "execution_count": 30,
     "metadata": {},
     "output_type": "execute_result"
    }
   ],
   "source": [
    "#load the dataset\n",
    "df = pd.read_csv('addresses-Canada.csv')\n",
    "df.head()"
   ]
  },
  {
   "cell_type": "code",
   "execution_count": 31,
   "id": "stretch-stations",
   "metadata": {},
   "outputs": [
    {
     "data": {
      "text/html": [
       "<div>\n",
       "<style scoped>\n",
       "    .dataframe tbody tr th:only-of-type {\n",
       "        vertical-align: middle;\n",
       "    }\n",
       "\n",
       "    .dataframe tbody tr th {\n",
       "        vertical-align: top;\n",
       "    }\n",
       "\n",
       "    .dataframe thead th {\n",
       "        text-align: right;\n",
       "    }\n",
       "</style>\n",
       "<table border=\"1\" class=\"dataframe\">\n",
       "  <thead>\n",
       "    <tr style=\"text-align: right;\">\n",
       "      <th></th>\n",
       "      <th>Category</th>\n",
       "      <th>Number</th>\n",
       "      <th>Name</th>\n",
       "      <th>Address 1</th>\n",
       "      <th>City</th>\n",
       "      <th>Province</th>\n",
       "      <th>Country</th>\n",
       "      <th>Postal Code</th>\n",
       "      <th>Telefon</th>\n",
       "      <th>color</th>\n",
       "      <th>shape</th>\n",
       "      <th>ADDRESS</th>\n",
       "    </tr>\n",
       "  </thead>\n",
       "  <tbody>\n",
       "    <tr>\n",
       "      <th>0</th>\n",
       "      <td>G</td>\n",
       "      <td>NaN</td>\n",
       "      <td>FreshCo Simcoe &amp; Byng</td>\n",
       "      <td>1150 Simcoe Street North</td>\n",
       "      <td>Oshawa</td>\n",
       "      <td>ON</td>\n",
       "      <td>Canada</td>\n",
       "      <td>L1G 4W7</td>\n",
       "      <td>905-576-9562</td>\n",
       "      <td>blue</td>\n",
       "      <td>shopping-cart</td>\n",
       "      <td>1150 Simcoe Street North,Oshawa,Oshawa,ON,Canada</td>\n",
       "    </tr>\n",
       "    <tr>\n",
       "      <th>1</th>\n",
       "      <td>G</td>\n",
       "      <td>NaN</td>\n",
       "      <td>FreshCo Simcoe &amp; Winchester</td>\n",
       "      <td>2650 Simcoe Street North</td>\n",
       "      <td>Oshawa</td>\n",
       "      <td>ON</td>\n",
       "      <td>Canada</td>\n",
       "      <td>L1L 0R1</td>\n",
       "      <td>905-436-9851</td>\n",
       "      <td>blue</td>\n",
       "      <td>shopping-cart</td>\n",
       "      <td>2650 Simcoe Street North,Oshawa,Oshawa,ON,Canada</td>\n",
       "    </tr>\n",
       "    <tr>\n",
       "      <th>2</th>\n",
       "      <td>G</td>\n",
       "      <td>173</td>\n",
       "      <td>Giant Tiger, Oshawa</td>\n",
       "      <td>250 Taunton Road East</td>\n",
       "      <td>Oshawa</td>\n",
       "      <td>ON</td>\n",
       "      <td>Canada</td>\n",
       "      <td>L1G 7T1</td>\n",
       "      <td>905-438-8433</td>\n",
       "      <td>blue</td>\n",
       "      <td>shopping-cart</td>\n",
       "      <td>250 Taunton Road East,Oshawa,Oshawa,ON,Canada</td>\n",
       "    </tr>\n",
       "    <tr>\n",
       "      <th>3</th>\n",
       "      <td>G</td>\n",
       "      <td>NaN</td>\n",
       "      <td>Sobeys Oshawa</td>\n",
       "      <td>1377 Wilson Road North</td>\n",
       "      <td>Oshawa</td>\n",
       "      <td>ON</td>\n",
       "      <td>Canada</td>\n",
       "      <td>�L1K 2Z5</td>\n",
       "      <td>905-440-4687</td>\n",
       "      <td>blue</td>\n",
       "      <td>shopping-cart</td>\n",
       "      <td>1377 Wilson Road North,Oshawa,Oshawa,ON,Canada</td>\n",
       "    </tr>\n",
       "    <tr>\n",
       "      <th>4</th>\n",
       "      <td>G</td>\n",
       "      <td>NaN</td>\n",
       "      <td>LIZ'S NOFRILLS OSHAWA</td>\n",
       "      <td>1050 SIMCOE ST N</td>\n",
       "      <td>Oshawa</td>\n",
       "      <td>ON</td>\n",
       "      <td>Canada</td>\n",
       "      <td>L1G 4W5</td>\n",
       "      <td>866-987-6453</td>\n",
       "      <td>blue</td>\n",
       "      <td>shopping-cart</td>\n",
       "      <td>1050 SIMCOE ST N,Oshawa,Oshawa,ON,Canada</td>\n",
       "    </tr>\n",
       "  </tbody>\n",
       "</table>\n",
       "</div>"
      ],
      "text/plain": [
       "  Category Number                         Name                 Address 1  \\\n",
       "0        G    NaN        FreshCo Simcoe & Byng  1150 Simcoe Street North   \n",
       "1        G    NaN  FreshCo Simcoe & Winchester  2650 Simcoe Street North   \n",
       "2        G    173          Giant Tiger, Oshawa     250 Taunton Road East   \n",
       "3        G    NaN                Sobeys Oshawa    1377 Wilson Road North   \n",
       "4        G    NaN        LIZ'S NOFRILLS OSHAWA          1050 SIMCOE ST N   \n",
       "\n",
       "     City Province Country Postal Code       Telefon color          shape  \\\n",
       "0  Oshawa       ON  Canada     L1G 4W7  905-576-9562  blue  shopping-cart   \n",
       "1  Oshawa       ON  Canada     L1L 0R1  905-436-9851  blue  shopping-cart   \n",
       "2  Oshawa       ON  Canada     L1G 7T1  905-438-8433  blue  shopping-cart   \n",
       "3  Oshawa       ON  Canada    �L1K 2Z5  905-440-4687  blue  shopping-cart   \n",
       "4  Oshawa       ON  Canada     L1G 4W5  866-987-6453  blue  shopping-cart   \n",
       "\n",
       "                                            ADDRESS  \n",
       "0  1150 Simcoe Street North,Oshawa,Oshawa,ON,Canada  \n",
       "1  2650 Simcoe Street North,Oshawa,Oshawa,ON,Canada  \n",
       "2     250 Taunton Road East,Oshawa,Oshawa,ON,Canada  \n",
       "3    1377 Wilson Road North,Oshawa,Oshawa,ON,Canada  \n",
       "4          1050 SIMCOE ST N,Oshawa,Oshawa,ON,Canada  "
      ]
     },
     "execution_count": 31,
     "metadata": {},
     "output_type": "execute_result"
    }
   ],
   "source": [
    "#merging the features of the address\n",
    "df['ADDRESS']=df['Address 1']+\",\"+df['City']+\",\"+df['City']+\",\"+df['Province']+\",\"+df['Country']\n",
    "df.head()"
   ]
  },
  {
   "cell_type": "markdown",
   "id": "naval-romantic",
   "metadata": {},
   "source": [
    "# Feature Engineering\n",
    "Adding the latitude and longitude column by fetching the address of the particular stores."
   ]
  },
  {
   "cell_type": "code",
   "execution_count": 32,
   "id": "civilian-toilet",
   "metadata": {},
   "outputs": [],
   "source": [
    "#Converting address to latitude and longitude\n",
    "from geopy.extra.rate_limiter import RateLimiter\n",
    "locator = Nominatim(user_agent='nandinimalhotra04@gmail.com')\n",
    "# 1 - conveneint function to delay between geocoding calls\n",
    "geocode = RateLimiter(locator.geocode, min_delay_seconds=1)\n",
    "# 2- - create location column\n",
    "df['location'] = df['ADDRESS'].apply(geocode)\n",
    "# 3 - create longitude, laatitude and altitude from location column (returns tuple)\n",
    "df['point'] = df['location'].apply(lambda loc: tuple(loc.point) if loc else None)\n",
    "# 4 - split point column into latitude, longitude and altitude columns\n",
    "df[['latitude', 'longitude', 'altitude']] = pd.DataFrame(df['point'].tolist(), index=df.index)"
   ]
  },
  {
   "cell_type": "code",
   "execution_count": 33,
   "id": "nuclear-baseball",
   "metadata": {},
   "outputs": [
    {
     "data": {
      "text/html": [
       "<div>\n",
       "<style scoped>\n",
       "    .dataframe tbody tr th:only-of-type {\n",
       "        vertical-align: middle;\n",
       "    }\n",
       "\n",
       "    .dataframe tbody tr th {\n",
       "        vertical-align: top;\n",
       "    }\n",
       "\n",
       "    .dataframe thead th {\n",
       "        text-align: right;\n",
       "    }\n",
       "</style>\n",
       "<table border=\"1\" class=\"dataframe\">\n",
       "  <thead>\n",
       "    <tr style=\"text-align: right;\">\n",
       "      <th></th>\n",
       "      <th>Category</th>\n",
       "      <th>Number</th>\n",
       "      <th>Name</th>\n",
       "      <th>Address 1</th>\n",
       "      <th>City</th>\n",
       "      <th>Province</th>\n",
       "      <th>Country</th>\n",
       "      <th>Postal Code</th>\n",
       "      <th>Telefon</th>\n",
       "      <th>color</th>\n",
       "      <th>shape</th>\n",
       "      <th>ADDRESS</th>\n",
       "      <th>location</th>\n",
       "      <th>point</th>\n",
       "      <th>latitude</th>\n",
       "      <th>longitude</th>\n",
       "      <th>altitude</th>\n",
       "    </tr>\n",
       "  </thead>\n",
       "  <tbody>\n",
       "    <tr>\n",
       "      <th>0</th>\n",
       "      <td>G</td>\n",
       "      <td>NaN</td>\n",
       "      <td>FreshCo Simcoe &amp; Byng</td>\n",
       "      <td>1150 Simcoe Street North</td>\n",
       "      <td>Oshawa</td>\n",
       "      <td>ON</td>\n",
       "      <td>Canada</td>\n",
       "      <td>L1G 4W7</td>\n",
       "      <td>905-576-9562</td>\n",
       "      <td>blue</td>\n",
       "      <td>shopping-cart</td>\n",
       "      <td>1150 Simcoe Street North,Oshawa,Oshawa,ON,Canada</td>\n",
       "      <td>(1150, Simcoe Street North, Oshawa, Durham Reg...</td>\n",
       "      <td>(43.928184, -78.87709, 0.0)</td>\n",
       "      <td>43.928184</td>\n",
       "      <td>-78.877090</td>\n",
       "      <td>0.0</td>\n",
       "    </tr>\n",
       "    <tr>\n",
       "      <th>1</th>\n",
       "      <td>G</td>\n",
       "      <td>NaN</td>\n",
       "      <td>FreshCo Simcoe &amp; Winchester</td>\n",
       "      <td>2650 Simcoe Street North</td>\n",
       "      <td>Oshawa</td>\n",
       "      <td>ON</td>\n",
       "      <td>Canada</td>\n",
       "      <td>L1L 0R1</td>\n",
       "      <td>905-436-9851</td>\n",
       "      <td>blue</td>\n",
       "      <td>shopping-cart</td>\n",
       "      <td>2650 Simcoe Street North,Oshawa,Oshawa,ON,Canada</td>\n",
       "      <td>(2650, Simcoe Street North, Windfields Farm, O...</td>\n",
       "      <td>(43.964546672266835, -78.90362907154712, 0.0)</td>\n",
       "      <td>43.964547</td>\n",
       "      <td>-78.903629</td>\n",
       "      <td>0.0</td>\n",
       "    </tr>\n",
       "    <tr>\n",
       "      <th>2</th>\n",
       "      <td>G</td>\n",
       "      <td>173</td>\n",
       "      <td>Giant Tiger, Oshawa</td>\n",
       "      <td>250 Taunton Road East</td>\n",
       "      <td>Oshawa</td>\n",
       "      <td>ON</td>\n",
       "      <td>Canada</td>\n",
       "      <td>L1G 7T1</td>\n",
       "      <td>905-438-8433</td>\n",
       "      <td>blue</td>\n",
       "      <td>shopping-cart</td>\n",
       "      <td>250 Taunton Road East,Oshawa,Oshawa,ON,Canada</td>\n",
       "      <td>(Harvey's, 250, Taunton Road East, Oshawa, Dur...</td>\n",
       "      <td>(43.935313199999996, -78.86992985900031, 0.0)</td>\n",
       "      <td>43.935313</td>\n",
       "      <td>-78.869930</td>\n",
       "      <td>0.0</td>\n",
       "    </tr>\n",
       "    <tr>\n",
       "      <th>3</th>\n",
       "      <td>G</td>\n",
       "      <td>NaN</td>\n",
       "      <td>Sobeys Oshawa</td>\n",
       "      <td>1377 Wilson Road North</td>\n",
       "      <td>Oshawa</td>\n",
       "      <td>ON</td>\n",
       "      <td>Canada</td>\n",
       "      <td>�L1K 2Z5</td>\n",
       "      <td>905-440-4687</td>\n",
       "      <td>blue</td>\n",
       "      <td>shopping-cart</td>\n",
       "      <td>1377 Wilson Road North,Oshawa,Oshawa,ON,Canada</td>\n",
       "      <td>(1377, Wilson Road North, Oshawa, Durham Regio...</td>\n",
       "      <td>(43.939167605555554, -78.85987089444444, 0.0)</td>\n",
       "      <td>43.939168</td>\n",
       "      <td>-78.859871</td>\n",
       "      <td>0.0</td>\n",
       "    </tr>\n",
       "    <tr>\n",
       "      <th>4</th>\n",
       "      <td>G</td>\n",
       "      <td>NaN</td>\n",
       "      <td>LIZ'S NOFRILLS OSHAWA</td>\n",
       "      <td>1050 SIMCOE ST N</td>\n",
       "      <td>Oshawa</td>\n",
       "      <td>ON</td>\n",
       "      <td>Canada</td>\n",
       "      <td>L1G 4W5</td>\n",
       "      <td>866-987-6453</td>\n",
       "      <td>blue</td>\n",
       "      <td>shopping-cart</td>\n",
       "      <td>1050 SIMCOE ST N,Oshawa,Oshawa,ON,Canada</td>\n",
       "      <td>(Curves, 1050, Simcoe Street North, Oshawa, Du...</td>\n",
       "      <td>(43.9245026, -78.8760845, 0.0)</td>\n",
       "      <td>43.924503</td>\n",
       "      <td>-78.876085</td>\n",
       "      <td>0.0</td>\n",
       "    </tr>\n",
       "  </tbody>\n",
       "</table>\n",
       "</div>"
      ],
      "text/plain": [
       "  Category Number                         Name                 Address 1  \\\n",
       "0        G    NaN        FreshCo Simcoe & Byng  1150 Simcoe Street North   \n",
       "1        G    NaN  FreshCo Simcoe & Winchester  2650 Simcoe Street North   \n",
       "2        G    173          Giant Tiger, Oshawa     250 Taunton Road East   \n",
       "3        G    NaN                Sobeys Oshawa    1377 Wilson Road North   \n",
       "4        G    NaN        LIZ'S NOFRILLS OSHAWA          1050 SIMCOE ST N   \n",
       "\n",
       "     City Province Country Postal Code       Telefon color          shape  \\\n",
       "0  Oshawa       ON  Canada     L1G 4W7  905-576-9562  blue  shopping-cart   \n",
       "1  Oshawa       ON  Canada     L1L 0R1  905-436-9851  blue  shopping-cart   \n",
       "2  Oshawa       ON  Canada     L1G 7T1  905-438-8433  blue  shopping-cart   \n",
       "3  Oshawa       ON  Canada    �L1K 2Z5  905-440-4687  blue  shopping-cart   \n",
       "4  Oshawa       ON  Canada     L1G 4W5  866-987-6453  blue  shopping-cart   \n",
       "\n",
       "                                            ADDRESS  \\\n",
       "0  1150 Simcoe Street North,Oshawa,Oshawa,ON,Canada   \n",
       "1  2650 Simcoe Street North,Oshawa,Oshawa,ON,Canada   \n",
       "2     250 Taunton Road East,Oshawa,Oshawa,ON,Canada   \n",
       "3    1377 Wilson Road North,Oshawa,Oshawa,ON,Canada   \n",
       "4          1050 SIMCOE ST N,Oshawa,Oshawa,ON,Canada   \n",
       "\n",
       "                                            location  \\\n",
       "0  (1150, Simcoe Street North, Oshawa, Durham Reg...   \n",
       "1  (2650, Simcoe Street North, Windfields Farm, O...   \n",
       "2  (Harvey's, 250, Taunton Road East, Oshawa, Dur...   \n",
       "3  (1377, Wilson Road North, Oshawa, Durham Regio...   \n",
       "4  (Curves, 1050, Simcoe Street North, Oshawa, Du...   \n",
       "\n",
       "                                           point   latitude  longitude  \\\n",
       "0                    (43.928184, -78.87709, 0.0)  43.928184 -78.877090   \n",
       "1  (43.964546672266835, -78.90362907154712, 0.0)  43.964547 -78.903629   \n",
       "2  (43.935313199999996, -78.86992985900031, 0.0)  43.935313 -78.869930   \n",
       "3  (43.939167605555554, -78.85987089444444, 0.0)  43.939168 -78.859871   \n",
       "4                 (43.9245026, -78.8760845, 0.0)  43.924503 -78.876085   \n",
       "\n",
       "   altitude  \n",
       "0       0.0  \n",
       "1       0.0  \n",
       "2       0.0  \n",
       "3       0.0  \n",
       "4       0.0  "
      ]
     },
     "execution_count": 33,
     "metadata": {},
     "output_type": "execute_result"
    }
   ],
   "source": [
    "df.head()"
   ]
  },
  {
   "cell_type": "markdown",
   "id": "cooperative-silver",
   "metadata": {},
   "source": [
    "# Exploratory Data Analysis"
   ]
  },
  {
   "cell_type": "code",
   "execution_count": 34,
   "id": "executed-coordinate",
   "metadata": {},
   "outputs": [
    {
     "data": {
      "text/html": [
       "<div>\n",
       "<style scoped>\n",
       "    .dataframe tbody tr th:only-of-type {\n",
       "        vertical-align: middle;\n",
       "    }\n",
       "\n",
       "    .dataframe tbody tr th {\n",
       "        vertical-align: top;\n",
       "    }\n",
       "\n",
       "    .dataframe thead th {\n",
       "        text-align: right;\n",
       "    }\n",
       "</style>\n",
       "<table border=\"1\" class=\"dataframe\">\n",
       "  <thead>\n",
       "    <tr style=\"text-align: right;\">\n",
       "      <th></th>\n",
       "      <th>Category</th>\n",
       "      <th>Name</th>\n",
       "      <th>color</th>\n",
       "      <th>shape</th>\n",
       "      <th>latitude</th>\n",
       "      <th>longitude</th>\n",
       "    </tr>\n",
       "  </thead>\n",
       "  <tbody>\n",
       "    <tr>\n",
       "      <th>0</th>\n",
       "      <td>G</td>\n",
       "      <td>FreshCo Simcoe &amp; Byng</td>\n",
       "      <td>blue</td>\n",
       "      <td>shopping-cart</td>\n",
       "      <td>43.928184</td>\n",
       "      <td>-78.877090</td>\n",
       "    </tr>\n",
       "    <tr>\n",
       "      <th>1</th>\n",
       "      <td>G</td>\n",
       "      <td>FreshCo Simcoe &amp; Winchester</td>\n",
       "      <td>blue</td>\n",
       "      <td>shopping-cart</td>\n",
       "      <td>43.964547</td>\n",
       "      <td>-78.903629</td>\n",
       "    </tr>\n",
       "    <tr>\n",
       "      <th>2</th>\n",
       "      <td>G</td>\n",
       "      <td>Giant Tiger, Oshawa</td>\n",
       "      <td>blue</td>\n",
       "      <td>shopping-cart</td>\n",
       "      <td>43.935313</td>\n",
       "      <td>-78.869930</td>\n",
       "    </tr>\n",
       "    <tr>\n",
       "      <th>3</th>\n",
       "      <td>G</td>\n",
       "      <td>Sobeys Oshawa</td>\n",
       "      <td>blue</td>\n",
       "      <td>shopping-cart</td>\n",
       "      <td>43.939168</td>\n",
       "      <td>-78.859871</td>\n",
       "    </tr>\n",
       "    <tr>\n",
       "      <th>4</th>\n",
       "      <td>G</td>\n",
       "      <td>LIZ'S NOFRILLS OSHAWA</td>\n",
       "      <td>blue</td>\n",
       "      <td>shopping-cart</td>\n",
       "      <td>43.924503</td>\n",
       "      <td>-78.876085</td>\n",
       "    </tr>\n",
       "    <tr>\n",
       "      <th>5</th>\n",
       "      <td>G</td>\n",
       "      <td>Metro Taunton &amp; Ritson</td>\n",
       "      <td>blue</td>\n",
       "      <td>shopping-cart</td>\n",
       "      <td>43.932998</td>\n",
       "      <td>-78.868089</td>\n",
       "    </tr>\n",
       "    <tr>\n",
       "      <th>6</th>\n",
       "      <td>G</td>\n",
       "      <td>Oshawa North Supercentre</td>\n",
       "      <td>blue</td>\n",
       "      <td>shopping-cart</td>\n",
       "      <td>43.944471</td>\n",
       "      <td>-78.848846</td>\n",
       "    </tr>\n",
       "    <tr>\n",
       "      <th>7</th>\n",
       "      <td>G</td>\n",
       "      <td>Food Basics</td>\n",
       "      <td>blue</td>\n",
       "      <td>shopping-cart</td>\n",
       "      <td>43.919681</td>\n",
       "      <td>-78.850911</td>\n",
       "    </tr>\n",
       "    <tr>\n",
       "      <th>8</th>\n",
       "      <td>G</td>\n",
       "      <td>NADIM'S NOFRILLS OSHAWA</td>\n",
       "      <td>blue</td>\n",
       "      <td>shopping-cart</td>\n",
       "      <td>43.903951</td>\n",
       "      <td>-78.858549</td>\n",
       "    </tr>\n",
       "    <tr>\n",
       "      <th>9</th>\n",
       "      <td>G</td>\n",
       "      <td>Oshawa Supercentre</td>\n",
       "      <td>blue</td>\n",
       "      <td>shopping-cart</td>\n",
       "      <td>43.881164</td>\n",
       "      <td>-78.881831</td>\n",
       "    </tr>\n",
       "    <tr>\n",
       "      <th>10</th>\n",
       "      <td>O</td>\n",
       "      <td>Oshawa�Warehouse</td>\n",
       "      <td>orange</td>\n",
       "      <td>magnet</td>\n",
       "      <td>43.905203</td>\n",
       "      <td>-78.856215</td>\n",
       "    </tr>\n",
       "    <tr>\n",
       "      <th>11</th>\n",
       "      <td>E</td>\n",
       "      <td>Best Buy�First Pro Oshawa</td>\n",
       "      <td>purple</td>\n",
       "      <td>bolt</td>\n",
       "      <td>43.941558</td>\n",
       "      <td>-78.849613</td>\n",
       "    </tr>\n",
       "    <tr>\n",
       "      <th>12</th>\n",
       "      <td>E</td>\n",
       "      <td>The Source</td>\n",
       "      <td>purple</td>\n",
       "      <td>bolt</td>\n",
       "      <td>43.939439</td>\n",
       "      <td>-78.844661</td>\n",
       "    </tr>\n",
       "    <tr>\n",
       "      <th>13</th>\n",
       "      <td>F</td>\n",
       "      <td>Taco Bell</td>\n",
       "      <td>green</td>\n",
       "      <td>cutlery</td>\n",
       "      <td>43.929502</td>\n",
       "      <td>-78.877537</td>\n",
       "    </tr>\n",
       "    <tr>\n",
       "      <th>14</th>\n",
       "      <td>F</td>\n",
       "      <td>Arby's Oshawa</td>\n",
       "      <td>green</td>\n",
       "      <td>cutlery</td>\n",
       "      <td>43.935458</td>\n",
       "      <td>-78.868344</td>\n",
       "    </tr>\n",
       "    <tr>\n",
       "      <th>15</th>\n",
       "      <td>F</td>\n",
       "      <td>Osmow's (Simcoe/Niagara)</td>\n",
       "      <td>green</td>\n",
       "      <td>cutlery</td>\n",
       "      <td>43.943413</td>\n",
       "      <td>-78.890655</td>\n",
       "    </tr>\n",
       "    <tr>\n",
       "      <th>16</th>\n",
       "      <td>O</td>\n",
       "      <td>THE HOME DEPOT OSHAWA</td>\n",
       "      <td>orange</td>\n",
       "      <td>magnet</td>\n",
       "      <td>43.909387</td>\n",
       "      <td>-78.836302</td>\n",
       "    </tr>\n",
       "    <tr>\n",
       "      <th>17</th>\n",
       "      <td>C</td>\n",
       "      <td>WINNERS�Oshawa</td>\n",
       "      <td>red</td>\n",
       "      <td>user-secret</td>\n",
       "      <td>NaN</td>\n",
       "      <td>NaN</td>\n",
       "    </tr>\n",
       "    <tr>\n",
       "      <th>18</th>\n",
       "      <td>C</td>\n",
       "      <td>Marshalls Oshawa</td>\n",
       "      <td>red</td>\n",
       "      <td>user-secret</td>\n",
       "      <td>NaN</td>\n",
       "      <td>NaN</td>\n",
       "    </tr>\n",
       "    <tr>\n",
       "      <th>19</th>\n",
       "      <td>C</td>\n",
       "      <td>Reitmans Oshawa</td>\n",
       "      <td>red</td>\n",
       "      <td>user-secret</td>\n",
       "      <td>43.943211</td>\n",
       "      <td>-78.850961</td>\n",
       "    </tr>\n",
       "    <tr>\n",
       "      <th>20</th>\n",
       "      <td>C</td>\n",
       "      <td>Zara</td>\n",
       "      <td>red</td>\n",
       "      <td>user-secret</td>\n",
       "      <td>43.890025</td>\n",
       "      <td>-78.879217</td>\n",
       "    </tr>\n",
       "    <tr>\n",
       "      <th>21</th>\n",
       "      <td>C</td>\n",
       "      <td>Garage</td>\n",
       "      <td>red</td>\n",
       "      <td>user-secret</td>\n",
       "      <td>43.890025</td>\n",
       "      <td>-78.879217</td>\n",
       "    </tr>\n",
       "    <tr>\n",
       "      <th>22</th>\n",
       "      <td>C</td>\n",
       "      <td>Pink Canary</td>\n",
       "      <td>red</td>\n",
       "      <td>user-secret</td>\n",
       "      <td>43.890025</td>\n",
       "      <td>-78.879217</td>\n",
       "    </tr>\n",
       "    <tr>\n",
       "      <th>23</th>\n",
       "      <td>C</td>\n",
       "      <td>Dynamite</td>\n",
       "      <td>red</td>\n",
       "      <td>user-secret</td>\n",
       "      <td>43.890025</td>\n",
       "      <td>-78.879217</td>\n",
       "    </tr>\n",
       "    <tr>\n",
       "      <th>24</th>\n",
       "      <td>C</td>\n",
       "      <td>Roots</td>\n",
       "      <td>red</td>\n",
       "      <td>user-secret</td>\n",
       "      <td>43.890025</td>\n",
       "      <td>-78.879217</td>\n",
       "    </tr>\n",
       "    <tr>\n",
       "      <th>25</th>\n",
       "      <td>C</td>\n",
       "      <td>Mark's</td>\n",
       "      <td>red</td>\n",
       "      <td>user-secret</td>\n",
       "      <td>43.941446</td>\n",
       "      <td>-78.847895</td>\n",
       "    </tr>\n",
       "    <tr>\n",
       "      <th>26</th>\n",
       "      <td>C</td>\n",
       "      <td>Joe Fresh</td>\n",
       "      <td>red</td>\n",
       "      <td>user-secret</td>\n",
       "      <td>43.942852</td>\n",
       "      <td>-78.850801</td>\n",
       "    </tr>\n",
       "    <tr>\n",
       "      <th>27</th>\n",
       "      <td>F</td>\n",
       "      <td>Wendy's</td>\n",
       "      <td>green</td>\n",
       "      <td>cutlery</td>\n",
       "      <td>NaN</td>\n",
       "      <td>NaN</td>\n",
       "    </tr>\n",
       "    <tr>\n",
       "      <th>28</th>\n",
       "      <td>F</td>\n",
       "      <td>Shawarma 401</td>\n",
       "      <td>green</td>\n",
       "      <td>cutlery</td>\n",
       "      <td>43.939212</td>\n",
       "      <td>-78.859889</td>\n",
       "    </tr>\n",
       "    <tr>\n",
       "      <th>29</th>\n",
       "      <td>F</td>\n",
       "      <td>Harvey's</td>\n",
       "      <td>green</td>\n",
       "      <td>cutlery</td>\n",
       "      <td>43.935313</td>\n",
       "      <td>-78.869930</td>\n",
       "    </tr>\n",
       "    <tr>\n",
       "      <th>30</th>\n",
       "      <td>F</td>\n",
       "      <td>La Pizza &amp; Pasta</td>\n",
       "      <td>green</td>\n",
       "      <td>cutlery</td>\n",
       "      <td>43.933633</td>\n",
       "      <td>-78.877915</td>\n",
       "    </tr>\n",
       "    <tr>\n",
       "      <th>31</th>\n",
       "      <td>F</td>\n",
       "      <td>Rainbow Sushi</td>\n",
       "      <td>green</td>\n",
       "      <td>cutlery</td>\n",
       "      <td>43.928997</td>\n",
       "      <td>-78.877478</td>\n",
       "    </tr>\n",
       "    <tr>\n",
       "      <th>32</th>\n",
       "      <td>F</td>\n",
       "      <td>Bento Sushi</td>\n",
       "      <td>green</td>\n",
       "      <td>cutlery</td>\n",
       "      <td>43.935094</td>\n",
       "      <td>-78.868654</td>\n",
       "    </tr>\n",
       "    <tr>\n",
       "      <th>33</th>\n",
       "      <td>F</td>\n",
       "      <td>Subway</td>\n",
       "      <td>green</td>\n",
       "      <td>cutlery</td>\n",
       "      <td>43.919681</td>\n",
       "      <td>-78.850911</td>\n",
       "    </tr>\n",
       "  </tbody>\n",
       "</table>\n",
       "</div>"
      ],
      "text/plain": [
       "   Category                         Name   color          shape   latitude  \\\n",
       "0         G        FreshCo Simcoe & Byng    blue  shopping-cart  43.928184   \n",
       "1         G  FreshCo Simcoe & Winchester    blue  shopping-cart  43.964547   \n",
       "2         G          Giant Tiger, Oshawa    blue  shopping-cart  43.935313   \n",
       "3         G                Sobeys Oshawa    blue  shopping-cart  43.939168   \n",
       "4         G        LIZ'S NOFRILLS OSHAWA    blue  shopping-cart  43.924503   \n",
       "5         G       Metro Taunton & Ritson    blue  shopping-cart  43.932998   \n",
       "6         G     Oshawa North Supercentre    blue  shopping-cart  43.944471   \n",
       "7         G                  Food Basics    blue  shopping-cart  43.919681   \n",
       "8         G      NADIM'S NOFRILLS OSHAWA    blue  shopping-cart  43.903951   \n",
       "9         G           Oshawa Supercentre    blue  shopping-cart  43.881164   \n",
       "10        O             Oshawa�Warehouse  orange         magnet  43.905203   \n",
       "11        E    Best Buy�First Pro Oshawa  purple           bolt  43.941558   \n",
       "12        E                   The Source  purple           bolt  43.939439   \n",
       "13        F                    Taco Bell   green        cutlery  43.929502   \n",
       "14        F                Arby's Oshawa   green        cutlery  43.935458   \n",
       "15        F     Osmow's (Simcoe/Niagara)   green        cutlery  43.943413   \n",
       "16        O        THE HOME DEPOT OSHAWA  orange         magnet  43.909387   \n",
       "17        C               WINNERS�Oshawa     red    user-secret        NaN   \n",
       "18        C             Marshalls Oshawa     red    user-secret        NaN   \n",
       "19        C              Reitmans Oshawa     red    user-secret  43.943211   \n",
       "20        C                         Zara     red    user-secret  43.890025   \n",
       "21        C                       Garage     red    user-secret  43.890025   \n",
       "22        C                  Pink Canary     red    user-secret  43.890025   \n",
       "23        C                     Dynamite     red    user-secret  43.890025   \n",
       "24        C                        Roots     red    user-secret  43.890025   \n",
       "25        C                       Mark's     red    user-secret  43.941446   \n",
       "26        C                    Joe Fresh     red    user-secret  43.942852   \n",
       "27        F                      Wendy's   green        cutlery        NaN   \n",
       "28        F                 Shawarma 401   green        cutlery  43.939212   \n",
       "29        F                     Harvey's   green        cutlery  43.935313   \n",
       "30        F             La Pizza & Pasta   green        cutlery  43.933633   \n",
       "31        F                Rainbow Sushi   green        cutlery  43.928997   \n",
       "32        F                  Bento Sushi   green        cutlery  43.935094   \n",
       "33        F                       Subway   green        cutlery  43.919681   \n",
       "\n",
       "    longitude  \n",
       "0  -78.877090  \n",
       "1  -78.903629  \n",
       "2  -78.869930  \n",
       "3  -78.859871  \n",
       "4  -78.876085  \n",
       "5  -78.868089  \n",
       "6  -78.848846  \n",
       "7  -78.850911  \n",
       "8  -78.858549  \n",
       "9  -78.881831  \n",
       "10 -78.856215  \n",
       "11 -78.849613  \n",
       "12 -78.844661  \n",
       "13 -78.877537  \n",
       "14 -78.868344  \n",
       "15 -78.890655  \n",
       "16 -78.836302  \n",
       "17        NaN  \n",
       "18        NaN  \n",
       "19 -78.850961  \n",
       "20 -78.879217  \n",
       "21 -78.879217  \n",
       "22 -78.879217  \n",
       "23 -78.879217  \n",
       "24 -78.879217  \n",
       "25 -78.847895  \n",
       "26 -78.850801  \n",
       "27        NaN  \n",
       "28 -78.859889  \n",
       "29 -78.869930  \n",
       "30 -78.877915  \n",
       "31 -78.877478  \n",
       "32 -78.868654  \n",
       "33 -78.850911  "
      ]
     },
     "execution_count": 34,
     "metadata": {},
     "output_type": "execute_result"
    }
   ],
   "source": [
    "#Dropping irrelevant features\n",
    "df = df.drop(['Address 1', 'City', 'Province', 'Country','Postal Code','Telefon', 'ADDRESS', 'location', 'point','Number','altitude'], axis=1)\n",
    "df.head(40)"
   ]
  },
  {
   "cell_type": "code",
   "execution_count": 35,
   "id": "contemporary-macedonia",
   "metadata": {},
   "outputs": [],
   "source": [
    "# Dropping missing values\n",
    "df.dropna(subset = [\"latitude\",\"longitude\"], inplace=True)"
   ]
  },
  {
   "cell_type": "code",
   "execution_count": 36,
   "id": "small-hacker",
   "metadata": {
    "scrolled": true
   },
   "outputs": [
    {
     "data": {
      "text/html": [
       "<div>\n",
       "<style scoped>\n",
       "    .dataframe tbody tr th:only-of-type {\n",
       "        vertical-align: middle;\n",
       "    }\n",
       "\n",
       "    .dataframe tbody tr th {\n",
       "        vertical-align: top;\n",
       "    }\n",
       "\n",
       "    .dataframe thead th {\n",
       "        text-align: right;\n",
       "    }\n",
       "</style>\n",
       "<table border=\"1\" class=\"dataframe\">\n",
       "  <thead>\n",
       "    <tr style=\"text-align: right;\">\n",
       "      <th></th>\n",
       "      <th>Category</th>\n",
       "      <th>Name</th>\n",
       "      <th>color</th>\n",
       "      <th>shape</th>\n",
       "      <th>latitude</th>\n",
       "      <th>longitude</th>\n",
       "    </tr>\n",
       "  </thead>\n",
       "  <tbody>\n",
       "    <tr>\n",
       "      <th>0</th>\n",
       "      <td>G</td>\n",
       "      <td>FreshCo Simcoe &amp; Byng</td>\n",
       "      <td>blue</td>\n",
       "      <td>shopping-cart</td>\n",
       "      <td>43.928184</td>\n",
       "      <td>-78.877090</td>\n",
       "    </tr>\n",
       "    <tr>\n",
       "      <th>1</th>\n",
       "      <td>G</td>\n",
       "      <td>FreshCo Simcoe &amp; Winchester</td>\n",
       "      <td>blue</td>\n",
       "      <td>shopping-cart</td>\n",
       "      <td>43.964547</td>\n",
       "      <td>-78.903629</td>\n",
       "    </tr>\n",
       "    <tr>\n",
       "      <th>2</th>\n",
       "      <td>G</td>\n",
       "      <td>Giant Tiger, Oshawa</td>\n",
       "      <td>blue</td>\n",
       "      <td>shopping-cart</td>\n",
       "      <td>43.935313</td>\n",
       "      <td>-78.869930</td>\n",
       "    </tr>\n",
       "    <tr>\n",
       "      <th>3</th>\n",
       "      <td>G</td>\n",
       "      <td>Sobeys Oshawa</td>\n",
       "      <td>blue</td>\n",
       "      <td>shopping-cart</td>\n",
       "      <td>43.939168</td>\n",
       "      <td>-78.859871</td>\n",
       "    </tr>\n",
       "    <tr>\n",
       "      <th>4</th>\n",
       "      <td>G</td>\n",
       "      <td>LIZ'S NOFRILLS OSHAWA</td>\n",
       "      <td>blue</td>\n",
       "      <td>shopping-cart</td>\n",
       "      <td>43.924503</td>\n",
       "      <td>-78.876085</td>\n",
       "    </tr>\n",
       "    <tr>\n",
       "      <th>5</th>\n",
       "      <td>G</td>\n",
       "      <td>Metro Taunton &amp; Ritson</td>\n",
       "      <td>blue</td>\n",
       "      <td>shopping-cart</td>\n",
       "      <td>43.932998</td>\n",
       "      <td>-78.868089</td>\n",
       "    </tr>\n",
       "    <tr>\n",
       "      <th>6</th>\n",
       "      <td>G</td>\n",
       "      <td>Oshawa North Supercentre</td>\n",
       "      <td>blue</td>\n",
       "      <td>shopping-cart</td>\n",
       "      <td>43.944471</td>\n",
       "      <td>-78.848846</td>\n",
       "    </tr>\n",
       "    <tr>\n",
       "      <th>7</th>\n",
       "      <td>G</td>\n",
       "      <td>Food Basics</td>\n",
       "      <td>blue</td>\n",
       "      <td>shopping-cart</td>\n",
       "      <td>43.919681</td>\n",
       "      <td>-78.850911</td>\n",
       "    </tr>\n",
       "    <tr>\n",
       "      <th>8</th>\n",
       "      <td>G</td>\n",
       "      <td>NADIM'S NOFRILLS OSHAWA</td>\n",
       "      <td>blue</td>\n",
       "      <td>shopping-cart</td>\n",
       "      <td>43.903951</td>\n",
       "      <td>-78.858549</td>\n",
       "    </tr>\n",
       "    <tr>\n",
       "      <th>9</th>\n",
       "      <td>G</td>\n",
       "      <td>Oshawa Supercentre</td>\n",
       "      <td>blue</td>\n",
       "      <td>shopping-cart</td>\n",
       "      <td>43.881164</td>\n",
       "      <td>-78.881831</td>\n",
       "    </tr>\n",
       "    <tr>\n",
       "      <th>10</th>\n",
       "      <td>O</td>\n",
       "      <td>Oshawa�Warehouse</td>\n",
       "      <td>orange</td>\n",
       "      <td>magnet</td>\n",
       "      <td>43.905203</td>\n",
       "      <td>-78.856215</td>\n",
       "    </tr>\n",
       "    <tr>\n",
       "      <th>11</th>\n",
       "      <td>E</td>\n",
       "      <td>Best Buy�First Pro Oshawa</td>\n",
       "      <td>purple</td>\n",
       "      <td>bolt</td>\n",
       "      <td>43.941558</td>\n",
       "      <td>-78.849613</td>\n",
       "    </tr>\n",
       "    <tr>\n",
       "      <th>12</th>\n",
       "      <td>E</td>\n",
       "      <td>The Source</td>\n",
       "      <td>purple</td>\n",
       "      <td>bolt</td>\n",
       "      <td>43.939439</td>\n",
       "      <td>-78.844661</td>\n",
       "    </tr>\n",
       "    <tr>\n",
       "      <th>13</th>\n",
       "      <td>F</td>\n",
       "      <td>Taco Bell</td>\n",
       "      <td>green</td>\n",
       "      <td>cutlery</td>\n",
       "      <td>43.929502</td>\n",
       "      <td>-78.877537</td>\n",
       "    </tr>\n",
       "    <tr>\n",
       "      <th>14</th>\n",
       "      <td>F</td>\n",
       "      <td>Arby's Oshawa</td>\n",
       "      <td>green</td>\n",
       "      <td>cutlery</td>\n",
       "      <td>43.935458</td>\n",
       "      <td>-78.868344</td>\n",
       "    </tr>\n",
       "    <tr>\n",
       "      <th>15</th>\n",
       "      <td>F</td>\n",
       "      <td>Osmow's (Simcoe/Niagara)</td>\n",
       "      <td>green</td>\n",
       "      <td>cutlery</td>\n",
       "      <td>43.943413</td>\n",
       "      <td>-78.890655</td>\n",
       "    </tr>\n",
       "    <tr>\n",
       "      <th>16</th>\n",
       "      <td>O</td>\n",
       "      <td>THE HOME DEPOT OSHAWA</td>\n",
       "      <td>orange</td>\n",
       "      <td>magnet</td>\n",
       "      <td>43.909387</td>\n",
       "      <td>-78.836302</td>\n",
       "    </tr>\n",
       "    <tr>\n",
       "      <th>19</th>\n",
       "      <td>C</td>\n",
       "      <td>Reitmans Oshawa</td>\n",
       "      <td>red</td>\n",
       "      <td>user-secret</td>\n",
       "      <td>43.943211</td>\n",
       "      <td>-78.850961</td>\n",
       "    </tr>\n",
       "    <tr>\n",
       "      <th>20</th>\n",
       "      <td>C</td>\n",
       "      <td>Zara</td>\n",
       "      <td>red</td>\n",
       "      <td>user-secret</td>\n",
       "      <td>43.890025</td>\n",
       "      <td>-78.879217</td>\n",
       "    </tr>\n",
       "    <tr>\n",
       "      <th>21</th>\n",
       "      <td>C</td>\n",
       "      <td>Garage</td>\n",
       "      <td>red</td>\n",
       "      <td>user-secret</td>\n",
       "      <td>43.890025</td>\n",
       "      <td>-78.879217</td>\n",
       "    </tr>\n",
       "    <tr>\n",
       "      <th>22</th>\n",
       "      <td>C</td>\n",
       "      <td>Pink Canary</td>\n",
       "      <td>red</td>\n",
       "      <td>user-secret</td>\n",
       "      <td>43.890025</td>\n",
       "      <td>-78.879217</td>\n",
       "    </tr>\n",
       "    <tr>\n",
       "      <th>23</th>\n",
       "      <td>C</td>\n",
       "      <td>Dynamite</td>\n",
       "      <td>red</td>\n",
       "      <td>user-secret</td>\n",
       "      <td>43.890025</td>\n",
       "      <td>-78.879217</td>\n",
       "    </tr>\n",
       "    <tr>\n",
       "      <th>24</th>\n",
       "      <td>C</td>\n",
       "      <td>Roots</td>\n",
       "      <td>red</td>\n",
       "      <td>user-secret</td>\n",
       "      <td>43.890025</td>\n",
       "      <td>-78.879217</td>\n",
       "    </tr>\n",
       "    <tr>\n",
       "      <th>25</th>\n",
       "      <td>C</td>\n",
       "      <td>Mark's</td>\n",
       "      <td>red</td>\n",
       "      <td>user-secret</td>\n",
       "      <td>43.941446</td>\n",
       "      <td>-78.847895</td>\n",
       "    </tr>\n",
       "    <tr>\n",
       "      <th>26</th>\n",
       "      <td>C</td>\n",
       "      <td>Joe Fresh</td>\n",
       "      <td>red</td>\n",
       "      <td>user-secret</td>\n",
       "      <td>43.942852</td>\n",
       "      <td>-78.850801</td>\n",
       "    </tr>\n",
       "    <tr>\n",
       "      <th>28</th>\n",
       "      <td>F</td>\n",
       "      <td>Shawarma 401</td>\n",
       "      <td>green</td>\n",
       "      <td>cutlery</td>\n",
       "      <td>43.939212</td>\n",
       "      <td>-78.859889</td>\n",
       "    </tr>\n",
       "    <tr>\n",
       "      <th>29</th>\n",
       "      <td>F</td>\n",
       "      <td>Harvey's</td>\n",
       "      <td>green</td>\n",
       "      <td>cutlery</td>\n",
       "      <td>43.935313</td>\n",
       "      <td>-78.869930</td>\n",
       "    </tr>\n",
       "    <tr>\n",
       "      <th>30</th>\n",
       "      <td>F</td>\n",
       "      <td>La Pizza &amp; Pasta</td>\n",
       "      <td>green</td>\n",
       "      <td>cutlery</td>\n",
       "      <td>43.933633</td>\n",
       "      <td>-78.877915</td>\n",
       "    </tr>\n",
       "    <tr>\n",
       "      <th>31</th>\n",
       "      <td>F</td>\n",
       "      <td>Rainbow Sushi</td>\n",
       "      <td>green</td>\n",
       "      <td>cutlery</td>\n",
       "      <td>43.928997</td>\n",
       "      <td>-78.877478</td>\n",
       "    </tr>\n",
       "    <tr>\n",
       "      <th>32</th>\n",
       "      <td>F</td>\n",
       "      <td>Bento Sushi</td>\n",
       "      <td>green</td>\n",
       "      <td>cutlery</td>\n",
       "      <td>43.935094</td>\n",
       "      <td>-78.868654</td>\n",
       "    </tr>\n",
       "    <tr>\n",
       "      <th>33</th>\n",
       "      <td>F</td>\n",
       "      <td>Subway</td>\n",
       "      <td>green</td>\n",
       "      <td>cutlery</td>\n",
       "      <td>43.919681</td>\n",
       "      <td>-78.850911</td>\n",
       "    </tr>\n",
       "  </tbody>\n",
       "</table>\n",
       "</div>"
      ],
      "text/plain": [
       "   Category                         Name   color          shape   latitude  \\\n",
       "0         G        FreshCo Simcoe & Byng    blue  shopping-cart  43.928184   \n",
       "1         G  FreshCo Simcoe & Winchester    blue  shopping-cart  43.964547   \n",
       "2         G          Giant Tiger, Oshawa    blue  shopping-cart  43.935313   \n",
       "3         G                Sobeys Oshawa    blue  shopping-cart  43.939168   \n",
       "4         G        LIZ'S NOFRILLS OSHAWA    blue  shopping-cart  43.924503   \n",
       "5         G       Metro Taunton & Ritson    blue  shopping-cart  43.932998   \n",
       "6         G     Oshawa North Supercentre    blue  shopping-cart  43.944471   \n",
       "7         G                  Food Basics    blue  shopping-cart  43.919681   \n",
       "8         G      NADIM'S NOFRILLS OSHAWA    blue  shopping-cart  43.903951   \n",
       "9         G           Oshawa Supercentre    blue  shopping-cart  43.881164   \n",
       "10        O             Oshawa�Warehouse  orange         magnet  43.905203   \n",
       "11        E    Best Buy�First Pro Oshawa  purple           bolt  43.941558   \n",
       "12        E                   The Source  purple           bolt  43.939439   \n",
       "13        F                    Taco Bell   green        cutlery  43.929502   \n",
       "14        F                Arby's Oshawa   green        cutlery  43.935458   \n",
       "15        F     Osmow's (Simcoe/Niagara)   green        cutlery  43.943413   \n",
       "16        O        THE HOME DEPOT OSHAWA  orange         magnet  43.909387   \n",
       "19        C              Reitmans Oshawa     red    user-secret  43.943211   \n",
       "20        C                         Zara     red    user-secret  43.890025   \n",
       "21        C                       Garage     red    user-secret  43.890025   \n",
       "22        C                  Pink Canary     red    user-secret  43.890025   \n",
       "23        C                     Dynamite     red    user-secret  43.890025   \n",
       "24        C                        Roots     red    user-secret  43.890025   \n",
       "25        C                       Mark's     red    user-secret  43.941446   \n",
       "26        C                    Joe Fresh     red    user-secret  43.942852   \n",
       "28        F                 Shawarma 401   green        cutlery  43.939212   \n",
       "29        F                     Harvey's   green        cutlery  43.935313   \n",
       "30        F             La Pizza & Pasta   green        cutlery  43.933633   \n",
       "31        F                Rainbow Sushi   green        cutlery  43.928997   \n",
       "32        F                  Bento Sushi   green        cutlery  43.935094   \n",
       "33        F                       Subway   green        cutlery  43.919681   \n",
       "\n",
       "    longitude  \n",
       "0  -78.877090  \n",
       "1  -78.903629  \n",
       "2  -78.869930  \n",
       "3  -78.859871  \n",
       "4  -78.876085  \n",
       "5  -78.868089  \n",
       "6  -78.848846  \n",
       "7  -78.850911  \n",
       "8  -78.858549  \n",
       "9  -78.881831  \n",
       "10 -78.856215  \n",
       "11 -78.849613  \n",
       "12 -78.844661  \n",
       "13 -78.877537  \n",
       "14 -78.868344  \n",
       "15 -78.890655  \n",
       "16 -78.836302  \n",
       "19 -78.850961  \n",
       "20 -78.879217  \n",
       "21 -78.879217  \n",
       "22 -78.879217  \n",
       "23 -78.879217  \n",
       "24 -78.879217  \n",
       "25 -78.847895  \n",
       "26 -78.850801  \n",
       "28 -78.859889  \n",
       "29 -78.869930  \n",
       "30 -78.877915  \n",
       "31 -78.877478  \n",
       "32 -78.868654  \n",
       "33 -78.850911  "
      ]
     },
     "execution_count": 36,
     "metadata": {},
     "output_type": "execute_result"
    }
   ],
   "source": [
    "df.head(40)"
   ]
  },
  {
   "cell_type": "markdown",
   "id": "random-decline",
   "metadata": {},
   "source": [
    "# Asking for user's address"
   ]
  },
  {
   "cell_type": "code",
   "execution_count": 37,
   "id": "dated-bahrain",
   "metadata": {
    "scrolled": false
   },
   "outputs": [
    {
     "name": "stdout",
     "output_type": "stream",
     "text": [
      "Enter your street number:56\n",
      "Enter your street name:Norland Circle\n",
      "Enter your City:Oshawa\n",
      "Enter your province:Ontario\n"
     ]
    },
    {
     "data": {
      "text/plain": [
       "'56 Norland Circle,Oshawa,Ontario, Canada'"
      ]
     },
     "execution_count": 37,
     "metadata": {},
     "output_type": "execute_result"
    }
   ],
   "source": [
    "#Getting user input\n",
    "user_add1=input(\"Enter your street number:\")\n",
    "user_add2=input(\"Enter your street name:\")\n",
    "user_add3=input(\"Enter your City:\")\n",
    "user_add4=input(\"Enter your province:\")\n",
    "user_ADD=str(user_add1)+\" \"+str(user_add2)+\",\"+str(user_add3)+\",\"+str(user_add4)+\", Canada\"\n",
    "user_ADD\n"
   ]
  },
  {
   "cell_type": "code",
   "execution_count": 38,
   "id": "about-korea",
   "metadata": {},
   "outputs": [
    {
     "name": "stdout",
     "output_type": "stream",
     "text": [
      "Where do you want to visit(Groceries(G)/Electronics(E)/Food(F)/Clothing(C)/Others(O)):G\n",
      "Do you want to visit anywhere else?(yes(y)/no(n)):y\n",
      "Where do you want to visit(Groceries(G)/Electronics(E)/Food(F)/Clothing(C)/Others(O)):E\n",
      "Do you want to visit anywhere else?(yes(y)/no(n)):y\n",
      "Where do you want to visit(Groceries(G)/Electronics(E)/Food(F)/Clothing(C)/Others(O)):O\n",
      "Do you want to visit anywhere else?(yes(y)/no(n)):n\n"
     ]
    }
   ],
   "source": [
    "#The places user want to visit\n",
    "places_to_visit=[]\n",
    "ans='y'\n",
    "while(ans!='n'):\n",
    "    x=input(\"Where do you want to visit(Groceries(G)/Electronics(E)/Food(F)/Clothing(C)/Others(O)):\")\n",
    "    places_to_visit.append(x)\n",
    "    ans=input(\"Do you want to visit anywhere else?(yes(y)/no(n)):\")"
   ]
  },
  {
   "cell_type": "code",
   "execution_count": 39,
   "id": "familiar-designation",
   "metadata": {
    "scrolled": false
   },
   "outputs": [
    {
     "data": {
      "text/plain": [
       "['G', 'E', 'O']"
      ]
     },
     "execution_count": 39,
     "metadata": {},
     "output_type": "execute_result"
    }
   ],
   "source": [
    "#creating list of places user want to visit\n",
    "places_to_visit"
   ]
  },
  {
   "cell_type": "markdown",
   "id": "egyptian-haven",
   "metadata": {},
   "source": [
    "# Saving user's lattitude and longitude"
   ]
  },
  {
   "cell_type": "code",
   "execution_count": 40,
   "id": "agreed-jacob",
   "metadata": {},
   "outputs": [
    {
     "name": "stdout",
     "output_type": "stream",
     "text": [
      "User Latitude = 43.94987915, User Longitude = -78.89279710771785\n"
     ]
    }
   ],
   "source": [
    "#Calculating user latitude and longitude\n",
    "user_locator = Nominatim(user_agent='nandinimalhotra04@gmail.com')\n",
    "user_location = user_locator.geocode(user_ADD)\n",
    "print('User Latitude = {}, User Longitude = {}'.format(user_location.latitude, user_location.longitude))"
   ]
  },
  {
   "cell_type": "code",
   "execution_count": 41,
   "id": "german-mistake",
   "metadata": {},
   "outputs": [],
   "source": [
    "#Storing the user latitude and longitude in the variables\n",
    "user_latitude=user_location[-1][0]\n",
    "user_longitude=user_location[-1][1]"
   ]
  },
  {
   "cell_type": "markdown",
   "id": "opening-hundred",
   "metadata": {},
   "source": [
    "# Knowing the user's destinations "
   ]
  },
  {
   "cell_type": "code",
   "execution_count": 42,
   "id": "exceptional-subscriber",
   "metadata": {
    "scrolled": false
   },
   "outputs": [
    {
     "data": {
      "text/html": [
       "<div>\n",
       "<style scoped>\n",
       "    .dataframe tbody tr th:only-of-type {\n",
       "        vertical-align: middle;\n",
       "    }\n",
       "\n",
       "    .dataframe tbody tr th {\n",
       "        vertical-align: top;\n",
       "    }\n",
       "\n",
       "    .dataframe thead th {\n",
       "        text-align: right;\n",
       "    }\n",
       "</style>\n",
       "<table border=\"1\" class=\"dataframe\">\n",
       "  <thead>\n",
       "    <tr style=\"text-align: right;\">\n",
       "      <th></th>\n",
       "      <th>Category</th>\n",
       "      <th>Name</th>\n",
       "      <th>color</th>\n",
       "      <th>shape</th>\n",
       "      <th>latitude</th>\n",
       "      <th>longitude</th>\n",
       "    </tr>\n",
       "  </thead>\n",
       "  <tbody>\n",
       "    <tr>\n",
       "      <th>0</th>\n",
       "      <td>G</td>\n",
       "      <td>FreshCo Simcoe &amp; Byng</td>\n",
       "      <td>blue</td>\n",
       "      <td>shopping-cart</td>\n",
       "      <td>43.928184</td>\n",
       "      <td>-78.877090</td>\n",
       "    </tr>\n",
       "    <tr>\n",
       "      <th>1</th>\n",
       "      <td>G</td>\n",
       "      <td>FreshCo Simcoe &amp; Winchester</td>\n",
       "      <td>blue</td>\n",
       "      <td>shopping-cart</td>\n",
       "      <td>43.964547</td>\n",
       "      <td>-78.903629</td>\n",
       "    </tr>\n",
       "    <tr>\n",
       "      <th>2</th>\n",
       "      <td>G</td>\n",
       "      <td>Giant Tiger, Oshawa</td>\n",
       "      <td>blue</td>\n",
       "      <td>shopping-cart</td>\n",
       "      <td>43.935313</td>\n",
       "      <td>-78.869930</td>\n",
       "    </tr>\n",
       "    <tr>\n",
       "      <th>3</th>\n",
       "      <td>G</td>\n",
       "      <td>Sobeys Oshawa</td>\n",
       "      <td>blue</td>\n",
       "      <td>shopping-cart</td>\n",
       "      <td>43.939168</td>\n",
       "      <td>-78.859871</td>\n",
       "    </tr>\n",
       "    <tr>\n",
       "      <th>4</th>\n",
       "      <td>G</td>\n",
       "      <td>LIZ'S NOFRILLS OSHAWA</td>\n",
       "      <td>blue</td>\n",
       "      <td>shopping-cart</td>\n",
       "      <td>43.924503</td>\n",
       "      <td>-78.876085</td>\n",
       "    </tr>\n",
       "    <tr>\n",
       "      <th>5</th>\n",
       "      <td>G</td>\n",
       "      <td>Metro Taunton &amp; Ritson</td>\n",
       "      <td>blue</td>\n",
       "      <td>shopping-cart</td>\n",
       "      <td>43.932998</td>\n",
       "      <td>-78.868089</td>\n",
       "    </tr>\n",
       "    <tr>\n",
       "      <th>6</th>\n",
       "      <td>G</td>\n",
       "      <td>Oshawa North Supercentre</td>\n",
       "      <td>blue</td>\n",
       "      <td>shopping-cart</td>\n",
       "      <td>43.944471</td>\n",
       "      <td>-78.848846</td>\n",
       "    </tr>\n",
       "    <tr>\n",
       "      <th>7</th>\n",
       "      <td>G</td>\n",
       "      <td>Food Basics</td>\n",
       "      <td>blue</td>\n",
       "      <td>shopping-cart</td>\n",
       "      <td>43.919681</td>\n",
       "      <td>-78.850911</td>\n",
       "    </tr>\n",
       "    <tr>\n",
       "      <th>8</th>\n",
       "      <td>G</td>\n",
       "      <td>NADIM'S NOFRILLS OSHAWA</td>\n",
       "      <td>blue</td>\n",
       "      <td>shopping-cart</td>\n",
       "      <td>43.903951</td>\n",
       "      <td>-78.858549</td>\n",
       "    </tr>\n",
       "    <tr>\n",
       "      <th>9</th>\n",
       "      <td>G</td>\n",
       "      <td>Oshawa Supercentre</td>\n",
       "      <td>blue</td>\n",
       "      <td>shopping-cart</td>\n",
       "      <td>43.881164</td>\n",
       "      <td>-78.881831</td>\n",
       "    </tr>\n",
       "    <tr>\n",
       "      <th>10</th>\n",
       "      <td>O</td>\n",
       "      <td>Oshawa�Warehouse</td>\n",
       "      <td>orange</td>\n",
       "      <td>magnet</td>\n",
       "      <td>43.905203</td>\n",
       "      <td>-78.856215</td>\n",
       "    </tr>\n",
       "    <tr>\n",
       "      <th>11</th>\n",
       "      <td>E</td>\n",
       "      <td>Best Buy�First Pro Oshawa</td>\n",
       "      <td>purple</td>\n",
       "      <td>bolt</td>\n",
       "      <td>43.941558</td>\n",
       "      <td>-78.849613</td>\n",
       "    </tr>\n",
       "    <tr>\n",
       "      <th>12</th>\n",
       "      <td>E</td>\n",
       "      <td>The Source</td>\n",
       "      <td>purple</td>\n",
       "      <td>bolt</td>\n",
       "      <td>43.939439</td>\n",
       "      <td>-78.844661</td>\n",
       "    </tr>\n",
       "    <tr>\n",
       "      <th>13</th>\n",
       "      <td>O</td>\n",
       "      <td>THE HOME DEPOT OSHAWA</td>\n",
       "      <td>orange</td>\n",
       "      <td>magnet</td>\n",
       "      <td>43.909387</td>\n",
       "      <td>-78.836302</td>\n",
       "    </tr>\n",
       "  </tbody>\n",
       "</table>\n",
       "</div>"
      ],
      "text/plain": [
       "   Category                         Name   color          shape   latitude  \\\n",
       "0         G        FreshCo Simcoe & Byng    blue  shopping-cart  43.928184   \n",
       "1         G  FreshCo Simcoe & Winchester    blue  shopping-cart  43.964547   \n",
       "2         G          Giant Tiger, Oshawa    blue  shopping-cart  43.935313   \n",
       "3         G                Sobeys Oshawa    blue  shopping-cart  43.939168   \n",
       "4         G        LIZ'S NOFRILLS OSHAWA    blue  shopping-cart  43.924503   \n",
       "5         G       Metro Taunton & Ritson    blue  shopping-cart  43.932998   \n",
       "6         G     Oshawa North Supercentre    blue  shopping-cart  43.944471   \n",
       "7         G                  Food Basics    blue  shopping-cart  43.919681   \n",
       "8         G      NADIM'S NOFRILLS OSHAWA    blue  shopping-cart  43.903951   \n",
       "9         G           Oshawa Supercentre    blue  shopping-cart  43.881164   \n",
       "10        O             Oshawa�Warehouse  orange         magnet  43.905203   \n",
       "11        E    Best Buy�First Pro Oshawa  purple           bolt  43.941558   \n",
       "12        E                   The Source  purple           bolt  43.939439   \n",
       "13        O        THE HOME DEPOT OSHAWA  orange         magnet  43.909387   \n",
       "\n",
       "    longitude  \n",
       "0  -78.877090  \n",
       "1  -78.903629  \n",
       "2  -78.869930  \n",
       "3  -78.859871  \n",
       "4  -78.876085  \n",
       "5  -78.868089  \n",
       "6  -78.848846  \n",
       "7  -78.850911  \n",
       "8  -78.858549  \n",
       "9  -78.881831  \n",
       "10 -78.856215  \n",
       "11 -78.849613  \n",
       "12 -78.844661  \n",
       "13 -78.836302  "
      ]
     },
     "execution_count": 42,
     "metadata": {},
     "output_type": "execute_result"
    }
   ],
   "source": [
    "#Filtering the dataset so as to keep just the categories that are to be visited\n",
    "df_narrowed=df[df['Category'].isin(places_to_visit)].reset_index(drop=True)\n",
    "df_narrowed"
   ]
  },
  {
   "cell_type": "markdown",
   "id": "stretch-webmaster",
   "metadata": {},
   "source": [
    "# Shortest path dataset"
   ]
  },
  {
   "cell_type": "code",
   "execution_count": 43,
   "id": "residential-sharp",
   "metadata": {},
   "outputs": [
    {
     "data": {
      "text/html": [
       "<div>\n",
       "<style scoped>\n",
       "    .dataframe tbody tr th:only-of-type {\n",
       "        vertical-align: middle;\n",
       "    }\n",
       "\n",
       "    .dataframe tbody tr th {\n",
       "        vertical-align: top;\n",
       "    }\n",
       "\n",
       "    .dataframe thead th {\n",
       "        text-align: right;\n",
       "    }\n",
       "</style>\n",
       "<table border=\"1\" class=\"dataframe\">\n",
       "  <thead>\n",
       "    <tr style=\"text-align: right;\">\n",
       "      <th></th>\n",
       "      <th>Category</th>\n",
       "      <th>Name</th>\n",
       "      <th>latitude</th>\n",
       "      <th>longitude</th>\n",
       "      <th>Distance(km)</th>\n",
       "      <th>color</th>\n",
       "      <th>shape</th>\n",
       "    </tr>\n",
       "  </thead>\n",
       "  <tbody>\n",
       "    <tr>\n",
       "      <th>0</th>\n",
       "      <td>User</td>\n",
       "      <td>Home Address</td>\n",
       "      <td>43.949879</td>\n",
       "      <td>-78.892797</td>\n",
       "      <td>0</td>\n",
       "      <td>pink</td>\n",
       "      <td>male</td>\n",
       "    </tr>\n",
       "  </tbody>\n",
       "</table>\n",
       "</div>"
      ],
      "text/plain": [
       "  Category          Name   latitude  longitude  Distance(km) color shape\n",
       "0     User  Home Address  43.949879 -78.892797             0  pink  male"
      ]
     },
     "execution_count": 43,
     "metadata": {},
     "output_type": "execute_result"
    }
   ],
   "source": [
    "# Creating a new dataset that will contain the final destination\n",
    "data=[['User','Home Address',user_latitude,user_longitude,0,'pink','male']]\n",
    "df_short = pd.DataFrame(data, columns = ['Category','Name','latitude','longitude','Distance(km)','color','shape']) \n",
    "df_short"
   ]
  },
  {
   "cell_type": "markdown",
   "id": "separated-civilian",
   "metadata": {},
   "source": [
    "# Calculating the distance of all location from user's location and storing it as a column in dataset"
   ]
  },
  {
   "cell_type": "code",
   "execution_count": 44,
   "id": "banner-burke",
   "metadata": {
    "scrolled": true
   },
   "outputs": [
    {
     "name": "stderr",
     "output_type": "stream",
     "text": [
      "<ipython-input-44-a06395bcdee8>:17: SettingWithCopyWarning:\n",
      "\n",
      "\n",
      "A value is trying to be set on a copy of a slice from a DataFrame\n",
      "\n",
      "See the caveats in the documentation: https://pandas.pydata.org/pandas-docs/stable/user_guide/indexing.html#returning-a-view-versus-a-copy\n",
      "\n"
     ]
    },
    {
     "name": "stdout",
     "output_type": "stream",
     "text": [
      "Data frame with all the distances\n"
     ]
    },
    {
     "data": {
      "text/html": [
       "<div>\n",
       "<style scoped>\n",
       "    .dataframe tbody tr th:only-of-type {\n",
       "        vertical-align: middle;\n",
       "    }\n",
       "\n",
       "    .dataframe tbody tr th {\n",
       "        vertical-align: top;\n",
       "    }\n",
       "\n",
       "    .dataframe thead th {\n",
       "        text-align: right;\n",
       "    }\n",
       "</style>\n",
       "<table border=\"1\" class=\"dataframe\">\n",
       "  <thead>\n",
       "    <tr style=\"text-align: right;\">\n",
       "      <th></th>\n",
       "      <th>Category</th>\n",
       "      <th>Name</th>\n",
       "      <th>color</th>\n",
       "      <th>shape</th>\n",
       "      <th>latitude</th>\n",
       "      <th>longitude</th>\n",
       "      <th>Distance</th>\n",
       "      <th>Distance(km)</th>\n",
       "      <th>Distance(Haversine)</th>\n",
       "    </tr>\n",
       "  </thead>\n",
       "  <tbody>\n",
       "    <tr>\n",
       "      <th>0</th>\n",
       "      <td>G</td>\n",
       "      <td>FreshCo Simcoe &amp; Winchester</td>\n",
       "      <td>blue</td>\n",
       "      <td>shopping-cart</td>\n",
       "      <td>43.964547</td>\n",
       "      <td>-78.903629</td>\n",
       "      <td>2213</td>\n",
       "      <td>2.213</td>\n",
       "      <td>1.845938</td>\n",
       "    </tr>\n",
       "    <tr>\n",
       "      <th>1</th>\n",
       "      <td>G</td>\n",
       "      <td>Giant Tiger, Oshawa</td>\n",
       "      <td>blue</td>\n",
       "      <td>shopping-cart</td>\n",
       "      <td>43.935313</td>\n",
       "      <td>-78.869930</td>\n",
       "      <td>3644</td>\n",
       "      <td>3.644</td>\n",
       "      <td>2.442910</td>\n",
       "    </tr>\n",
       "    <tr>\n",
       "      <th>2</th>\n",
       "      <td>G</td>\n",
       "      <td>FreshCo Simcoe &amp; Byng</td>\n",
       "      <td>blue</td>\n",
       "      <td>shopping-cart</td>\n",
       "      <td>43.928184</td>\n",
       "      <td>-78.877090</td>\n",
       "      <td>3698</td>\n",
       "      <td>3.698</td>\n",
       "      <td>2.718829</td>\n",
       "    </tr>\n",
       "    <tr>\n",
       "      <th>3</th>\n",
       "      <td>G</td>\n",
       "      <td>Metro Taunton &amp; Ritson</td>\n",
       "      <td>blue</td>\n",
       "      <td>shopping-cart</td>\n",
       "      <td>43.932998</td>\n",
       "      <td>-78.868089</td>\n",
       "      <td>4074</td>\n",
       "      <td>4.074</td>\n",
       "      <td>2.725366</td>\n",
       "    </tr>\n",
       "    <tr>\n",
       "      <th>4</th>\n",
       "      <td>G</td>\n",
       "      <td>LIZ'S NOFRILLS OSHAWA</td>\n",
       "      <td>blue</td>\n",
       "      <td>shopping-cart</td>\n",
       "      <td>43.924503</td>\n",
       "      <td>-78.876085</td>\n",
       "      <td>4165</td>\n",
       "      <td>4.165</td>\n",
       "      <td>3.121023</td>\n",
       "    </tr>\n",
       "    <tr>\n",
       "      <th>5</th>\n",
       "      <td>G</td>\n",
       "      <td>Sobeys Oshawa</td>\n",
       "      <td>blue</td>\n",
       "      <td>shopping-cart</td>\n",
       "      <td>43.939168</td>\n",
       "      <td>-78.859871</td>\n",
       "      <td>4185</td>\n",
       "      <td>4.185</td>\n",
       "      <td>2.890902</td>\n",
       "    </tr>\n",
       "    <tr>\n",
       "      <th>6</th>\n",
       "      <td>G</td>\n",
       "      <td>Oshawa North Supercentre</td>\n",
       "      <td>blue</td>\n",
       "      <td>shopping-cart</td>\n",
       "      <td>43.944471</td>\n",
       "      <td>-78.848846</td>\n",
       "      <td>5059</td>\n",
       "      <td>5.059</td>\n",
       "      <td>3.567436</td>\n",
       "    </tr>\n",
       "    <tr>\n",
       "      <th>7</th>\n",
       "      <td>E</td>\n",
       "      <td>Best Buy�First Pro Oshawa</td>\n",
       "      <td>purple</td>\n",
       "      <td>bolt</td>\n",
       "      <td>43.941558</td>\n",
       "      <td>-78.849613</td>\n",
       "      <td>5272</td>\n",
       "      <td>5.272</td>\n",
       "      <td>3.576727</td>\n",
       "    </tr>\n",
       "    <tr>\n",
       "      <th>8</th>\n",
       "      <td>E</td>\n",
       "      <td>The Source</td>\n",
       "      <td>purple</td>\n",
       "      <td>bolt</td>\n",
       "      <td>43.939439</td>\n",
       "      <td>-78.844661</td>\n",
       "      <td>5746</td>\n",
       "      <td>5.746</td>\n",
       "      <td>4.022388</td>\n",
       "    </tr>\n",
       "    <tr>\n",
       "      <th>9</th>\n",
       "      <td>G</td>\n",
       "      <td>Food Basics</td>\n",
       "      <td>blue</td>\n",
       "      <td>shopping-cart</td>\n",
       "      <td>43.919681</td>\n",
       "      <td>-78.850911</td>\n",
       "      <td>6695</td>\n",
       "      <td>6.695</td>\n",
       "      <td>4.743097</td>\n",
       "    </tr>\n",
       "    <tr>\n",
       "      <th>10</th>\n",
       "      <td>O</td>\n",
       "      <td>Oshawa�Warehouse</td>\n",
       "      <td>orange</td>\n",
       "      <td>magnet</td>\n",
       "      <td>43.905203</td>\n",
       "      <td>-78.856215</td>\n",
       "      <td>7114</td>\n",
       "      <td>7.114</td>\n",
       "      <td>5.763632</td>\n",
       "    </tr>\n",
       "    <tr>\n",
       "      <th>11</th>\n",
       "      <td>G</td>\n",
       "      <td>NADIM'S NOFRILLS OSHAWA</td>\n",
       "      <td>blue</td>\n",
       "      <td>shopping-cart</td>\n",
       "      <td>43.903951</td>\n",
       "      <td>-78.858549</td>\n",
       "      <td>7423</td>\n",
       "      <td>7.423</td>\n",
       "      <td>5.793313</td>\n",
       "    </tr>\n",
       "    <tr>\n",
       "      <th>12</th>\n",
       "      <td>O</td>\n",
       "      <td>THE HOME DEPOT OSHAWA</td>\n",
       "      <td>orange</td>\n",
       "      <td>magnet</td>\n",
       "      <td>43.909387</td>\n",
       "      <td>-78.836302</td>\n",
       "      <td>8814</td>\n",
       "      <td>8.814</td>\n",
       "      <td>6.378855</td>\n",
       "    </tr>\n",
       "    <tr>\n",
       "      <th>13</th>\n",
       "      <td>G</td>\n",
       "      <td>Oshawa Supercentre</td>\n",
       "      <td>blue</td>\n",
       "      <td>shopping-cart</td>\n",
       "      <td>43.881164</td>\n",
       "      <td>-78.881831</td>\n",
       "      <td>10868</td>\n",
       "      <td>10.868</td>\n",
       "      <td>7.686297</td>\n",
       "    </tr>\n",
       "  </tbody>\n",
       "</table>\n",
       "</div>"
      ],
      "text/plain": [
       "   Category                         Name   color          shape   latitude  \\\n",
       "0         G  FreshCo Simcoe & Winchester    blue  shopping-cart  43.964547   \n",
       "1         G          Giant Tiger, Oshawa    blue  shopping-cart  43.935313   \n",
       "2         G        FreshCo Simcoe & Byng    blue  shopping-cart  43.928184   \n",
       "3         G       Metro Taunton & Ritson    blue  shopping-cart  43.932998   \n",
       "4         G        LIZ'S NOFRILLS OSHAWA    blue  shopping-cart  43.924503   \n",
       "5         G                Sobeys Oshawa    blue  shopping-cart  43.939168   \n",
       "6         G     Oshawa North Supercentre    blue  shopping-cart  43.944471   \n",
       "7         E    Best Buy�First Pro Oshawa  purple           bolt  43.941558   \n",
       "8         E                   The Source  purple           bolt  43.939439   \n",
       "9         G                  Food Basics    blue  shopping-cart  43.919681   \n",
       "10        O             Oshawa�Warehouse  orange         magnet  43.905203   \n",
       "11        G      NADIM'S NOFRILLS OSHAWA    blue  shopping-cart  43.903951   \n",
       "12        O        THE HOME DEPOT OSHAWA  orange         magnet  43.909387   \n",
       "13        G           Oshawa Supercentre    blue  shopping-cart  43.881164   \n",
       "\n",
       "    longitude  Distance  Distance(km)  Distance(Haversine)  \n",
       "0  -78.903629      2213         2.213             1.845938  \n",
       "1  -78.869930      3644         3.644             2.442910  \n",
       "2  -78.877090      3698         3.698             2.718829  \n",
       "3  -78.868089      4074         4.074             2.725366  \n",
       "4  -78.876085      4165         4.165             3.121023  \n",
       "5  -78.859871      4185         4.185             2.890902  \n",
       "6  -78.848846      5059         5.059             3.567436  \n",
       "7  -78.849613      5272         5.272             3.576727  \n",
       "8  -78.844661      5746         5.746             4.022388  \n",
       "9  -78.850911      6695         6.695             4.743097  \n",
       "10 -78.856215      7114         7.114             5.763632  \n",
       "11 -78.858549      7423         7.423             5.793313  \n",
       "12 -78.836302      8814         8.814             6.378855  \n",
       "13 -78.881831     10868        10.868             7.686297  "
      ]
     },
     "metadata": {},
     "output_type": "display_data"
    },
    {
     "name": "stdout",
     "output_type": "stream",
     "text": [
      "G\n",
      "Optimal Path Dataset\n"
     ]
    },
    {
     "data": {
      "text/html": [
       "<div>\n",
       "<style scoped>\n",
       "    .dataframe tbody tr th:only-of-type {\n",
       "        vertical-align: middle;\n",
       "    }\n",
       "\n",
       "    .dataframe tbody tr th {\n",
       "        vertical-align: top;\n",
       "    }\n",
       "\n",
       "    .dataframe thead th {\n",
       "        text-align: right;\n",
       "    }\n",
       "</style>\n",
       "<table border=\"1\" class=\"dataframe\">\n",
       "  <thead>\n",
       "    <tr style=\"text-align: right;\">\n",
       "      <th></th>\n",
       "      <th>Category</th>\n",
       "      <th>Name</th>\n",
       "      <th>latitude</th>\n",
       "      <th>longitude</th>\n",
       "      <th>Distance(km)</th>\n",
       "      <th>color</th>\n",
       "      <th>shape</th>\n",
       "    </tr>\n",
       "  </thead>\n",
       "  <tbody>\n",
       "    <tr>\n",
       "      <th>0</th>\n",
       "      <td>User</td>\n",
       "      <td>Home Address</td>\n",
       "      <td>43.949879</td>\n",
       "      <td>-78.892797</td>\n",
       "      <td>0.000</td>\n",
       "      <td>pink</td>\n",
       "      <td>male</td>\n",
       "    </tr>\n",
       "    <tr>\n",
       "      <th>1</th>\n",
       "      <td>G</td>\n",
       "      <td>FreshCo Simcoe &amp; Winchester</td>\n",
       "      <td>43.964547</td>\n",
       "      <td>-78.903629</td>\n",
       "      <td>2.213</td>\n",
       "      <td>blue</td>\n",
       "      <td>shopping-cart</td>\n",
       "    </tr>\n",
       "  </tbody>\n",
       "</table>\n",
       "</div>"
      ],
      "text/plain": [
       "  Category                         Name   latitude  longitude  Distance(km)  \\\n",
       "0     User                 Home Address  43.949879 -78.892797         0.000   \n",
       "1        G  FreshCo Simcoe & Winchester  43.964547 -78.903629         2.213   \n",
       "\n",
       "  color          shape  \n",
       "0  pink           male  \n",
       "1  blue  shopping-cart  "
      ]
     },
     "metadata": {},
     "output_type": "display_data"
    },
    {
     "name": "stdout",
     "output_type": "stream",
     "text": [
      "\n",
      "Filtered dataset for next destination\n"
     ]
    },
    {
     "data": {
      "text/html": [
       "<div>\n",
       "<style scoped>\n",
       "    .dataframe tbody tr th:only-of-type {\n",
       "        vertical-align: middle;\n",
       "    }\n",
       "\n",
       "    .dataframe tbody tr th {\n",
       "        vertical-align: top;\n",
       "    }\n",
       "\n",
       "    .dataframe thead th {\n",
       "        text-align: right;\n",
       "    }\n",
       "</style>\n",
       "<table border=\"1\" class=\"dataframe\">\n",
       "  <thead>\n",
       "    <tr style=\"text-align: right;\">\n",
       "      <th></th>\n",
       "      <th>Category</th>\n",
       "      <th>Name</th>\n",
       "      <th>color</th>\n",
       "      <th>shape</th>\n",
       "      <th>latitude</th>\n",
       "      <th>longitude</th>\n",
       "    </tr>\n",
       "  </thead>\n",
       "  <tbody>\n",
       "    <tr>\n",
       "      <th>0</th>\n",
       "      <td>E</td>\n",
       "      <td>Best Buy�First Pro Oshawa</td>\n",
       "      <td>purple</td>\n",
       "      <td>bolt</td>\n",
       "      <td>43.941558</td>\n",
       "      <td>-78.849613</td>\n",
       "    </tr>\n",
       "    <tr>\n",
       "      <th>1</th>\n",
       "      <td>E</td>\n",
       "      <td>The Source</td>\n",
       "      <td>purple</td>\n",
       "      <td>bolt</td>\n",
       "      <td>43.939439</td>\n",
       "      <td>-78.844661</td>\n",
       "    </tr>\n",
       "    <tr>\n",
       "      <th>2</th>\n",
       "      <td>O</td>\n",
       "      <td>Oshawa�Warehouse</td>\n",
       "      <td>orange</td>\n",
       "      <td>magnet</td>\n",
       "      <td>43.905203</td>\n",
       "      <td>-78.856215</td>\n",
       "    </tr>\n",
       "    <tr>\n",
       "      <th>3</th>\n",
       "      <td>O</td>\n",
       "      <td>THE HOME DEPOT OSHAWA</td>\n",
       "      <td>orange</td>\n",
       "      <td>magnet</td>\n",
       "      <td>43.909387</td>\n",
       "      <td>-78.836302</td>\n",
       "    </tr>\n",
       "  </tbody>\n",
       "</table>\n",
       "</div>"
      ],
      "text/plain": [
       "  Category                       Name   color   shape   latitude  longitude\n",
       "0        E  Best Buy�First Pro Oshawa  purple    bolt  43.941558 -78.849613\n",
       "1        E                 The Source  purple    bolt  43.939439 -78.844661\n",
       "2        O           Oshawa�Warehouse  orange  magnet  43.905203 -78.856215\n",
       "3        O      THE HOME DEPOT OSHAWA  orange  magnet  43.909387 -78.836302"
      ]
     },
     "metadata": {},
     "output_type": "display_data"
    },
    {
     "name": "stderr",
     "output_type": "stream",
     "text": [
      "<ipython-input-44-a06395bcdee8>:17: SettingWithCopyWarning:\n",
      "\n",
      "\n",
      "A value is trying to be set on a copy of a slice from a DataFrame\n",
      "\n",
      "See the caveats in the documentation: https://pandas.pydata.org/pandas-docs/stable/user_guide/indexing.html#returning-a-view-versus-a-copy\n",
      "\n"
     ]
    },
    {
     "name": "stdout",
     "output_type": "stream",
     "text": [
      "Data frame with all the distances\n"
     ]
    },
    {
     "data": {
      "text/html": [
       "<div>\n",
       "<style scoped>\n",
       "    .dataframe tbody tr th:only-of-type {\n",
       "        vertical-align: middle;\n",
       "    }\n",
       "\n",
       "    .dataframe tbody tr th {\n",
       "        vertical-align: top;\n",
       "    }\n",
       "\n",
       "    .dataframe thead th {\n",
       "        text-align: right;\n",
       "    }\n",
       "</style>\n",
       "<table border=\"1\" class=\"dataframe\">\n",
       "  <thead>\n",
       "    <tr style=\"text-align: right;\">\n",
       "      <th></th>\n",
       "      <th>Category</th>\n",
       "      <th>Name</th>\n",
       "      <th>color</th>\n",
       "      <th>shape</th>\n",
       "      <th>latitude</th>\n",
       "      <th>longitude</th>\n",
       "      <th>Distance</th>\n",
       "      <th>Distance(km)</th>\n",
       "      <th>Distance(Haversine)</th>\n",
       "    </tr>\n",
       "  </thead>\n",
       "  <tbody>\n",
       "    <tr>\n",
       "      <th>0</th>\n",
       "      <td>E</td>\n",
       "      <td>Best Buy�First Pro Oshawa</td>\n",
       "      <td>purple</td>\n",
       "      <td>bolt</td>\n",
       "      <td>43.941558</td>\n",
       "      <td>-78.849613</td>\n",
       "      <td>7827</td>\n",
       "      <td>7.827</td>\n",
       "      <td>3.576727</td>\n",
       "    </tr>\n",
       "    <tr>\n",
       "      <th>1</th>\n",
       "      <td>E</td>\n",
       "      <td>The Source</td>\n",
       "      <td>purple</td>\n",
       "      <td>bolt</td>\n",
       "      <td>43.939439</td>\n",
       "      <td>-78.844661</td>\n",
       "      <td>8301</td>\n",
       "      <td>8.301</td>\n",
       "      <td>4.022388</td>\n",
       "    </tr>\n",
       "    <tr>\n",
       "      <th>2</th>\n",
       "      <td>O</td>\n",
       "      <td>Oshawa�Warehouse</td>\n",
       "      <td>orange</td>\n",
       "      <td>magnet</td>\n",
       "      <td>43.905203</td>\n",
       "      <td>-78.856215</td>\n",
       "      <td>8496</td>\n",
       "      <td>8.496</td>\n",
       "      <td>5.763632</td>\n",
       "    </tr>\n",
       "    <tr>\n",
       "      <th>3</th>\n",
       "      <td>O</td>\n",
       "      <td>THE HOME DEPOT OSHAWA</td>\n",
       "      <td>orange</td>\n",
       "      <td>magnet</td>\n",
       "      <td>43.909387</td>\n",
       "      <td>-78.836302</td>\n",
       "      <td>11369</td>\n",
       "      <td>11.369</td>\n",
       "      <td>6.378855</td>\n",
       "    </tr>\n",
       "  </tbody>\n",
       "</table>\n",
       "</div>"
      ],
      "text/plain": [
       "  Category                       Name   color   shape   latitude  longitude  \\\n",
       "0        E  Best Buy�First Pro Oshawa  purple    bolt  43.941558 -78.849613   \n",
       "1        E                 The Source  purple    bolt  43.939439 -78.844661   \n",
       "2        O           Oshawa�Warehouse  orange  magnet  43.905203 -78.856215   \n",
       "3        O      THE HOME DEPOT OSHAWA  orange  magnet  43.909387 -78.836302   \n",
       "\n",
       "   Distance  Distance(km)  Distance(Haversine)  \n",
       "0      7827         7.827             3.576727  \n",
       "1      8301         8.301             4.022388  \n",
       "2      8496         8.496             5.763632  \n",
       "3     11369        11.369             6.378855  "
      ]
     },
     "metadata": {},
     "output_type": "display_data"
    },
    {
     "name": "stdout",
     "output_type": "stream",
     "text": [
      "E\n",
      "Optimal Path Dataset\n"
     ]
    },
    {
     "data": {
      "text/html": [
       "<div>\n",
       "<style scoped>\n",
       "    .dataframe tbody tr th:only-of-type {\n",
       "        vertical-align: middle;\n",
       "    }\n",
       "\n",
       "    .dataframe tbody tr th {\n",
       "        vertical-align: top;\n",
       "    }\n",
       "\n",
       "    .dataframe thead th {\n",
       "        text-align: right;\n",
       "    }\n",
       "</style>\n",
       "<table border=\"1\" class=\"dataframe\">\n",
       "  <thead>\n",
       "    <tr style=\"text-align: right;\">\n",
       "      <th></th>\n",
       "      <th>Category</th>\n",
       "      <th>Name</th>\n",
       "      <th>latitude</th>\n",
       "      <th>longitude</th>\n",
       "      <th>Distance(km)</th>\n",
       "      <th>color</th>\n",
       "      <th>shape</th>\n",
       "    </tr>\n",
       "  </thead>\n",
       "  <tbody>\n",
       "    <tr>\n",
       "      <th>0</th>\n",
       "      <td>User</td>\n",
       "      <td>Home Address</td>\n",
       "      <td>43.949879</td>\n",
       "      <td>-78.892797</td>\n",
       "      <td>0.000</td>\n",
       "      <td>pink</td>\n",
       "      <td>male</td>\n",
       "    </tr>\n",
       "    <tr>\n",
       "      <th>1</th>\n",
       "      <td>G</td>\n",
       "      <td>FreshCo Simcoe &amp; Winchester</td>\n",
       "      <td>43.964547</td>\n",
       "      <td>-78.903629</td>\n",
       "      <td>2.213</td>\n",
       "      <td>blue</td>\n",
       "      <td>shopping-cart</td>\n",
       "    </tr>\n",
       "    <tr>\n",
       "      <th>2</th>\n",
       "      <td>E</td>\n",
       "      <td>Best Buy�First Pro Oshawa</td>\n",
       "      <td>43.941558</td>\n",
       "      <td>-78.849613</td>\n",
       "      <td>7.827</td>\n",
       "      <td>purple</td>\n",
       "      <td>bolt</td>\n",
       "    </tr>\n",
       "  </tbody>\n",
       "</table>\n",
       "</div>"
      ],
      "text/plain": [
       "  Category                         Name   latitude  longitude  Distance(km)  \\\n",
       "0     User                 Home Address  43.949879 -78.892797         0.000   \n",
       "1        G  FreshCo Simcoe & Winchester  43.964547 -78.903629         2.213   \n",
       "2        E    Best Buy�First Pro Oshawa  43.941558 -78.849613         7.827   \n",
       "\n",
       "    color          shape  \n",
       "0    pink           male  \n",
       "1    blue  shopping-cart  \n",
       "2  purple           bolt  "
      ]
     },
     "metadata": {},
     "output_type": "display_data"
    },
    {
     "name": "stdout",
     "output_type": "stream",
     "text": [
      "\n",
      "Filtered dataset for next destination\n"
     ]
    },
    {
     "data": {
      "text/html": [
       "<div>\n",
       "<style scoped>\n",
       "    .dataframe tbody tr th:only-of-type {\n",
       "        vertical-align: middle;\n",
       "    }\n",
       "\n",
       "    .dataframe tbody tr th {\n",
       "        vertical-align: top;\n",
       "    }\n",
       "\n",
       "    .dataframe thead th {\n",
       "        text-align: right;\n",
       "    }\n",
       "</style>\n",
       "<table border=\"1\" class=\"dataframe\">\n",
       "  <thead>\n",
       "    <tr style=\"text-align: right;\">\n",
       "      <th></th>\n",
       "      <th>Category</th>\n",
       "      <th>Name</th>\n",
       "      <th>color</th>\n",
       "      <th>shape</th>\n",
       "      <th>latitude</th>\n",
       "      <th>longitude</th>\n",
       "    </tr>\n",
       "  </thead>\n",
       "  <tbody>\n",
       "    <tr>\n",
       "      <th>0</th>\n",
       "      <td>O</td>\n",
       "      <td>Oshawa�Warehouse</td>\n",
       "      <td>orange</td>\n",
       "      <td>magnet</td>\n",
       "      <td>43.905203</td>\n",
       "      <td>-78.856215</td>\n",
       "    </tr>\n",
       "    <tr>\n",
       "      <th>1</th>\n",
       "      <td>O</td>\n",
       "      <td>THE HOME DEPOT OSHAWA</td>\n",
       "      <td>orange</td>\n",
       "      <td>magnet</td>\n",
       "      <td>43.909387</td>\n",
       "      <td>-78.836302</td>\n",
       "    </tr>\n",
       "  </tbody>\n",
       "</table>\n",
       "</div>"
      ],
      "text/plain": [
       "  Category                   Name   color   shape   latitude  longitude\n",
       "0        O       Oshawa�Warehouse  orange  magnet  43.905203 -78.856215\n",
       "1        O  THE HOME DEPOT OSHAWA  orange  magnet  43.909387 -78.836302"
      ]
     },
     "metadata": {},
     "output_type": "display_data"
    },
    {
     "name": "stderr",
     "output_type": "stream",
     "text": [
      "<ipython-input-44-a06395bcdee8>:17: SettingWithCopyWarning:\n",
      "\n",
      "\n",
      "A value is trying to be set on a copy of a slice from a DataFrame\n",
      "\n",
      "See the caveats in the documentation: https://pandas.pydata.org/pandas-docs/stable/user_guide/indexing.html#returning-a-view-versus-a-copy\n",
      "\n"
     ]
    },
    {
     "name": "stdout",
     "output_type": "stream",
     "text": [
      "Data frame with all the distances\n"
     ]
    },
    {
     "data": {
      "text/html": [
       "<div>\n",
       "<style scoped>\n",
       "    .dataframe tbody tr th:only-of-type {\n",
       "        vertical-align: middle;\n",
       "    }\n",
       "\n",
       "    .dataframe tbody tr th {\n",
       "        vertical-align: top;\n",
       "    }\n",
       "\n",
       "    .dataframe thead th {\n",
       "        text-align: right;\n",
       "    }\n",
       "</style>\n",
       "<table border=\"1\" class=\"dataframe\">\n",
       "  <thead>\n",
       "    <tr style=\"text-align: right;\">\n",
       "      <th></th>\n",
       "      <th>Category</th>\n",
       "      <th>Name</th>\n",
       "      <th>color</th>\n",
       "      <th>shape</th>\n",
       "      <th>latitude</th>\n",
       "      <th>longitude</th>\n",
       "      <th>Distance</th>\n",
       "      <th>Distance(km)</th>\n",
       "      <th>Distance(Haversine)</th>\n",
       "    </tr>\n",
       "  </thead>\n",
       "  <tbody>\n",
       "    <tr>\n",
       "      <th>0</th>\n",
       "      <td>O</td>\n",
       "      <td>THE HOME DEPOT OSHAWA</td>\n",
       "      <td>orange</td>\n",
       "      <td>magnet</td>\n",
       "      <td>43.909387</td>\n",
       "      <td>-78.836302</td>\n",
       "      <td>3868</td>\n",
       "      <td>3.868</td>\n",
       "      <td>6.378855</td>\n",
       "    </tr>\n",
       "    <tr>\n",
       "      <th>1</th>\n",
       "      <td>O</td>\n",
       "      <td>Oshawa�Warehouse</td>\n",
       "      <td>orange</td>\n",
       "      <td>magnet</td>\n",
       "      <td>43.905203</td>\n",
       "      <td>-78.856215</td>\n",
       "      <td>5408</td>\n",
       "      <td>5.408</td>\n",
       "      <td>5.763632</td>\n",
       "    </tr>\n",
       "  </tbody>\n",
       "</table>\n",
       "</div>"
      ],
      "text/plain": [
       "  Category                   Name   color   shape   latitude  longitude  \\\n",
       "0        O  THE HOME DEPOT OSHAWA  orange  magnet  43.909387 -78.836302   \n",
       "1        O       Oshawa�Warehouse  orange  magnet  43.905203 -78.856215   \n",
       "\n",
       "   Distance  Distance(km)  Distance(Haversine)  \n",
       "0      3868         3.868             6.378855  \n",
       "1      5408         5.408             5.763632  "
      ]
     },
     "metadata": {},
     "output_type": "display_data"
    },
    {
     "name": "stdout",
     "output_type": "stream",
     "text": [
      "O\n",
      "Optimal Path Dataset\n"
     ]
    },
    {
     "data": {
      "text/html": [
       "<div>\n",
       "<style scoped>\n",
       "    .dataframe tbody tr th:only-of-type {\n",
       "        vertical-align: middle;\n",
       "    }\n",
       "\n",
       "    .dataframe tbody tr th {\n",
       "        vertical-align: top;\n",
       "    }\n",
       "\n",
       "    .dataframe thead th {\n",
       "        text-align: right;\n",
       "    }\n",
       "</style>\n",
       "<table border=\"1\" class=\"dataframe\">\n",
       "  <thead>\n",
       "    <tr style=\"text-align: right;\">\n",
       "      <th></th>\n",
       "      <th>Category</th>\n",
       "      <th>Name</th>\n",
       "      <th>latitude</th>\n",
       "      <th>longitude</th>\n",
       "      <th>Distance(km)</th>\n",
       "      <th>color</th>\n",
       "      <th>shape</th>\n",
       "    </tr>\n",
       "  </thead>\n",
       "  <tbody>\n",
       "    <tr>\n",
       "      <th>0</th>\n",
       "      <td>User</td>\n",
       "      <td>Home Address</td>\n",
       "      <td>43.949879</td>\n",
       "      <td>-78.892797</td>\n",
       "      <td>0.000</td>\n",
       "      <td>pink</td>\n",
       "      <td>male</td>\n",
       "    </tr>\n",
       "    <tr>\n",
       "      <th>1</th>\n",
       "      <td>G</td>\n",
       "      <td>FreshCo Simcoe &amp; Winchester</td>\n",
       "      <td>43.964547</td>\n",
       "      <td>-78.903629</td>\n",
       "      <td>2.213</td>\n",
       "      <td>blue</td>\n",
       "      <td>shopping-cart</td>\n",
       "    </tr>\n",
       "    <tr>\n",
       "      <th>2</th>\n",
       "      <td>E</td>\n",
       "      <td>Best Buy�First Pro Oshawa</td>\n",
       "      <td>43.941558</td>\n",
       "      <td>-78.849613</td>\n",
       "      <td>7.827</td>\n",
       "      <td>purple</td>\n",
       "      <td>bolt</td>\n",
       "    </tr>\n",
       "    <tr>\n",
       "      <th>3</th>\n",
       "      <td>O</td>\n",
       "      <td>THE HOME DEPOT OSHAWA</td>\n",
       "      <td>43.909387</td>\n",
       "      <td>-78.836302</td>\n",
       "      <td>3.868</td>\n",
       "      <td>orange</td>\n",
       "      <td>magnet</td>\n",
       "    </tr>\n",
       "  </tbody>\n",
       "</table>\n",
       "</div>"
      ],
      "text/plain": [
       "  Category                         Name   latitude  longitude  Distance(km)  \\\n",
       "0     User                 Home Address  43.949879 -78.892797         0.000   \n",
       "1        G  FreshCo Simcoe & Winchester  43.964547 -78.903629         2.213   \n",
       "2        E    Best Buy�First Pro Oshawa  43.941558 -78.849613         7.827   \n",
       "3        O        THE HOME DEPOT OSHAWA  43.909387 -78.836302         3.868   \n",
       "\n",
       "    color          shape  \n",
       "0    pink           male  \n",
       "1    blue  shopping-cart  \n",
       "2  purple           bolt  \n",
       "3  orange         magnet  "
      ]
     },
     "metadata": {},
     "output_type": "display_data"
    }
   ],
   "source": [
    "#importing necessary libraries\n",
    "import requests\n",
    "import json\n",
    "\n",
    "#AI Agent\n",
    "for j in range(len(places_to_visit)):\n",
    "    \n",
    "    df_narrowed['Distance']=0\n",
    "    for i in range(len(df_narrowed)):\n",
    "\n",
    "        # call the OSMR API\n",
    "        r = requests.get(f\"http://router.project-osrm.org/route/v1/car/{df_narrowed.longitude[i]},{df_narrowed.latitude[i]};{df_short.longitude[j]},{df_short.latitude[j]}?overview=false\"\"\")\n",
    "        # then you load the response using the json libray\n",
    "        # by default you get only one alternative so you access 0-th element of the `routes`\n",
    "        results = json.loads(r.content)\n",
    "        legs = results.get(\"routes\").pop(0).get(\"legs\")\n",
    "        df_narrowed.Distance[i]=legs[0].get(\"distance\")\n",
    "    df_narrowed['Distance(km)']=df_narrowed['Distance']/1000\n",
    "    df_narrowed=df_narrowed.sort_values('Distance(km)').reset_index(drop=True)\n",
    "    # print(\"Data frame with distance\")\n",
    "    # display(df_narrowed)\n",
    "\n",
    "    \n",
    "    #Calculating Haversine Distance\n",
    "    def haversine_vectorize(lon1, lat1, lon2, lat2):\n",
    "\n",
    "        lon1, lat1, lon2, lat2 = map(np.radians, [lon1, lat1, lon2, lat2])\n",
    "\n",
    "        newlon = lon2 - lon1\n",
    "        newlat = lat2 - lat1\n",
    "\n",
    "        haver_formula = np.sin(newlat/2.0)**2 + np.cos(lat1) * np.cos(lat2) * np.sin(newlon/2.0)**2\n",
    "\n",
    "        dist = 2 * np.arcsin(np.sqrt(haver_formula ))\n",
    "        km = 6367 * dist #6367 for distance in KM for miles use 3958\n",
    "        return km\n",
    "\n",
    "    df_narrowed['Distance(Haversine)']=haversine_vectorize(user_longitude,user_latitude,df_narrowed['longitude'],df_narrowed['latitude'])\n",
    "\n",
    "    print(\"Data frame with all the distances\")\n",
    "    display(df_narrowed)\n",
    "\n",
    "    #Filter the required fields for the nearest store and storing it in the dataste to be appended in df_short\n",
    "    df_temp=df_narrowed[['Category','Name','latitude','longitude','Distance(km)','color','shape']][0:1]\n",
    "    category_id=df_temp['Category'][0]\n",
    "    print(category_id)\n",
    "    print(\"Optimal Path Dataset\")\n",
    "    df_short=df_short.append(df_temp).reset_index(drop=True)\n",
    "    display(df_short)\n",
    "\n",
    "    \n",
    "    #Filtering the dataset so as to keep just the categories that are to be visited\n",
    "    df_narrowed=df_narrowed.drop(df_narrowed[df_narrowed['Category']==category_id].index).reset_index(drop=True)\n",
    "    if(len(df_narrowed)!=0):\n",
    "        print(\"\\nFiltered dataset for next destination\")\n",
    "        df_narrowed=df_narrowed.drop(['Distance','Distance(km)','Distance(Haversine)'],axis=1)\n",
    "        display(df_narrowed)\n"
   ]
  },
  {
   "cell_type": "code",
   "execution_count": 45,
   "id": "timely-metallic",
   "metadata": {},
   "outputs": [
    {
     "data": {
      "text/html": [
       "<div>\n",
       "<style scoped>\n",
       "    .dataframe tbody tr th:only-of-type {\n",
       "        vertical-align: middle;\n",
       "    }\n",
       "\n",
       "    .dataframe tbody tr th {\n",
       "        vertical-align: top;\n",
       "    }\n",
       "\n",
       "    .dataframe thead th {\n",
       "        text-align: right;\n",
       "    }\n",
       "</style>\n",
       "<table border=\"1\" class=\"dataframe\">\n",
       "  <thead>\n",
       "    <tr style=\"text-align: right;\">\n",
       "      <th></th>\n",
       "      <th>Category</th>\n",
       "      <th>Name</th>\n",
       "      <th>latitude</th>\n",
       "      <th>longitude</th>\n",
       "      <th>Distance(km)</th>\n",
       "      <th>color</th>\n",
       "      <th>shape</th>\n",
       "    </tr>\n",
       "  </thead>\n",
       "  <tbody>\n",
       "    <tr>\n",
       "      <th>0</th>\n",
       "      <td>User</td>\n",
       "      <td>Home Address</td>\n",
       "      <td>43.949879</td>\n",
       "      <td>-78.892797</td>\n",
       "      <td>0.000</td>\n",
       "      <td>pink</td>\n",
       "      <td>male</td>\n",
       "    </tr>\n",
       "    <tr>\n",
       "      <th>1</th>\n",
       "      <td>G</td>\n",
       "      <td>FreshCo Simcoe &amp; Winchester</td>\n",
       "      <td>43.964547</td>\n",
       "      <td>-78.903629</td>\n",
       "      <td>2.213</td>\n",
       "      <td>blue</td>\n",
       "      <td>shopping-cart</td>\n",
       "    </tr>\n",
       "    <tr>\n",
       "      <th>2</th>\n",
       "      <td>E</td>\n",
       "      <td>Best Buy�First Pro Oshawa</td>\n",
       "      <td>43.941558</td>\n",
       "      <td>-78.849613</td>\n",
       "      <td>7.827</td>\n",
       "      <td>purple</td>\n",
       "      <td>bolt</td>\n",
       "    </tr>\n",
       "    <tr>\n",
       "      <th>3</th>\n",
       "      <td>O</td>\n",
       "      <td>THE HOME DEPOT OSHAWA</td>\n",
       "      <td>43.909387</td>\n",
       "      <td>-78.836302</td>\n",
       "      <td>3.868</td>\n",
       "      <td>orange</td>\n",
       "      <td>magnet</td>\n",
       "    </tr>\n",
       "  </tbody>\n",
       "</table>\n",
       "</div>"
      ],
      "text/plain": [
       "  Category                         Name   latitude  longitude  Distance(km)  \\\n",
       "0     User                 Home Address  43.949879 -78.892797         0.000   \n",
       "1        G  FreshCo Simcoe & Winchester  43.964547 -78.903629         2.213   \n",
       "2        E    Best Buy�First Pro Oshawa  43.941558 -78.849613         7.827   \n",
       "3        O        THE HOME DEPOT OSHAWA  43.909387 -78.836302         3.868   \n",
       "\n",
       "    color          shape  \n",
       "0    pink           male  \n",
       "1    blue  shopping-cart  \n",
       "2  purple           bolt  \n",
       "3  orange         magnet  "
      ]
     },
     "execution_count": 45,
     "metadata": {},
     "output_type": "execute_result"
    }
   ],
   "source": [
    "df_short"
   ]
  },
  {
   "cell_type": "code",
   "execution_count": 46,
   "id": "radical-french",
   "metadata": {},
   "outputs": [
    {
     "data": {
      "text/plain": [
       "4"
      ]
     },
     "execution_count": 46,
     "metadata": {},
     "output_type": "execute_result"
    }
   ],
   "source": [
    "len(df_short)"
   ]
  },
  {
   "cell_type": "markdown",
   "id": "circular-george",
   "metadata": {},
   "source": [
    "# Generating the locations on the Map"
   ]
  },
  {
   "cell_type": "code",
   "execution_count": 134,
   "id": "nonprofit-reward",
   "metadata": {
    "scrolled": false
   },
   "outputs": [
    {
     "data": {
      "text/html": [
       "<div style=\"width:100%;\"><div style=\"position:relative;width:100%;height:0;padding-bottom:60%;\"><span style=\"color:#565656\">Make this Notebook Trusted to load map: File -> Trust Notebook</span><iframe src=\"about:blank\" style=\"position:absolute;width:100%;height:100%;left:0;top:0;border:none !important;\" data-html=%3C%21DOCTYPE%20html%3E%0A%3Chead%3E%20%20%20%20%0A%20%20%20%20%3Cmeta%20http-equiv%3D%22content-type%22%20content%3D%22text/html%3B%20charset%3DUTF-8%22%20/%3E%0A%20%20%20%20%0A%20%20%20%20%20%20%20%20%3Cscript%3E%0A%20%20%20%20%20%20%20%20%20%20%20%20L_NO_TOUCH%20%3D%20false%3B%0A%20%20%20%20%20%20%20%20%20%20%20%20L_DISABLE_3D%20%3D%20false%3B%0A%20%20%20%20%20%20%20%20%3C/script%3E%0A%20%20%20%20%0A%20%20%20%20%3Cstyle%3Ehtml%2C%20body%20%7Bwidth%3A%20100%25%3Bheight%3A%20100%25%3Bmargin%3A%200%3Bpadding%3A%200%3B%7D%3C/style%3E%0A%20%20%20%20%3Cstyle%3E%23map%20%7Bposition%3Aabsolute%3Btop%3A0%3Bbottom%3A0%3Bright%3A0%3Bleft%3A0%3B%7D%3C/style%3E%0A%20%20%20%20%3Cscript%20src%3D%22https%3A//cdn.jsdelivr.net/npm/leaflet%401.6.0/dist/leaflet.js%22%3E%3C/script%3E%0A%20%20%20%20%3Cscript%20src%3D%22https%3A//code.jquery.com/jquery-1.12.4.min.js%22%3E%3C/script%3E%0A%20%20%20%20%3Cscript%20src%3D%22https%3A//maxcdn.bootstrapcdn.com/bootstrap/3.2.0/js/bootstrap.min.js%22%3E%3C/script%3E%0A%20%20%20%20%3Cscript%20src%3D%22https%3A//cdnjs.cloudflare.com/ajax/libs/Leaflet.awesome-markers/2.0.2/leaflet.awesome-markers.js%22%3E%3C/script%3E%0A%20%20%20%20%3Clink%20rel%3D%22stylesheet%22%20href%3D%22https%3A//cdn.jsdelivr.net/npm/leaflet%401.6.0/dist/leaflet.css%22/%3E%0A%20%20%20%20%3Clink%20rel%3D%22stylesheet%22%20href%3D%22https%3A//maxcdn.bootstrapcdn.com/bootstrap/3.2.0/css/bootstrap.min.css%22/%3E%0A%20%20%20%20%3Clink%20rel%3D%22stylesheet%22%20href%3D%22https%3A//maxcdn.bootstrapcdn.com/bootstrap/3.2.0/css/bootstrap-theme.min.css%22/%3E%0A%20%20%20%20%3Clink%20rel%3D%22stylesheet%22%20href%3D%22https%3A//maxcdn.bootstrapcdn.com/font-awesome/4.6.3/css/font-awesome.min.css%22/%3E%0A%20%20%20%20%3Clink%20rel%3D%22stylesheet%22%20href%3D%22https%3A//cdnjs.cloudflare.com/ajax/libs/Leaflet.awesome-markers/2.0.2/leaflet.awesome-markers.css%22/%3E%0A%20%20%20%20%3Clink%20rel%3D%22stylesheet%22%20href%3D%22https%3A//cdn.jsdelivr.net/gh/python-visualization/folium/folium/templates/leaflet.awesome.rotate.min.css%22/%3E%0A%20%20%20%20%0A%20%20%20%20%20%20%20%20%20%20%20%20%3Cmeta%20name%3D%22viewport%22%20content%3D%22width%3Ddevice-width%2C%0A%20%20%20%20%20%20%20%20%20%20%20%20%20%20%20%20initial-scale%3D1.0%2C%20maximum-scale%3D1.0%2C%20user-scalable%3Dno%22%20/%3E%0A%20%20%20%20%20%20%20%20%20%20%20%20%3Cstyle%3E%0A%20%20%20%20%20%20%20%20%20%20%20%20%20%20%20%20%23map_4fe638b922874c97833a4fdc020828b1%20%7B%0A%20%20%20%20%20%20%20%20%20%20%20%20%20%20%20%20%20%20%20%20position%3A%20relative%3B%0A%20%20%20%20%20%20%20%20%20%20%20%20%20%20%20%20%20%20%20%20width%3A%20100.0%25%3B%0A%20%20%20%20%20%20%20%20%20%20%20%20%20%20%20%20%20%20%20%20height%3A%20100.0%25%3B%0A%20%20%20%20%20%20%20%20%20%20%20%20%20%20%20%20%20%20%20%20left%3A%200.0%25%3B%0A%20%20%20%20%20%20%20%20%20%20%20%20%20%20%20%20%20%20%20%20top%3A%200.0%25%3B%0A%20%20%20%20%20%20%20%20%20%20%20%20%20%20%20%20%7D%0A%20%20%20%20%20%20%20%20%20%20%20%20%3C/style%3E%0A%20%20%20%20%20%20%20%20%0A%20%20%20%20%3Cscript%20src%3D%22https%3A//cdnjs.cloudflare.com/ajax/libs/leaflet.markercluster/1.1.0/leaflet.markercluster.js%22%3E%3C/script%3E%0A%20%20%20%20%3Clink%20rel%3D%22stylesheet%22%20href%3D%22https%3A//cdnjs.cloudflare.com/ajax/libs/leaflet.markercluster/1.1.0/MarkerCluster.css%22/%3E%0A%20%20%20%20%3Clink%20rel%3D%22stylesheet%22%20href%3D%22https%3A//cdnjs.cloudflare.com/ajax/libs/leaflet.markercluster/1.1.0/MarkerCluster.Default.css%22/%3E%0A%3C/head%3E%0A%3Cbody%3E%20%20%20%20%0A%20%20%20%20%0A%20%20%20%20%20%20%20%20%20%20%20%20%3Cdiv%20class%3D%22folium-map%22%20id%3D%22map_4fe638b922874c97833a4fdc020828b1%22%20%3E%3C/div%3E%0A%20%20%20%20%20%20%20%20%0A%3C/body%3E%0A%3Cscript%3E%20%20%20%20%0A%20%20%20%20%0A%20%20%20%20%20%20%20%20%20%20%20%20var%20map_4fe638b922874c97833a4fdc020828b1%20%3D%20L.map%28%0A%20%20%20%20%20%20%20%20%20%20%20%20%20%20%20%20%22map_4fe638b922874c97833a4fdc020828b1%22%2C%0A%20%20%20%20%20%20%20%20%20%20%20%20%20%20%20%20%7B%0A%20%20%20%20%20%20%20%20%20%20%20%20%20%20%20%20%20%20%20%20center%3A%20%5B43.938315%2C%20-78.868996%5D%2C%0A%20%20%20%20%20%20%20%20%20%20%20%20%20%20%20%20%20%20%20%20crs%3A%20L.CRS.EPSG3857%2C%0A%20%20%20%20%20%20%20%20%20%20%20%20%20%20%20%20%20%20%20%20zoom%3A%2010%2C%0A%20%20%20%20%20%20%20%20%20%20%20%20%20%20%20%20%20%20%20%20zoomControl%3A%20true%2C%0A%20%20%20%20%20%20%20%20%20%20%20%20%20%20%20%20%20%20%20%20preferCanvas%3A%20false%2C%0A%20%20%20%20%20%20%20%20%20%20%20%20%20%20%20%20%7D%0A%20%20%20%20%20%20%20%20%20%20%20%20%29%3B%0A%0A%20%20%20%20%20%20%20%20%20%20%20%20%0A%0A%20%20%20%20%20%20%20%20%0A%20%20%20%20%0A%20%20%20%20%20%20%20%20%20%20%20%20var%20tile_layer_50945afbb8dd49d3bbcd273ac96138fe%20%3D%20L.tileLayer%28%0A%20%20%20%20%20%20%20%20%20%20%20%20%20%20%20%20%22https%3A//cartodb-basemaps-%7Bs%7D.global.ssl.fastly.net/light_all/%7Bz%7D/%7Bx%7D/%7By%7D.png%22%2C%0A%20%20%20%20%20%20%20%20%20%20%20%20%20%20%20%20%7B%22attribution%22%3A%20%22%5Cu0026copy%3B%20%5Cu003ca%20href%3D%5C%22http%3A//www.openstreetmap.org/copyright%5C%22%5Cu003eOpenStreetMap%5Cu003c/a%5Cu003e%20contributors%20%5Cu0026copy%3B%20%5Cu003ca%20href%3D%5C%22http%3A//cartodb.com/attributions%5C%22%5Cu003eCartoDB%5Cu003c/a%5Cu003e%2C%20CartoDB%20%5Cu003ca%20href%20%3D%5C%22http%3A//cartodb.com/attributions%5C%22%5Cu003eattributions%5Cu003c/a%5Cu003e%22%2C%20%22detectRetina%22%3A%20false%2C%20%22maxNativeZoom%22%3A%2018%2C%20%22maxZoom%22%3A%2018%2C%20%22minZoom%22%3A%200%2C%20%22noWrap%22%3A%20false%2C%20%22opacity%22%3A%201%2C%20%22subdomains%22%3A%20%22abc%22%2C%20%22tms%22%3A%20false%7D%0A%20%20%20%20%20%20%20%20%20%20%20%20%29.addTo%28map_4fe638b922874c97833a4fdc020828b1%29%3B%0A%20%20%20%20%20%20%20%20%0A%20%20%20%20%0A%20%20%20%20%20%20%20%20%20%20%20%20var%20marker_cluster_5a4b92ee1b854210ab7eb3e70fa687fc%20%3D%20L.markerClusterGroup%28%0A%20%20%20%20%20%20%20%20%20%20%20%20%20%20%20%20%7B%7D%0A%20%20%20%20%20%20%20%20%20%20%20%20%29%3B%0A%20%20%20%20%20%20%20%20%20%20%20%20map_4fe638b922874c97833a4fdc020828b1.addLayer%28marker_cluster_5a4b92ee1b854210ab7eb3e70fa687fc%29%3B%0A%20%20%20%20%20%20%20%20%0A%20%20%20%20%0A%20%20%20%20%20%20%20%20%20%20%20%20var%20marker_6914961ee4194406a6005d27276a2238%20%3D%20L.marker%28%0A%20%20%20%20%20%20%20%20%20%20%20%20%20%20%20%20%5B43.94987915%2C%20-78.89279710771785%5D%2C%0A%20%20%20%20%20%20%20%20%20%20%20%20%20%20%20%20%7B%7D%0A%20%20%20%20%20%20%20%20%20%20%20%20%29.addTo%28marker_cluster_5a4b92ee1b854210ab7eb3e70fa687fc%29%3B%0A%20%20%20%20%20%20%20%20%0A%20%20%20%20%0A%20%20%20%20%20%20%20%20%20%20%20%20var%20icon_3caec2169ae74886a40295fce425ab53%20%3D%20L.AwesomeMarkers.icon%28%0A%20%20%20%20%20%20%20%20%20%20%20%20%20%20%20%20%7B%22extraClasses%22%3A%20%22fa-rotate-0%22%2C%20%22icon%22%3A%20%22male%22%2C%20%22iconColor%22%3A%20%22white%22%2C%20%22markerColor%22%3A%20%22pink%22%2C%20%22prefix%22%3A%20%22fa%22%7D%0A%20%20%20%20%20%20%20%20%20%20%20%20%29%3B%0A%20%20%20%20%20%20%20%20%20%20%20%20marker_6914961ee4194406a6005d27276a2238.setIcon%28icon_3caec2169ae74886a40295fce425ab53%29%3B%0A%20%20%20%20%20%20%20%20%0A%20%20%20%20%0A%20%20%20%20%20%20%20%20var%20popup_24239b7d20824241ab52676474a62b3f%20%3D%20L.popup%28%7B%22maxWidth%22%3A%20%22100%25%22%7D%29%3B%0A%0A%20%20%20%20%20%20%20%20%0A%20%20%20%20%20%20%20%20%20%20%20%20var%20html_07be3ccfd0614cd88b3b181c0137ab51%20%3D%20%24%28%60%3Cdiv%20id%3D%22html_07be3ccfd0614cd88b3b181c0137ab51%22%20style%3D%22width%3A%20100.0%25%3B%20height%3A%20100.0%25%3B%22%3EID%3AUser%20Home%20Address%3C/div%3E%60%29%5B0%5D%3B%0A%20%20%20%20%20%20%20%20%20%20%20%20popup_24239b7d20824241ab52676474a62b3f.setContent%28html_07be3ccfd0614cd88b3b181c0137ab51%29%3B%0A%20%20%20%20%20%20%20%20%0A%0A%20%20%20%20%20%20%20%20marker_6914961ee4194406a6005d27276a2238.bindPopup%28popup_24239b7d20824241ab52676474a62b3f%29%0A%20%20%20%20%20%20%20%20%3B%0A%0A%20%20%20%20%20%20%20%20%0A%20%20%20%20%0A%20%20%20%20%0A%20%20%20%20%20%20%20%20%20%20%20%20var%20marker_3821e04a1979418b88f1b5d318e8fa29%20%3D%20L.marker%28%0A%20%20%20%20%20%20%20%20%20%20%20%20%20%20%20%20%5B43.964546672266835%2C%20-78.90362907154712%5D%2C%0A%20%20%20%20%20%20%20%20%20%20%20%20%20%20%20%20%7B%7D%0A%20%20%20%20%20%20%20%20%20%20%20%20%29.addTo%28marker_cluster_5a4b92ee1b854210ab7eb3e70fa687fc%29%3B%0A%20%20%20%20%20%20%20%20%0A%20%20%20%20%0A%20%20%20%20%20%20%20%20%20%20%20%20var%20icon_3fdb96c40c4b4d1383bb8f0967765b35%20%3D%20L.AwesomeMarkers.icon%28%0A%20%20%20%20%20%20%20%20%20%20%20%20%20%20%20%20%7B%22extraClasses%22%3A%20%22fa-rotate-0%22%2C%20%22icon%22%3A%20%22shopping-cart%22%2C%20%22iconColor%22%3A%20%22white%22%2C%20%22markerColor%22%3A%20%22blue%22%2C%20%22prefix%22%3A%20%22fa%22%7D%0A%20%20%20%20%20%20%20%20%20%20%20%20%29%3B%0A%20%20%20%20%20%20%20%20%20%20%20%20marker_3821e04a1979418b88f1b5d318e8fa29.setIcon%28icon_3fdb96c40c4b4d1383bb8f0967765b35%29%3B%0A%20%20%20%20%20%20%20%20%0A%20%20%20%20%0A%20%20%20%20%20%20%20%20var%20popup_21f2cf66054846b491e9391011df4fee%20%3D%20L.popup%28%7B%22maxWidth%22%3A%20%22100%25%22%7D%29%3B%0A%0A%20%20%20%20%20%20%20%20%0A%20%20%20%20%20%20%20%20%20%20%20%20var%20html_f64f2036f5b8447ca53954903ded659f%20%3D%20%24%28%60%3Cdiv%20id%3D%22html_f64f2036f5b8447ca53954903ded659f%22%20style%3D%22width%3A%20100.0%25%3B%20height%3A%20100.0%25%3B%22%3EID%3AG%20FreshCo%20Simcoe%20%26%20Winchester%3C/div%3E%60%29%5B0%5D%3B%0A%20%20%20%20%20%20%20%20%20%20%20%20popup_21f2cf66054846b491e9391011df4fee.setContent%28html_f64f2036f5b8447ca53954903ded659f%29%3B%0A%20%20%20%20%20%20%20%20%0A%0A%20%20%20%20%20%20%20%20marker_3821e04a1979418b88f1b5d318e8fa29.bindPopup%28popup_21f2cf66054846b491e9391011df4fee%29%0A%20%20%20%20%20%20%20%20%3B%0A%0A%20%20%20%20%20%20%20%20%0A%20%20%20%20%0A%20%20%20%20%0A%20%20%20%20%20%20%20%20%20%20%20%20var%20marker_c7d563bdf21c405784d5bf0cf8d0415c%20%3D%20L.marker%28%0A%20%20%20%20%20%20%20%20%20%20%20%20%20%20%20%20%5B43.94155815%2C%20-78.8496132198076%5D%2C%0A%20%20%20%20%20%20%20%20%20%20%20%20%20%20%20%20%7B%7D%0A%20%20%20%20%20%20%20%20%20%20%20%20%29.addTo%28marker_cluster_5a4b92ee1b854210ab7eb3e70fa687fc%29%3B%0A%20%20%20%20%20%20%20%20%0A%20%20%20%20%0A%20%20%20%20%20%20%20%20%20%20%20%20var%20icon_602c400905ed4cd484214b54a8ba535b%20%3D%20L.AwesomeMarkers.icon%28%0A%20%20%20%20%20%20%20%20%20%20%20%20%20%20%20%20%7B%22extraClasses%22%3A%20%22fa-rotate-0%22%2C%20%22icon%22%3A%20%22bolt%22%2C%20%22iconColor%22%3A%20%22white%22%2C%20%22markerColor%22%3A%20%22purple%22%2C%20%22prefix%22%3A%20%22fa%22%7D%0A%20%20%20%20%20%20%20%20%20%20%20%20%29%3B%0A%20%20%20%20%20%20%20%20%20%20%20%20marker_c7d563bdf21c405784d5bf0cf8d0415c.setIcon%28icon_602c400905ed4cd484214b54a8ba535b%29%3B%0A%20%20%20%20%20%20%20%20%0A%20%20%20%20%0A%20%20%20%20%20%20%20%20var%20popup_bab456c9bafd4a8e8c593f288eefdc88%20%3D%20L.popup%28%7B%22maxWidth%22%3A%20%22100%25%22%7D%29%3B%0A%0A%20%20%20%20%20%20%20%20%0A%20%20%20%20%20%20%20%20%20%20%20%20var%20html_4358ff292258401eb57e84f9aa49e4a9%20%3D%20%24%28%60%3Cdiv%20id%3D%22html_4358ff292258401eb57e84f9aa49e4a9%22%20style%3D%22width%3A%20100.0%25%3B%20height%3A%20100.0%25%3B%22%3EID%3AE%20Best%20Buy%EF%BF%BDFirst%20Pro%20Oshawa%3C/div%3E%60%29%5B0%5D%3B%0A%20%20%20%20%20%20%20%20%20%20%20%20popup_bab456c9bafd4a8e8c593f288eefdc88.setContent%28html_4358ff292258401eb57e84f9aa49e4a9%29%3B%0A%20%20%20%20%20%20%20%20%0A%0A%20%20%20%20%20%20%20%20marker_c7d563bdf21c405784d5bf0cf8d0415c.bindPopup%28popup_bab456c9bafd4a8e8c593f288eefdc88%29%0A%20%20%20%20%20%20%20%20%3B%0A%0A%20%20%20%20%20%20%20%20%0A%20%20%20%20%0A%20%20%20%20%0A%20%20%20%20%20%20%20%20%20%20%20%20var%20marker_e5605cb823ae49ae9a4f0cc3874d30f7%20%3D%20L.marker%28%0A%20%20%20%20%20%20%20%20%20%20%20%20%20%20%20%20%5B43.9093871%2C%20-78.8363024%5D%2C%0A%20%20%20%20%20%20%20%20%20%20%20%20%20%20%20%20%7B%7D%0A%20%20%20%20%20%20%20%20%20%20%20%20%29.addTo%28marker_cluster_5a4b92ee1b854210ab7eb3e70fa687fc%29%3B%0A%20%20%20%20%20%20%20%20%0A%20%20%20%20%0A%20%20%20%20%20%20%20%20%20%20%20%20var%20icon_544c2ab543ce40299be00b31d5bcae61%20%3D%20L.AwesomeMarkers.icon%28%0A%20%20%20%20%20%20%20%20%20%20%20%20%20%20%20%20%7B%22extraClasses%22%3A%20%22fa-rotate-0%22%2C%20%22icon%22%3A%20%22magnet%22%2C%20%22iconColor%22%3A%20%22white%22%2C%20%22markerColor%22%3A%20%22orange%22%2C%20%22prefix%22%3A%20%22fa%22%7D%0A%20%20%20%20%20%20%20%20%20%20%20%20%29%3B%0A%20%20%20%20%20%20%20%20%20%20%20%20marker_e5605cb823ae49ae9a4f0cc3874d30f7.setIcon%28icon_544c2ab543ce40299be00b31d5bcae61%29%3B%0A%20%20%20%20%20%20%20%20%0A%20%20%20%20%0A%20%20%20%20%20%20%20%20var%20popup_b0effd8fdb7c45f7b00385662bb9adc1%20%3D%20L.popup%28%7B%22maxWidth%22%3A%20%22100%25%22%7D%29%3B%0A%0A%20%20%20%20%20%20%20%20%0A%20%20%20%20%20%20%20%20%20%20%20%20var%20html_ffba05b7608441628563adba2443b86d%20%3D%20%24%28%60%3Cdiv%20id%3D%22html_ffba05b7608441628563adba2443b86d%22%20style%3D%22width%3A%20100.0%25%3B%20height%3A%20100.0%25%3B%22%3EID%3AO%20THE%20HOME%20DEPOT%20OSHAWA%3C/div%3E%60%29%5B0%5D%3B%0A%20%20%20%20%20%20%20%20%20%20%20%20popup_b0effd8fdb7c45f7b00385662bb9adc1.setContent%28html_ffba05b7608441628563adba2443b86d%29%3B%0A%20%20%20%20%20%20%20%20%0A%0A%20%20%20%20%20%20%20%20marker_e5605cb823ae49ae9a4f0cc3874d30f7.bindPopup%28popup_b0effd8fdb7c45f7b00385662bb9adc1%29%0A%20%20%20%20%20%20%20%20%3B%0A%0A%20%20%20%20%20%20%20%20%0A%20%20%20%20%0A%3C/script%3E onload=\"this.contentDocument.open();this.contentDocument.write(    decodeURIComponent(this.getAttribute('data-html')));this.contentDocument.close();\" allowfullscreen webkitallowfullscreen mozallowfullscreen></iframe></div></div>"
      ],
      "text/plain": [
       "<folium.folium.Map at 0x1d640a17220>"
      ]
     },
     "execution_count": 134,
     "metadata": {},
     "output_type": "execute_result"
    }
   ],
   "source": [
    "import folium.plugins\n",
    "map1 = folium.Map(\n",
    "    location=[43.938315,-78.8689960],\n",
    "    tiles='cartodbpositron',\n",
    "    zoom_start=10,\n",
    ")\n",
    "marker_cluster = folium.plugins.MarkerCluster().add_to(map1)\n",
    "\n",
    "locations = df_short[['latitude', 'longitude']]\n",
    "locationlist = locations.values.tolist()\n",
    "\n",
    "for point in range(0, len(locationlist)):\n",
    "    folium.Marker(locationlist[point], popup='ID:'+df_short['Category'][point]+' '+df_short['Name'][point], \n",
    "    icon=folium.Icon(color=df_short[\"color\"][point], icon_color='white', icon=df_short['shape'][point], angle=0, prefix='fa')).add_to(marker_cluster)\n",
    "    #folium.Marker(locationlist[point], popup=df_short['Name'][point]).add_to(marker_cluster)\n",
    "    #print(df_short['shape'][point])\n",
    "map1\n",
    "# df_short.apply(lambda row:folium.CircleMarker(location=[row[\"latitude\"], row[\"longitude\"]]).add_to(map1), axis=1)\n",
    "# map1"
   ]
  },
  {
   "cell_type": "markdown",
   "id": "surprised-vacuum",
   "metadata": {},
   "source": [
    "# Plotting the route between each sub-destination"
   ]
  },
  {
   "cell_type": "code",
   "execution_count": 48,
   "id": "median-saturday",
   "metadata": {},
   "outputs": [],
   "source": [
    "import osmnx as ox\n",
    "import networkx as nx\n",
    "import plotly.graph_objects as go\n",
    "import numpy as np"
   ]
  },
  {
   "cell_type": "code",
   "execution_count": 49,
   "id": "african-isolation",
   "metadata": {},
   "outputs": [
    {
     "data": {
      "image/png": "[encoded data removed]",
      "text/plain": [
       "<Figure size 576x576 with 1 Axes>"
      ]
     },
     "metadata": {},
     "output_type": "display_data"
    },
    {
     "data": {
      "text/plain": [
       "(<Figure size 576x576 with 1 Axes>, <AxesSubplot:>)"
      ]
     },
     "execution_count": 49,
     "metadata": {},
     "output_type": "execute_result"
    }
   ],
   "source": [
    "# Defining the map boundaries \n",
    "north, east, south, west = 44.047432, -78.787944, 43.832065, -78.958772  \n",
    "# Downloading the map as a graph object \n",
    "G = ox.graph_from_bbox(north, south, east, west, network_type = 'drive')  \n",
    "# Plotting the map graph \n",
    "ox.plot_graph(G)"
   ]
  },
  {
   "cell_type": "markdown",
   "id": "accepting-lyric",
   "metadata": {},
   "source": [
    "# Function to plot and define the locations and path in the map"
   ]
  },
  {
   "cell_type": "code",
   "execution_count": 131,
   "id": "stopped-thanksgiving",
   "metadata": {},
   "outputs": [],
   "source": [
    " def plot_path(lat, long, origin_point, destination_point,name_categ_source,name_categ_dest):\n",
    "    \n",
    "            \"\"\"\n",
    "            Given a list of latitudes and longitudes, origin \n",
    "            and destination point, plots a path on a map\n",
    "\n",
    "            Parameters\n",
    "            ----------\n",
    "            lat, long: list of latitudes and longitudes\n",
    "            origin_point, destination_point: co-ordinates of origin\n",
    "            and destination    Returns\n",
    "            -------\n",
    "            Nothing. Only shows the map.\n",
    "            \"\"\"    # adding the lines joining the nodes\n",
    "            fig = go.Figure(go.Scattermapbox(\n",
    "                name = \"Path\",\n",
    "                mode = \"lines\",\n",
    "                lon = long,\n",
    "                lat = lat,\n",
    "                marker = {'size': 10},\n",
    "                line = dict(width = 4.5, color = 'blue')))    # adding source marker\n",
    "            fig.add_trace(go.Scattermapbox(\n",
    "                name = \"Source: \"+name_categ_source[0],\n",
    "                mode = 'markers',\n",
    "                textposition='top right',\n",
    "                textfont=dict(size=16, color='black'),\n",
    "                text=[name_categ_source[0] + '<br>' + name_categ_source[1]],\n",
    "                lon = [origin_point[1]],\n",
    "                lat = [origin_point[0]],\n",
    "                marker = {'size': 12, 'color':\"red\"}))\n",
    "\n",
    "            # adding destination marker\n",
    "            fig.add_trace(go.Scattermapbox(\n",
    "                name = \"Destination: \"+name_categ_dest[0],\n",
    "                mode = 'markers',\n",
    "                textposition='top right',\n",
    "                textfont=dict(size=16, color='black'),\n",
    "                text=[name_categ_dest[0] + '<br>' + name_categ_dest[1]],\n",
    "                lon = [destination_point[1]],\n",
    "                lat = [destination_point[0]],\n",
    "                marker = {'size': 12, 'color':'green'}))\n",
    "\n",
    "            # getting center for plots:\n",
    "            lat_center = np.mean(lat)\n",
    "            long_center = np.mean(long)    # defining the layout using mapbox_style\n",
    "            fig.update_layout(mapbox_style=\"stamen-terrain\",\n",
    "                mapbox_center_lat = 30, mapbox_center_lon=-80)\n",
    "            fig.update_layout(margin={\"r\":0,\"t\":0,\"l\":0,\"b\":0},\n",
    "                              mapbox = {\n",
    "                                  'center': {'lat': lat_center, \n",
    "                                  'lon': long_center},\n",
    "                                  'zoom': 13})\n",
    "            fig.show()"
   ]
  },
  {
   "cell_type": "markdown",
   "id": "demographic-secretary",
   "metadata": {},
   "source": [
    "# Function to smoothen the curves on the road "
   ]
  },
  {
   "cell_type": "code",
   "execution_count": 132,
   "id": "august-apache",
   "metadata": {},
   "outputs": [],
   "source": [
    "def node_list_to_path(G, node_list):\n",
    "        \"\"\"\n",
    "        Given a list of nodes, return a list of lines that together\n",
    "        follow the path\n",
    "        defined by the list of nodes.\n",
    "        Parameters\n",
    "        ----------\n",
    "        G : networkx multidigraph\n",
    "        route : list\n",
    "            the route as a list of nodes\n",
    "        Returns\n",
    "        -------\n",
    "        lines : list of lines given as pairs ( (x_start, y_start), \n",
    "        (x_stop, y_stop) )\n",
    "        \"\"\"\n",
    "        edge_nodes = list(zip(node_list[:-1], node_list[1:]))\n",
    "        lines = []\n",
    "        for u, v in edge_nodes:\n",
    "            # if there are parallel edges, select the shortest in length\n",
    "            data = min(G.get_edge_data(u, v).values(), \n",
    "                       key=lambda x: x['length'])\n",
    "            # if it has a geometry attribute\n",
    "            if 'geometry' in data:\n",
    "                # add them to the list of lines to plot\n",
    "                xs, ys = data['geometry'].xy\n",
    "                lines.append(list(zip(xs, ys)))\n",
    "            else:\n",
    "                # if it doesn't have a geometry attribute,\n",
    "                # then the edge is a straight line from node to node\n",
    "                x1 = G.nodes[u]['x']\n",
    "                y1 = G.nodes[u]['y']\n",
    "                x2 = G.nodes[v]['x']\n",
    "                y2 = G.nodes[v]['y']\n",
    "                line = [(x1, y1), (x2, y2)]\n",
    "                lines.append(line)\n",
    "        return lines\n"
   ]
  },
  {
   "cell_type": "markdown",
   "id": "suitable-denmark",
   "metadata": {},
   "source": [
    "# Initiating the functions by passing the origin and destination to get the optimal driving route"
   ]
  },
  {
   "cell_type": "code",
   "execution_count": 133,
   "id": "changed-australian",
   "metadata": {
    "scrolled": false
   },
   "outputs": [
    {
     "data": {
      "application/vnd.plotly.v1+json": {
       "config": {
        "plotlyServerURL": "https://plot.ly"
       },
       "data": [
        {
         "lat": [
          43.9501393,
          43.9501605,
          43.9501605,
          43.9502223,
          43.9505602,
          43.9508248,
          43.9508248,
          43.9508016,
          43.9508016,
          43.9506143,
          43.9505853,
          43.9505853,
          43.9505931,
          43.9505965,
          43.9505965,
          43.9506202,
          43.9506391,
          43.9506391,
          43.9507379,
          43.9507937,
          43.9507937,
          43.9523245,
          43.9523245,
          43.9524057,
          43.9524057,
          43.9524575,
          43.9526281,
          43.952803,
          43.9529868,
          43.9531498,
          43.9531498,
          43.953283,
          43.9533815,
          43.9533815,
          43.9533931,
          43.9533931,
          43.95344,
          43.95347,
          43.9535089,
          43.9535183,
          43.9535183,
          43.9535135,
          43.9535135,
          43.9534954,
          43.9534664,
          43.953422,
          43.9533493,
          43.9533493,
          43.9533788,
          43.9532386,
          43.9532386,
          43.9558801,
          43.9560364,
          43.9560364,
          43.9589343,
          43.9613069,
          43.9633381,
          43.9633381,
          43.9634323
         ],
         "line": {
          "color": "blue",
          "width": 4.5
         },
         "lon": [
          -78.8924904,
          -78.8923804,
          -78.8923804,
          -78.8924046,
          -78.8925467,
          -78.8926969,
          -78.8926969,
          -78.8928042,
          -78.8928042,
          -78.8937443,
          -78.8938597,
          -78.8938597,
          -78.8939643,
          -78.8941379,
          -78.8941379,
          -78.8941929,
          -78.894259,
          -78.894259,
          -78.8943371,
          -78.8943967,
          -78.8943967,
          -78.8950754,
          -78.8950754,
          -78.8951114,
          -78.8951114,
          -78.8951146,
          -78.8951252,
          -78.8951319,
          -78.8951196,
          -78.8950887,
          -78.8950887,
          -78.8950217,
          -78.8949922,
          -78.8949922,
          -78.8951048,
          -78.8951048,
          -78.89566,
          -78.89603,
          -78.8964114,
          -78.8966931,
          -78.8966931,
          -78.8968142,
          -78.8968142,
          -78.897028,
          -78.897213,
          -78.8974115,
          -78.8977166,
          -78.8977166,
          -78.8977987,
          -78.898475,
          -78.898475,
          -78.899623,
          -78.8996927,
          -78.8996927,
          -78.9009685,
          -78.9020131,
          -78.9029075,
          -78.9029075,
          -78.902949
         ],
         "marker": {
          "size": 10
         },
         "mode": "lines",
         "name": "Path",
         "type": "scattermapbox"
        },
        {
         "lat": [
          43.94987915
         ],
         "lon": [
          -78.89279710771785
         ],
         "marker": {
          "color": "red",
          "size": 12
         },
         "mode": "markers",
         "name": "Source: Home Address",
         "text": [
          "Home Address<br>User"
         ],
         "textfont": {
          "color": "black",
          "size": 16
         },
         "textposition": "top right",
         "type": "scattermapbox"
        },
        {
         "lat": [
          43.964546672266835
         ],
         "lon": [
          -78.90362907154712
         ],
         "marker": {
          "color": "green",
          "size": 12
         },
         "mode": "markers",
         "name": "Destination: FreshCo Simcoe & Winchester",
         "text": [
          "FreshCo Simcoe & Winchester<br>G"
         ],
         "textfont": {
          "color": "black",
          "size": 16
         },
         "textposition": "top right",
         "type": "scattermapbox"
        }
       ],
       "layout": {
        "mapbox": {
         "center": {
          "lat": 43.953143752542374,
          "lon": -78.89587647966103
         },
         "style": "stamen-terrain",
         "zoom": 13
        },
        "margin": {
         "b": 0,
         "l": 0,
         "r": 0,
         "t": 0
        },
        "template": {
         "data": {
          "bar": [
           {
            "error_x": {
             "color": "#2a3f5f"
            },
            "error_y": {
             "color": "#2a3f5f"
            },
            "marker": {
             "line": {
              "color": "#E5ECF6",
              "width": 0.5
             }
            },
            "type": "bar"
           }
          ],
          "barpolar": [
           {
            "marker": {
             "line": {
              "color": "#E5ECF6",
              "width": 0.5
             }
            },
            "type": "barpolar"
           }
          ],
          "carpet": [
           {
            "aaxis": {
             "endlinecolor": "#2a3f5f",
             "gridcolor": "white",
             "linecolor": "white",
             "minorgridcolor": "white",
             "startlinecolor": "#2a3f5f"
            },
            "baxis": {
             "endlinecolor": "#2a3f5f",
             "gridcolor": "white",
             "linecolor": "white",
             "minorgridcolor": "white",
             "startlinecolor": "#2a3f5f"
            },
            "type": "carpet"
           }
          ],
          "choropleth": [
           {
            "colorbar": {
             "outlinewidth": 0,
             "ticks": ""
            },
            "type": "choropleth"
           }
          ],
          "contour": [
           {
            "colorbar": {
             "outlinewidth": 0,
             "ticks": ""
            },
            "colorscale": [
             [
              0,
              "#0d0887"
             ],
             [
              0.1111111111111111,
              "#46039f"
             ],
             [
              0.2222222222222222,
              "#7201a8"
             ],
             [
              0.3333333333333333,
              "#9c179e"
             ],
             [
              0.4444444444444444,
              "#bd3786"
             ],
             [
              0.5555555555555556,
              "#d8576b"
             ],
             [
              0.6666666666666666,
              "#ed7953"
             ],
             [
              0.7777777777777778,
              "#fb9f3a"
             ],
             [
              0.8888888888888888,
              "#fdca26"
             ],
             [
              1,
              "#f0f921"
             ]
            ],
            "type": "contour"
           }
          ],
          "contourcarpet": [
           {
            "colorbar": {
             "outlinewidth": 0,
             "ticks": ""
            },
            "type": "contourcarpet"
           }
          ],
          "heatmap": [
           {
            "colorbar": {
             "outlinewidth": 0,
             "ticks": ""
            },
            "colorscale": [
             [
              0,
              "#0d0887"
             ],
             [
              0.1111111111111111,
              "#46039f"
             ],
             [
              0.2222222222222222,
              "#7201a8"
             ],
             [
              0.3333333333333333,
              "#9c179e"
             ],
             [
              0.4444444444444444,
              "#bd3786"
             ],
             [
              0.5555555555555556,
              "#d8576b"
             ],
             [
              0.6666666666666666,
              "#ed7953"
             ],
             [
              0.7777777777777778,
              "#fb9f3a"
             ],
             [
              0.8888888888888888,
              "#fdca26"
             ],
             [
              1,
              "#f0f921"
             ]
            ],
            "type": "heatmap"
           }
          ],
          "heatmapgl": [
           {
            "colorbar": {
             "outlinewidth": 0,
             "ticks": ""
            },
            "colorscale": [
             [
              0,
              "#0d0887"
             ],
             [
              0.1111111111111111,
              "#46039f"
             ],
             [
              0.2222222222222222,
              "#7201a8"
             ],
             [
              0.3333333333333333,
              "#9c179e"
             ],
             [
              0.4444444444444444,
              "#bd3786"
             ],
             [
              0.5555555555555556,
              "#d8576b"
             ],
             [
              0.6666666666666666,
              "#ed7953"
             ],
             [
              0.7777777777777778,
              "#fb9f3a"
             ],
             [
              0.8888888888888888,
              "#fdca26"
             ],
             [
              1,
              "#f0f921"
             ]
            ],
            "type": "heatmapgl"
           }
          ],
          "histogram": [
           {
            "marker": {
             "colorbar": {
              "outlinewidth": 0,
              "ticks": ""
             }
            },
            "type": "histogram"
           }
          ],
          "histogram2d": [
           {
            "colorbar": {
             "outlinewidth": 0,
             "ticks": ""
            },
            "colorscale": [
             [
              0,
              "#0d0887"
             ],
             [
              0.1111111111111111,
              "#46039f"
             ],
             [
              0.2222222222222222,
              "#7201a8"
             ],
             [
              0.3333333333333333,
              "#9c179e"
             ],
             [
              0.4444444444444444,
              "#bd3786"
             ],
             [
              0.5555555555555556,
              "#d8576b"
             ],
             [
              0.6666666666666666,
              "#ed7953"
             ],
             [
              0.7777777777777778,
              "#fb9f3a"
             ],
             [
              0.8888888888888888,
              "#fdca26"
             ],
             [
              1,
              "#f0f921"
             ]
            ],
            "type": "histogram2d"
           }
          ],
          "histogram2dcontour": [
           {
            "colorbar": {
             "outlinewidth": 0,
             "ticks": ""
            },
            "colorscale": [
             [
              0,
              "#0d0887"
             ],
             [
              0.1111111111111111,
              "#46039f"
             ],
             [
              0.2222222222222222,
              "#7201a8"
             ],
             [
              0.3333333333333333,
              "#9c179e"
             ],
             [
              0.4444444444444444,
              "#bd3786"
             ],
             [
              0.5555555555555556,
              "#d8576b"
             ],
             [
              0.6666666666666666,
              "#ed7953"
             ],
             [
              0.7777777777777778,
              "#fb9f3a"
             ],
             [
              0.8888888888888888,
              "#fdca26"
             ],
             [
              1,
              "#f0f921"
             ]
            ],
            "type": "histogram2dcontour"
           }
          ],
          "mesh3d": [
           {
            "colorbar": {
             "outlinewidth": 0,
             "ticks": ""
            },
            "type": "mesh3d"
           }
          ],
          "parcoords": [
           {
            "line": {
             "colorbar": {
              "outlinewidth": 0,
              "ticks": ""
             }
            },
            "type": "parcoords"
           }
          ],
          "pie": [
           {
            "automargin": true,
            "type": "pie"
           }
          ],
          "scatter": [
           {
            "marker": {
             "colorbar": {
              "outlinewidth": 0,
              "ticks": ""
             }
            },
            "type": "scatter"
           }
          ],
          "scatter3d": [
           {
            "line": {
             "colorbar": {
              "outlinewidth": 0,
              "ticks": ""
             }
            },
            "marker": {
             "colorbar": {
              "outlinewidth": 0,
              "ticks": ""
             }
            },
            "type": "scatter3d"
           }
          ],
          "scattercarpet": [
           {
            "marker": {
             "colorbar": {
              "outlinewidth": 0,
              "ticks": ""
             }
            },
            "type": "scattercarpet"
           }
          ],
          "scattergeo": [
           {
            "marker": {
             "colorbar": {
              "outlinewidth": 0,
              "ticks": ""
             }
            },
            "type": "scattergeo"
           }
          ],
          "scattergl": [
           {
            "marker": {
             "colorbar": {
              "outlinewidth": 0,
              "ticks": ""
             }
            },
            "type": "scattergl"
           }
          ],
          "scattermapbox": [
           {
            "marker": {
             "colorbar": {
              "outlinewidth": 0,
              "ticks": ""
             }
            },
            "type": "scattermapbox"
           }
          ],
          "scatterpolar": [
           {
            "marker": {
             "colorbar": {
              "outlinewidth": 0,
              "ticks": ""
             }
            },
            "type": "scatterpolar"
           }
          ],
          "scatterpolargl": [
           {
            "marker": {
             "colorbar": {
              "outlinewidth": 0,
              "ticks": ""
             }
            },
            "type": "scatterpolargl"
           }
          ],
          "scatterternary": [
           {
            "marker": {
             "colorbar": {
              "outlinewidth": 0,
              "ticks": ""
             }
            },
            "type": "scatterternary"
           }
          ],
          "surface": [
           {
            "colorbar": {
             "outlinewidth": 0,
             "ticks": ""
            },
            "colorscale": [
             [
              0,
              "#0d0887"
             ],
             [
              0.1111111111111111,
              "#46039f"
             ],
             [
              0.2222222222222222,
              "#7201a8"
             ],
             [
              0.3333333333333333,
              "#9c179e"
             ],
             [
              0.4444444444444444,
              "#bd3786"
             ],
             [
              0.5555555555555556,
              "#d8576b"
             ],
             [
              0.6666666666666666,
              "#ed7953"
             ],
             [
              0.7777777777777778,
              "#fb9f3a"
             ],
             [
              0.8888888888888888,
              "#fdca26"
             ],
             [
              1,
              "#f0f921"
             ]
            ],
            "type": "surface"
           }
          ],
          "table": [
           {
            "cells": {
             "fill": {
              "color": "#EBF0F8"
             },
             "line": {
              "color": "white"
             }
            },
            "header": {
             "fill": {
              "color": "#C8D4E3"
             },
             "line": {
              "color": "white"
             }
            },
            "type": "table"
           }
          ]
         },
         "layout": {
          "annotationdefaults": {
           "arrowcolor": "#2a3f5f",
           "arrowhead": 0,
           "arrowwidth": 1
          },
          "autotypenumbers": "strict",
          "coloraxis": {
           "colorbar": {
            "outlinewidth": 0,
            "ticks": ""
           }
          },
          "colorscale": {
           "diverging": [
            [
             0,
             "#8e0152"
            ],
            [
             0.1,
             "#c51b7d"
            ],
            [
             0.2,
             "#de77ae"
            ],
            [
             0.3,
             "#f1b6da"
            ],
            [
             0.4,
             "#fde0ef"
            ],
            [
             0.5,
             "#f7f7f7"
            ],
            [
             0.6,
             "#e6f5d0"
            ],
            [
             0.7,
             "#b8e186"
            ],
            [
             0.8,
             "#7fbc41"
            ],
            [
             0.9,
             "#4d9221"
            ],
            [
             1,
             "#276419"
            ]
           ],
           "sequential": [
            [
             0,
             "#0d0887"
            ],
            [
             0.1111111111111111,
             "#46039f"
            ],
            [
             0.2222222222222222,
             "#7201a8"
            ],
            [
             0.3333333333333333,
             "#9c179e"
            ],
            [
             0.4444444444444444,
             "#bd3786"
            ],
            [
             0.5555555555555556,
             "#d8576b"
            ],
            [
             0.6666666666666666,
             "#ed7953"
            ],
            [
             0.7777777777777778,
             "#fb9f3a"
            ],
            [
             0.8888888888888888,
             "#fdca26"
            ],
            [
             1,
             "#f0f921"
            ]
           ],
           "sequentialminus": [
            [
             0,
             "#0d0887"
            ],
            [
             0.1111111111111111,
             "#46039f"
            ],
            [
             0.2222222222222222,
             "#7201a8"
            ],
            [
             0.3333333333333333,
             "#9c179e"
            ],
            [
             0.4444444444444444,
             "#bd3786"
            ],
            [
             0.5555555555555556,
             "#d8576b"
            ],
            [
             0.6666666666666666,
             "#ed7953"
            ],
            [
             0.7777777777777778,
             "#fb9f3a"
            ],
            [
             0.8888888888888888,
             "#fdca26"
            ],
            [
             1,
             "#f0f921"
            ]
           ]
          },
          "colorway": [
           "#636efa",
           "#EF553B",
           "#00cc96",
           "#ab63fa",
           "#FFA15A",
           "#19d3f3",
           "#FF6692",
           "#B6E880",
           "#FF97FF",
           "#FECB52"
          ],
          "font": {
           "color": "#2a3f5f"
          },
          "geo": {
           "bgcolor": "white",
           "lakecolor": "white",
           "landcolor": "#E5ECF6",
           "showlakes": true,
           "showland": true,
           "subunitcolor": "white"
          },
          "hoverlabel": {
           "align": "left"
          },
          "hovermode": "closest",
          "mapbox": {
           "style": "light"
          },
          "paper_bgcolor": "white",
          "plot_bgcolor": "#E5ECF6",
          "polar": {
           "angularaxis": {
            "gridcolor": "white",
            "linecolor": "white",
            "ticks": ""
           },
           "bgcolor": "#E5ECF6",
           "radialaxis": {
            "gridcolor": "white",
            "linecolor": "white",
            "ticks": ""
           }
          },
          "scene": {
           "xaxis": {
            "backgroundcolor": "#E5ECF6",
            "gridcolor": "white",
            "gridwidth": 2,
            "linecolor": "white",
            "showbackground": true,
            "ticks": "",
            "zerolinecolor": "white"
           },
           "yaxis": {
            "backgroundcolor": "#E5ECF6",
            "gridcolor": "white",
            "gridwidth": 2,
            "linecolor": "white",
            "showbackground": true,
            "ticks": "",
            "zerolinecolor": "white"
           },
           "zaxis": {
            "backgroundcolor": "#E5ECF6",
            "gridcolor": "white",
            "gridwidth": 2,
            "linecolor": "white",
            "showbackground": true,
            "ticks": "",
            "zerolinecolor": "white"
           }
          },
          "shapedefaults": {
           "line": {
            "color": "#2a3f5f"
           }
          },
          "ternary": {
           "aaxis": {
            "gridcolor": "white",
            "linecolor": "white",
            "ticks": ""
           },
           "baxis": {
            "gridcolor": "white",
            "linecolor": "white",
            "ticks": ""
           },
           "bgcolor": "#E5ECF6",
           "caxis": {
            "gridcolor": "white",
            "linecolor": "white",
            "ticks": ""
           }
          },
          "title": {
           "x": 0.05
          },
          "xaxis": {
           "automargin": true,
           "gridcolor": "white",
           "linecolor": "white",
           "ticks": "",
           "title": {
            "standoff": 15
           },
           "zerolinecolor": "white",
           "zerolinewidth": 2
          },
          "yaxis": {
           "automargin": true,
           "gridcolor": "white",
           "linecolor": "white",
           "ticks": "",
           "title": {
            "standoff": 15
           },
           "zerolinecolor": "white",
           "zerolinewidth": 2
          }
         }
        }
       }
      },
      "text/html": [
       "<div>                            <div id=\"5fccd79a-d35b-4f1f-96bf-98b4a81d16c3\" class=\"plotly-graph-div\" style=\"height:525px; width:100%;\"></div>            <script type=\"text/javascript\">                require([\"plotly\"], function(Plotly) {                    window.PLOTLYENV=window.PLOTLYENV || {};                                    if (document.getElementById(\"5fccd79a-d35b-4f1f-96bf-98b4a81d16c3\")) {                    Plotly.newPlot(                        \"5fccd79a-d35b-4f1f-96bf-98b4a81d16c3\",                        [{\"lat\": [43.9501393, 43.9501605, 43.9501605, 43.9502223, 43.9505602, 43.9508248, 43.9508248, 43.9508016, 43.9508016, 43.9506143, 43.9505853, 43.9505853, 43.9505931, 43.9505965, 43.9505965, 43.9506202, 43.9506391, 43.9506391, 43.9507379, 43.9507937, 43.9507937, 43.9523245, 43.9523245, 43.9524057, 43.9524057, 43.9524575, 43.9526281, 43.952803, 43.9529868, 43.9531498, 43.9531498, 43.953283, 43.9533815, 43.9533815, 43.9533931, 43.9533931, 43.95344, 43.95347, 43.9535089, 43.9535183, 43.9535183, 43.9535135, 43.9535135, 43.9534954, 43.9534664, 43.953422, 43.9533493, 43.9533493, 43.9533788, 43.9532386, 43.9532386, 43.9558801, 43.9560364, 43.9560364, 43.9589343, 43.9613069, 43.9633381, 43.9633381, 43.9634323], \"line\": {\"color\": \"blue\", \"width\": 4.5}, \"lon\": [-78.8924904, -78.8923804, -78.8923804, -78.8924046, -78.8925467, -78.8926969, -78.8926969, -78.8928042, -78.8928042, -78.8937443, -78.8938597, -78.8938597, -78.8939643, -78.8941379, -78.8941379, -78.8941929, -78.894259, -78.894259, -78.8943371, -78.8943967, -78.8943967, -78.8950754, -78.8950754, -78.8951114, -78.8951114, -78.8951146, -78.8951252, -78.8951319, -78.8951196, -78.8950887, -78.8950887, -78.8950217, -78.8949922, -78.8949922, -78.8951048, -78.8951048, -78.89566, -78.89603, -78.8964114, -78.8966931, -78.8966931, -78.8968142, -78.8968142, -78.897028, -78.897213, -78.8974115, -78.8977166, -78.8977166, -78.8977987, -78.898475, -78.898475, -78.899623, -78.8996927, -78.8996927, -78.9009685, -78.9020131, -78.9029075, -78.9029075, -78.902949], \"marker\": {\"size\": 10}, \"mode\": \"lines\", \"name\": \"Path\", \"type\": \"scattermapbox\"}, {\"lat\": [43.94987915], \"lon\": [-78.89279710771785], \"marker\": {\"color\": \"red\", \"size\": 12}, \"mode\": \"markers\", \"name\": \"Source: Home Address\", \"text\": [\"Home Address<br>User\"], \"textfont\": {\"color\": \"black\", \"size\": 16}, \"textposition\": \"top right\", \"type\": \"scattermapbox\"}, {\"lat\": [43.964546672266835], \"lon\": [-78.90362907154712], \"marker\": {\"color\": \"green\", \"size\": 12}, \"mode\": \"markers\", \"name\": \"Destination: FreshCo Simcoe & Winchester\", \"text\": [\"FreshCo Simcoe & Winchester<br>G\"], \"textfont\": {\"color\": \"black\", \"size\": 16}, \"textposition\": \"top right\", \"type\": \"scattermapbox\"}],                        {\"mapbox\": {\"center\": {\"lat\": 43.953143752542374, \"lon\": -78.89587647966103}, \"style\": \"stamen-terrain\", \"zoom\": 13}, \"margin\": {\"b\": 0, \"l\": 0, \"r\": 0, \"t\": 0}, \"template\": {\"data\": {\"bar\": [{\"error_x\": {\"color\": \"#2a3f5f\"}, \"error_y\": {\"color\": \"#2a3f5f\"}, \"marker\": {\"line\": {\"color\": \"#E5ECF6\", \"width\": 0.5}}, \"type\": \"bar\"}], \"barpolar\": [{\"marker\": {\"line\": {\"color\": \"#E5ECF6\", \"width\": 0.5}}, \"type\": \"barpolar\"}], \"carpet\": [{\"aaxis\": {\"endlinecolor\": \"#2a3f5f\", \"gridcolor\": \"white\", \"linecolor\": \"white\", \"minorgridcolor\": \"white\", \"startlinecolor\": \"#2a3f5f\"}, \"baxis\": {\"endlinecolor\": \"#2a3f5f\", \"gridcolor\": \"white\", \"linecolor\": \"white\", \"minorgridcolor\": \"white\", \"startlinecolor\": \"#2a3f5f\"}, \"type\": \"carpet\"}], \"choropleth\": [{\"colorbar\": {\"outlinewidth\": 0, \"ticks\": \"\"}, \"type\": \"choropleth\"}], \"contour\": [{\"colorbar\": {\"outlinewidth\": 0, \"ticks\": \"\"}, \"colorscale\": [[0.0, \"#0d0887\"], [0.1111111111111111, \"#46039f\"], [0.2222222222222222, \"#7201a8\"], [0.3333333333333333, \"#9c179e\"], [0.4444444444444444, \"#bd3786\"], [0.5555555555555556, \"#d8576b\"], [0.6666666666666666, \"#ed7953\"], [0.7777777777777778, \"#fb9f3a\"], [0.8888888888888888, \"#fdca26\"], [1.0, \"#f0f921\"]], \"type\": \"contour\"}], \"contourcarpet\": [{\"colorbar\": {\"outlinewidth\": 0, \"ticks\": \"\"}, \"type\": \"contourcarpet\"}], \"heatmap\": [{\"colorbar\": {\"outlinewidth\": 0, \"ticks\": \"\"}, \"colorscale\": [[0.0, \"#0d0887\"], [0.1111111111111111, \"#46039f\"], [0.2222222222222222, \"#7201a8\"], [0.3333333333333333, \"#9c179e\"], [0.4444444444444444, \"#bd3786\"], [0.5555555555555556, \"#d8576b\"], [0.6666666666666666, \"#ed7953\"], [0.7777777777777778, \"#fb9f3a\"], [0.8888888888888888, \"#fdca26\"], [1.0, \"#f0f921\"]], \"type\": \"heatmap\"}], \"heatmapgl\": [{\"colorbar\": {\"outlinewidth\": 0, \"ticks\": \"\"}, \"colorscale\": [[0.0, \"#0d0887\"], [0.1111111111111111, \"#46039f\"], [0.2222222222222222, \"#7201a8\"], [0.3333333333333333, \"#9c179e\"], [0.4444444444444444, \"#bd3786\"], [0.5555555555555556, \"#d8576b\"], [0.6666666666666666, \"#ed7953\"], [0.7777777777777778, \"#fb9f3a\"], [0.8888888888888888, \"#fdca26\"], [1.0, \"#f0f921\"]], \"type\": \"heatmapgl\"}], \"histogram\": [{\"marker\": {\"colorbar\": {\"outlinewidth\": 0, \"ticks\": \"\"}}, \"type\": \"histogram\"}], \"histogram2d\": [{\"colorbar\": {\"outlinewidth\": 0, \"ticks\": \"\"}, \"colorscale\": [[0.0, \"#0d0887\"], [0.1111111111111111, \"#46039f\"], [0.2222222222222222, \"#7201a8\"], [0.3333333333333333, \"#9c179e\"], [0.4444444444444444, \"#bd3786\"], [0.5555555555555556, \"#d8576b\"], [0.6666666666666666, \"#ed7953\"], [0.7777777777777778, \"#fb9f3a\"], [0.8888888888888888, \"#fdca26\"], [1.0, \"#f0f921\"]], \"type\": \"histogram2d\"}], \"histogram2dcontour\": [{\"colorbar\": {\"outlinewidth\": 0, \"ticks\": \"\"}, \"colorscale\": [[0.0, \"#0d0887\"], [0.1111111111111111, \"#46039f\"], [0.2222222222222222, \"#7201a8\"], [0.3333333333333333, \"#9c179e\"], [0.4444444444444444, \"#bd3786\"], [0.5555555555555556, \"#d8576b\"], [0.6666666666666666, \"#ed7953\"], [0.7777777777777778, \"#fb9f3a\"], [0.8888888888888888, \"#fdca26\"], [1.0, \"#f0f921\"]], \"type\": \"histogram2dcontour\"}], \"mesh3d\": [{\"colorbar\": {\"outlinewidth\": 0, \"ticks\": \"\"}, \"type\": \"mesh3d\"}], \"parcoords\": [{\"line\": {\"colorbar\": {\"outlinewidth\": 0, \"ticks\": \"\"}}, \"type\": \"parcoords\"}], \"pie\": [{\"automargin\": true, \"type\": \"pie\"}], \"scatter\": [{\"marker\": {\"colorbar\": {\"outlinewidth\": 0, \"ticks\": \"\"}}, \"type\": \"scatter\"}], \"scatter3d\": [{\"line\": {\"colorbar\": {\"outlinewidth\": 0, \"ticks\": \"\"}}, \"marker\": {\"colorbar\": {\"outlinewidth\": 0, \"ticks\": \"\"}}, \"type\": \"scatter3d\"}], \"scattercarpet\": [{\"marker\": {\"colorbar\": {\"outlinewidth\": 0, \"ticks\": \"\"}}, \"type\": \"scattercarpet\"}], \"scattergeo\": [{\"marker\": {\"colorbar\": {\"outlinewidth\": 0, \"ticks\": \"\"}}, \"type\": \"scattergeo\"}], \"scattergl\": [{\"marker\": {\"colorbar\": {\"outlinewidth\": 0, \"ticks\": \"\"}}, \"type\": \"scattergl\"}], \"scattermapbox\": [{\"marker\": {\"colorbar\": {\"outlinewidth\": 0, \"ticks\": \"\"}}, \"type\": \"scattermapbox\"}], \"scatterpolar\": [{\"marker\": {\"colorbar\": {\"outlinewidth\": 0, \"ticks\": \"\"}}, \"type\": \"scatterpolar\"}], \"scatterpolargl\": [{\"marker\": {\"colorbar\": {\"outlinewidth\": 0, \"ticks\": \"\"}}, \"type\": \"scatterpolargl\"}], \"scatterternary\": [{\"marker\": {\"colorbar\": {\"outlinewidth\": 0, \"ticks\": \"\"}}, \"type\": \"scatterternary\"}], \"surface\": [{\"colorbar\": {\"outlinewidth\": 0, \"ticks\": \"\"}, \"colorscale\": [[0.0, \"#0d0887\"], [0.1111111111111111, \"#46039f\"], [0.2222222222222222, \"#7201a8\"], [0.3333333333333333, \"#9c179e\"], [0.4444444444444444, \"#bd3786\"], [0.5555555555555556, \"#d8576b\"], [0.6666666666666666, \"#ed7953\"], [0.7777777777777778, \"#fb9f3a\"], [0.8888888888888888, \"#fdca26\"], [1.0, \"#f0f921\"]], \"type\": \"surface\"}], \"table\": [{\"cells\": {\"fill\": {\"color\": \"#EBF0F8\"}, \"line\": {\"color\": \"white\"}}, \"header\": {\"fill\": {\"color\": \"#C8D4E3\"}, \"line\": {\"color\": \"white\"}}, \"type\": \"table\"}]}, \"layout\": {\"annotationdefaults\": {\"arrowcolor\": \"#2a3f5f\", \"arrowhead\": 0, \"arrowwidth\": 1}, \"autotypenumbers\": \"strict\", \"coloraxis\": {\"colorbar\": {\"outlinewidth\": 0, \"ticks\": \"\"}}, \"colorscale\": {\"diverging\": [[0, \"#8e0152\"], [0.1, \"#c51b7d\"], [0.2, \"#de77ae\"], [0.3, \"#f1b6da\"], [0.4, \"#fde0ef\"], [0.5, \"#f7f7f7\"], [0.6, \"#e6f5d0\"], [0.7, \"#b8e186\"], [0.8, \"#7fbc41\"], [0.9, \"#4d9221\"], [1, \"#276419\"]], \"sequential\": [[0.0, \"#0d0887\"], [0.1111111111111111, \"#46039f\"], [0.2222222222222222, \"#7201a8\"], [0.3333333333333333, \"#9c179e\"], [0.4444444444444444, \"#bd3786\"], [0.5555555555555556, \"#d8576b\"], [0.6666666666666666, \"#ed7953\"], [0.7777777777777778, \"#fb9f3a\"], [0.8888888888888888, \"#fdca26\"], [1.0, \"#f0f921\"]], \"sequentialminus\": [[0.0, \"#0d0887\"], [0.1111111111111111, \"#46039f\"], [0.2222222222222222, \"#7201a8\"], [0.3333333333333333, \"#9c179e\"], [0.4444444444444444, \"#bd3786\"], [0.5555555555555556, \"#d8576b\"], [0.6666666666666666, \"#ed7953\"], [0.7777777777777778, \"#fb9f3a\"], [0.8888888888888888, \"#fdca26\"], [1.0, \"#f0f921\"]]}, \"colorway\": [\"#636efa\", \"#EF553B\", \"#00cc96\", \"#ab63fa\", \"#FFA15A\", \"#19d3f3\", \"#FF6692\", \"#B6E880\", \"#FF97FF\", \"#FECB52\"], \"font\": {\"color\": \"#2a3f5f\"}, \"geo\": {\"bgcolor\": \"white\", \"lakecolor\": \"white\", \"landcolor\": \"#E5ECF6\", \"showlakes\": true, \"showland\": true, \"subunitcolor\": \"white\"}, \"hoverlabel\": {\"align\": \"left\"}, \"hovermode\": \"closest\", \"mapbox\": {\"style\": \"light\"}, \"paper_bgcolor\": \"white\", \"plot_bgcolor\": \"#E5ECF6\", \"polar\": {\"angularaxis\": {\"gridcolor\": \"white\", \"linecolor\": \"white\", \"ticks\": \"\"}, \"bgcolor\": \"#E5ECF6\", \"radialaxis\": {\"gridcolor\": \"white\", \"linecolor\": \"white\", \"ticks\": \"\"}}, \"scene\": {\"xaxis\": {\"backgroundcolor\": \"#E5ECF6\", \"gridcolor\": \"white\", \"gridwidth\": 2, \"linecolor\": \"white\", \"showbackground\": true, \"ticks\": \"\", \"zerolinecolor\": \"white\"}, \"yaxis\": {\"backgroundcolor\": \"#E5ECF6\", \"gridcolor\": \"white\", \"gridwidth\": 2, \"linecolor\": \"white\", \"showbackground\": true, \"ticks\": \"\", \"zerolinecolor\": \"white\"}, \"zaxis\": {\"backgroundcolor\": \"#E5ECF6\", \"gridcolor\": \"white\", \"gridwidth\": 2, \"linecolor\": \"white\", \"showbackground\": true, \"ticks\": \"\", \"zerolinecolor\": \"white\"}}, \"shapedefaults\": {\"line\": {\"color\": \"#2a3f5f\"}}, \"ternary\": {\"aaxis\": {\"gridcolor\": \"white\", \"linecolor\": \"white\", \"ticks\": \"\"}, \"baxis\": {\"gridcolor\": \"white\", \"linecolor\": \"white\", \"ticks\": \"\"}, \"bgcolor\": \"#E5ECF6\", \"caxis\": {\"gridcolor\": \"white\", \"linecolor\": \"white\", \"ticks\": \"\"}}, \"title\": {\"x\": 0.05}, \"xaxis\": {\"automargin\": true, \"gridcolor\": \"white\", \"linecolor\": \"white\", \"ticks\": \"\", \"title\": {\"standoff\": 15}, \"zerolinecolor\": \"white\", \"zerolinewidth\": 2}, \"yaxis\": {\"automargin\": true, \"gridcolor\": \"white\", \"linecolor\": \"white\", \"ticks\": \"\", \"title\": {\"standoff\": 15}, \"zerolinecolor\": \"white\", \"zerolinewidth\": 2}}}},                        {\"responsive\": true}                    ).then(function(){\n",
       "                            \n",
       "var gd = document.getElementById('5fccd79a-d35b-4f1f-96bf-98b4a81d16c3');\n",
       "var x = new MutationObserver(function (mutations, observer) {{\n",
       "        var display = window.getComputedStyle(gd).display;\n",
       "        if (!display || display === 'none') {{\n",
       "            console.log([gd, 'removed!']);\n",
       "            Plotly.purge(gd);\n",
       "            observer.disconnect();\n",
       "        }}\n",
       "}});\n",
       "\n",
       "// Listen for the removal of the full notebook cells\n",
       "var notebookContainer = gd.closest('#notebook-container');\n",
       "if (notebookContainer) {{\n",
       "    x.observe(notebookContainer, {childList: true});\n",
       "}}\n",
       "\n",
       "// Listen for the clearing of the current output cell\n",
       "var outputEl = gd.closest('.output');\n",
       "if (outputEl) {{\n",
       "    x.observe(outputEl, {childList: true});\n",
       "}}\n",
       "\n",
       "                        })                };                });            </script>        </div>"
      ]
     },
     "metadata": {},
     "output_type": "display_data"
    },
    {
     "data": {
      "application/vnd.plotly.v1+json": {
       "config": {
        "plotlyServerURL": "https://plot.ly"
       },
       "data": [
        {
         "lat": [
          43.9634323,
          43.9633381,
          43.9633381,
          43.9613069,
          43.9589343,
          43.9560364,
          43.9560364,
          43.9561622,
          43.95645,
          43.95651,
          43.95653,
          43.95651,
          43.9564892,
          43.9564892,
          43.9564,
          43.95626,
          43.95619,
          43.956081,
          43.956081,
          43.9560242,
          43.9559723,
          43.9559723,
          43.9559389,
          43.9559082,
          43.9558813,
          43.9558596,
          43.9558596,
          43.955841,
          43.9558331,
          43.9558365,
          43.9558365,
          43.9558609,
          43.9559053,
          43.9559053,
          43.955916,
          43.9559179,
          43.9559495,
          43.9559495,
          43.9558454,
          43.9556605,
          43.9553421,
          43.9553317,
          43.9553177,
          43.9553177,
          43.95517,
          43.9551432,
          43.9551131,
          43.9551131,
          43.9551102,
          43.95511,
          43.9551136,
          43.95513,
          43.9551792,
          43.9551792,
          43.955193,
          43.9552434,
          43.9553689,
          43.9555253,
          43.9556425,
          43.9556663,
          43.9556663,
          43.9561606,
          43.9561606,
          43.9561827,
          43.9564358,
          43.9564633,
          43.9564633,
          43.9539284,
          43.9532831,
          43.9532831,
          43.9528781,
          43.9525147,
          43.9522569,
          43.9522569,
          43.9520305,
          43.9518098,
          43.951068,
          43.9509539,
          43.9507684,
          43.9496825,
          43.948963,
          43.9470009,
          43.9469328,
          43.9469328,
          43.9467918,
          43.9443099,
          43.9442328,
          43.9442328,
          43.9442643,
          43.9444219,
          43.9446521,
          43.9446521,
          43.94511,
          43.94511,
          43.9454087,
          43.9454367,
          43.9454367,
          43.9454843,
          43.9455545,
          43.9455995,
          43.9456256,
          43.9456412,
          43.9456315,
          43.9456315,
          43.9456436,
          43.9456584,
          43.9456979,
          43.9457477,
          43.9458683,
          43.9459193,
          43.9459193,
          43.9459465,
          43.9461106,
          43.9462076,
          43.9462602,
          43.9462994,
          43.9463008,
          43.9462331,
          43.9461082,
          43.9459578,
          43.9459408,
          43.9454071,
          43.9453585,
          43.9453585,
          43.9451677,
          43.9447683,
          43.9447683,
          43.9443808,
          43.9442832,
          43.9442832,
          43.9442759,
          43.9442291,
          43.944226,
          43.9442859,
          43.9443836,
          43.9444671,
          43.9444999,
          43.9444999,
          43.9443459,
          43.9436997,
          43.9436997,
          43.943521,
          43.9428173,
          43.9424415,
          43.9423319,
          43.9423319,
          43.9422465,
          43.9422465,
          43.9421895,
          43.9406638,
          43.9406638,
          43.9406897
         ],
         "line": {
          "color": "blue",
          "width": 4.5
         },
         "lon": [
          -78.902949,
          -78.9029075,
          -78.9029075,
          -78.9020131,
          -78.9009685,
          -78.8996927,
          -78.8996927,
          -78.8991608,
          -78.89804,
          -78.89764,
          -78.8972,
          -78.89685,
          -78.8966818,
          -78.8966818,
          -78.89613,
          -78.89537,
          -78.89487,
          -78.893601,
          -78.893601,
          -78.8934404,
          -78.8932963,
          -78.8932963,
          -78.8932839,
          -78.8932621,
          -78.8932319,
          -78.8931947,
          -78.8931947,
          -78.8931406,
          -78.8930817,
          -78.893022,
          -78.893022,
          -78.8929415,
          -78.8928796,
          -78.8928796,
          -78.8927068,
          -78.8926574,
          -78.8925138,
          -78.8925138,
          -78.8913022,
          -78.8893179,
          -78.886832,
          -78.8867592,
          -78.8866614,
          -78.8866614,
          -78.88563,
          -78.8853491,
          -78.8849726,
          -78.8849726,
          -78.8848887,
          -78.88462,
          -78.884547,
          -78.88421,
          -78.8838567,
          -78.8838567,
          -78.8837664,
          -78.8834349,
          -78.8828744,
          -78.8822736,
          -78.8818076,
          -78.881713,
          -78.881713,
          -78.8796959,
          -78.8796959,
          -78.8796064,
          -78.8785841,
          -78.878473,
          -78.878473,
          -78.8773412,
          -78.8770531,
          -78.8770531,
          -78.8769023,
          -78.8767889,
          -78.8767223,
          -78.8767223,
          -78.8766741,
          -78.8766102,
          -78.8762745,
          -78.8762229,
          -78.876139,
          -78.8756477,
          -78.8753222,
          -78.8743865,
          -78.8743566,
          -78.8743566,
          -78.8742896,
          -78.8731577,
          -78.8731225,
          -78.8731225,
          -78.8729809,
          -78.8722725,
          -78.8712841,
          -78.8712841,
          -78.86916,
          -78.86916,
          -78.8678932,
          -78.8677764,
          -78.8677764,
          -78.8675628,
          -78.8672686,
          -78.8670039,
          -78.8667359,
          -78.8658571,
          -78.865731,
          -78.865731,
          -78.8647195,
          -78.8644107,
          -78.8641237,
          -78.8638825,
          -78.8632609,
          -78.8630662,
          -78.8630662,
          -78.8629088,
          -78.8623119,
          -78.861868,
          -78.8615385,
          -78.8610744,
          -78.8606381,
          -78.8600694,
          -78.8595394,
          -78.8590768,
          -78.859031,
          -78.857594,
          -78.8574493,
          -78.8574493,
          -78.8569696,
          -78.8559654,
          -78.8559654,
          -78.854786,
          -78.8543015,
          -78.8543015,
          -78.8542554,
          -78.8537359,
          -78.853264,
          -78.8526674,
          -78.852191,
          -78.8518066,
          -78.8516557,
          -78.8516557,
          -78.8515838,
          -78.8512818,
          -78.8512818,
          -78.8512382,
          -78.8509139,
          -78.8507479,
          -78.8506995,
          -78.8506995,
          -78.8506619,
          -78.8506619,
          -78.8506374,
          -78.8499817,
          -78.8499817,
          -78.8498715
         ],
         "marker": {
          "size": 10
         },
         "mode": "lines",
         "name": "Path",
         "type": "scattermapbox"
        },
        {
         "lat": [
          43.964546672266835
         ],
         "lon": [
          -78.90362907154712
         ],
         "marker": {
          "color": "red",
          "size": 12
         },
         "mode": "markers",
         "name": "Source: FreshCo Simcoe & Winchester",
         "text": [
          "FreshCo Simcoe & Winchester<br>G"
         ],
         "textfont": {
          "color": "black",
          "size": 16
         },
         "textposition": "top right",
         "type": "scattermapbox"
        },
        {
         "lat": [
          43.94155815
         ],
         "lon": [
          -78.8496132198076
         ],
         "marker": {
          "color": "green",
          "size": 12
         },
         "mode": "markers",
         "name": "Destination: Best Buy�First Pro Oshawa",
         "text": [
          "Best Buy�First Pro Oshawa<br>E"
         ],
         "textfont": {
          "color": "black",
          "size": 16
         },
         "textposition": "top right",
         "type": "scattermapbox"
        }
       ],
       "layout": {
        "mapbox": {
         "center": {
          "lat": 43.95049483289474,
          "lon": -78.87523454671052
         },
         "style": "stamen-terrain",
         "zoom": 13
        },
        "margin": {
         "b": 0,
         "l": 0,
         "r": 0,
         "t": 0
        },
        "template": {
         "data": {
          "bar": [
           {
            "error_x": {
             "color": "#2a3f5f"
            },
            "error_y": {
             "color": "#2a3f5f"
            },
            "marker": {
             "line": {
              "color": "#E5ECF6",
              "width": 0.5
             }
            },
            "type": "bar"
           }
          ],
          "barpolar": [
           {
            "marker": {
             "line": {
              "color": "#E5ECF6",
              "width": 0.5
             }
            },
            "type": "barpolar"
           }
          ],
          "carpet": [
           {
            "aaxis": {
             "endlinecolor": "#2a3f5f",
             "gridcolor": "white",
             "linecolor": "white",
             "minorgridcolor": "white",
             "startlinecolor": "#2a3f5f"
            },
            "baxis": {
             "endlinecolor": "#2a3f5f",
             "gridcolor": "white",
             "linecolor": "white",
             "minorgridcolor": "white",
             "startlinecolor": "#2a3f5f"
            },
            "type": "carpet"
           }
          ],
          "choropleth": [
           {
            "colorbar": {
             "outlinewidth": 0,
             "ticks": ""
            },
            "type": "choropleth"
           }
          ],
          "contour": [
           {
            "colorbar": {
             "outlinewidth": 0,
             "ticks": ""
            },
            "colorscale": [
             [
              0,
              "#0d0887"
             ],
             [
              0.1111111111111111,
              "#46039f"
             ],
             [
              0.2222222222222222,
              "#7201a8"
             ],
             [
              0.3333333333333333,
              "#9c179e"
             ],
             [
              0.4444444444444444,
              "#bd3786"
             ],
             [
              0.5555555555555556,
              "#d8576b"
             ],
             [
              0.6666666666666666,
              "#ed7953"
             ],
             [
              0.7777777777777778,
              "#fb9f3a"
             ],
             [
              0.8888888888888888,
              "#fdca26"
             ],
             [
              1,
              "#f0f921"
             ]
            ],
            "type": "contour"
           }
          ],
          "contourcarpet": [
           {
            "colorbar": {
             "outlinewidth": 0,
             "ticks": ""
            },
            "type": "contourcarpet"
           }
          ],
          "heatmap": [
           {
            "colorbar": {
             "outlinewidth": 0,
             "ticks": ""
            },
            "colorscale": [
             [
              0,
              "#0d0887"
             ],
             [
              0.1111111111111111,
              "#46039f"
             ],
             [
              0.2222222222222222,
              "#7201a8"
             ],
             [
              0.3333333333333333,
              "#9c179e"
             ],
             [
              0.4444444444444444,
              "#bd3786"
             ],
             [
              0.5555555555555556,
              "#d8576b"
             ],
             [
              0.6666666666666666,
              "#ed7953"
             ],
             [
              0.7777777777777778,
              "#fb9f3a"
             ],
             [
              0.8888888888888888,
              "#fdca26"
             ],
             [
              1,
              "#f0f921"
             ]
            ],
            "type": "heatmap"
           }
          ],
          "heatmapgl": [
           {
            "colorbar": {
             "outlinewidth": 0,
             "ticks": ""
            },
            "colorscale": [
             [
              0,
              "#0d0887"
             ],
             [
              0.1111111111111111,
              "#46039f"
             ],
             [
              0.2222222222222222,
              "#7201a8"
             ],
             [
              0.3333333333333333,
              "#9c179e"
             ],
             [
              0.4444444444444444,
              "#bd3786"
             ],
             [
              0.5555555555555556,
              "#d8576b"
             ],
             [
              0.6666666666666666,
              "#ed7953"
             ],
             [
              0.7777777777777778,
              "#fb9f3a"
             ],
             [
              0.8888888888888888,
              "#fdca26"
             ],
             [
              1,
              "#f0f921"
             ]
            ],
            "type": "heatmapgl"
           }
          ],
          "histogram": [
           {
            "marker": {
             "colorbar": {
              "outlinewidth": 0,
              "ticks": ""
             }
            },
            "type": "histogram"
           }
          ],
          "histogram2d": [
           {
            "colorbar": {
             "outlinewidth": 0,
             "ticks": ""
            },
            "colorscale": [
             [
              0,
              "#0d0887"
             ],
             [
              0.1111111111111111,
              "#46039f"
             ],
             [
              0.2222222222222222,
              "#7201a8"
             ],
             [
              0.3333333333333333,
              "#9c179e"
             ],
             [
              0.4444444444444444,
              "#bd3786"
             ],
             [
              0.5555555555555556,
              "#d8576b"
             ],
             [
              0.6666666666666666,
              "#ed7953"
             ],
             [
              0.7777777777777778,
              "#fb9f3a"
             ],
             [
              0.8888888888888888,
              "#fdca26"
             ],
             [
              1,
              "#f0f921"
             ]
            ],
            "type": "histogram2d"
           }
          ],
          "histogram2dcontour": [
           {
            "colorbar": {
             "outlinewidth": 0,
             "ticks": ""
            },
            "colorscale": [
             [
              0,
              "#0d0887"
             ],
             [
              0.1111111111111111,
              "#46039f"
             ],
             [
              0.2222222222222222,
              "#7201a8"
             ],
             [
              0.3333333333333333,
              "#9c179e"
             ],
             [
              0.4444444444444444,
              "#bd3786"
             ],
             [
              0.5555555555555556,
              "#d8576b"
             ],
             [
              0.6666666666666666,
              "#ed7953"
             ],
             [
              0.7777777777777778,
              "#fb9f3a"
             ],
             [
              0.8888888888888888,
              "#fdca26"
             ],
             [
              1,
              "#f0f921"
             ]
            ],
            "type": "histogram2dcontour"
           }
          ],
          "mesh3d": [
           {
            "colorbar": {
             "outlinewidth": 0,
             "ticks": ""
            },
            "type": "mesh3d"
           }
          ],
          "parcoords": [
           {
            "line": {
             "colorbar": {
              "outlinewidth": 0,
              "ticks": ""
             }
            },
            "type": "parcoords"
           }
          ],
          "pie": [
           {
            "automargin": true,
            "type": "pie"
           }
          ],
          "scatter": [
           {
            "marker": {
             "colorbar": {
              "outlinewidth": 0,
              "ticks": ""
             }
            },
            "type": "scatter"
           }
          ],
          "scatter3d": [
           {
            "line": {
             "colorbar": {
              "outlinewidth": 0,
              "ticks": ""
             }
            },
            "marker": {
             "colorbar": {
              "outlinewidth": 0,
              "ticks": ""
             }
            },
            "type": "scatter3d"
           }
          ],
          "scattercarpet": [
           {
            "marker": {
             "colorbar": {
              "outlinewidth": 0,
              "ticks": ""
             }
            },
            "type": "scattercarpet"
           }
          ],
          "scattergeo": [
           {
            "marker": {
             "colorbar": {
              "outlinewidth": 0,
              "ticks": ""
             }
            },
            "type": "scattergeo"
           }
          ],
          "scattergl": [
           {
            "marker": {
             "colorbar": {
              "outlinewidth": 0,
              "ticks": ""
             }
            },
            "type": "scattergl"
           }
          ],
          "scattermapbox": [
           {
            "marker": {
             "colorbar": {
              "outlinewidth": 0,
              "ticks": ""
             }
            },
            "type": "scattermapbox"
           }
          ],
          "scatterpolar": [
           {
            "marker": {
             "colorbar": {
              "outlinewidth": 0,
              "ticks": ""
             }
            },
            "type": "scatterpolar"
           }
          ],
          "scatterpolargl": [
           {
            "marker": {
             "colorbar": {
              "outlinewidth": 0,
              "ticks": ""
             }
            },
            "type": "scatterpolargl"
           }
          ],
          "scatterternary": [
           {
            "marker": {
             "colorbar": {
              "outlinewidth": 0,
              "ticks": ""
             }
            },
            "type": "scatterternary"
           }
          ],
          "surface": [
           {
            "colorbar": {
             "outlinewidth": 0,
             "ticks": ""
            },
            "colorscale": [
             [
              0,
              "#0d0887"
             ],
             [
              0.1111111111111111,
              "#46039f"
             ],
             [
              0.2222222222222222,
              "#7201a8"
             ],
             [
              0.3333333333333333,
              "#9c179e"
             ],
             [
              0.4444444444444444,
              "#bd3786"
             ],
             [
              0.5555555555555556,
              "#d8576b"
             ],
             [
              0.6666666666666666,
              "#ed7953"
             ],
             [
              0.7777777777777778,
              "#fb9f3a"
             ],
             [
              0.8888888888888888,
              "#fdca26"
             ],
             [
              1,
              "#f0f921"
             ]
            ],
            "type": "surface"
           }
          ],
          "table": [
           {
            "cells": {
             "fill": {
              "color": "#EBF0F8"
             },
             "line": {
              "color": "white"
             }
            },
            "header": {
             "fill": {
              "color": "#C8D4E3"
             },
             "line": {
              "color": "white"
             }
            },
            "type": "table"
           }
          ]
         },
         "layout": {
          "annotationdefaults": {
           "arrowcolor": "#2a3f5f",
           "arrowhead": 0,
           "arrowwidth": 1
          },
          "autotypenumbers": "strict",
          "coloraxis": {
           "colorbar": {
            "outlinewidth": 0,
            "ticks": ""
           }
          },
          "colorscale": {
           "diverging": [
            [
             0,
             "#8e0152"
            ],
            [
             0.1,
             "#c51b7d"
            ],
            [
             0.2,
             "#de77ae"
            ],
            [
             0.3,
             "#f1b6da"
            ],
            [
             0.4,
             "#fde0ef"
            ],
            [
             0.5,
             "#f7f7f7"
            ],
            [
             0.6,
             "#e6f5d0"
            ],
            [
             0.7,
             "#b8e186"
            ],
            [
             0.8,
             "#7fbc41"
            ],
            [
             0.9,
             "#4d9221"
            ],
            [
             1,
             "#276419"
            ]
           ],
           "sequential": [
            [
             0,
             "#0d0887"
            ],
            [
             0.1111111111111111,
             "#46039f"
            ],
            [
             0.2222222222222222,
             "#7201a8"
            ],
            [
             0.3333333333333333,
             "#9c179e"
            ],
            [
             0.4444444444444444,
             "#bd3786"
            ],
            [
             0.5555555555555556,
             "#d8576b"
            ],
            [
             0.6666666666666666,
             "#ed7953"
            ],
            [
             0.7777777777777778,
             "#fb9f3a"
            ],
            [
             0.8888888888888888,
             "#fdca26"
            ],
            [
             1,
             "#f0f921"
            ]
           ],
           "sequentialminus": [
            [
             0,
             "#0d0887"
            ],
            [
             0.1111111111111111,
             "#46039f"
            ],
            [
             0.2222222222222222,
             "#7201a8"
            ],
            [
             0.3333333333333333,
             "#9c179e"
            ],
            [
             0.4444444444444444,
             "#bd3786"
            ],
            [
             0.5555555555555556,
             "#d8576b"
            ],
            [
             0.6666666666666666,
             "#ed7953"
            ],
            [
             0.7777777777777778,
             "#fb9f3a"
            ],
            [
             0.8888888888888888,
             "#fdca26"
            ],
            [
             1,
             "#f0f921"
            ]
           ]
          },
          "colorway": [
           "#636efa",
           "#EF553B",
           "#00cc96",
           "#ab63fa",
           "#FFA15A",
           "#19d3f3",
           "#FF6692",
           "#B6E880",
           "#FF97FF",
           "#FECB52"
          ],
          "font": {
           "color": "#2a3f5f"
          },
          "geo": {
           "bgcolor": "white",
           "lakecolor": "white",
           "landcolor": "#E5ECF6",
           "showlakes": true,
           "showland": true,
           "subunitcolor": "white"
          },
          "hoverlabel": {
           "align": "left"
          },
          "hovermode": "closest",
          "mapbox": {
           "style": "light"
          },
          "paper_bgcolor": "white",
          "plot_bgcolor": "#E5ECF6",
          "polar": {
           "angularaxis": {
            "gridcolor": "white",
            "linecolor": "white",
            "ticks": ""
           },
           "bgcolor": "#E5ECF6",
           "radialaxis": {
            "gridcolor": "white",
            "linecolor": "white",
            "ticks": ""
           }
          },
          "scene": {
           "xaxis": {
            "backgroundcolor": "#E5ECF6",
            "gridcolor": "white",
            "gridwidth": 2,
            "linecolor": "white",
            "showbackground": true,
            "ticks": "",
            "zerolinecolor": "white"
           },
           "yaxis": {
            "backgroundcolor": "#E5ECF6",
            "gridcolor": "white",
            "gridwidth": 2,
            "linecolor": "white",
            "showbackground": true,
            "ticks": "",
            "zerolinecolor": "white"
           },
           "zaxis": {
            "backgroundcolor": "#E5ECF6",
            "gridcolor": "white",
            "gridwidth": 2,
            "linecolor": "white",
            "showbackground": true,
            "ticks": "",
            "zerolinecolor": "white"
           }
          },
          "shapedefaults": {
           "line": {
            "color": "#2a3f5f"
           }
          },
          "ternary": {
           "aaxis": {
            "gridcolor": "white",
            "linecolor": "white",
            "ticks": ""
           },
           "baxis": {
            "gridcolor": "white",
            "linecolor": "white",
            "ticks": ""
           },
           "bgcolor": "#E5ECF6",
           "caxis": {
            "gridcolor": "white",
            "linecolor": "white",
            "ticks": ""
           }
          },
          "title": {
           "x": 0.05
          },
          "xaxis": {
           "automargin": true,
           "gridcolor": "white",
           "linecolor": "white",
           "ticks": "",
           "title": {
            "standoff": 15
           },
           "zerolinecolor": "white",
           "zerolinewidth": 2
          },
          "yaxis": {
           "automargin": true,
           "gridcolor": "white",
           "linecolor": "white",
           "ticks": "",
           "title": {
            "standoff": 15
           },
           "zerolinecolor": "white",
           "zerolinewidth": 2
          }
         }
        }
       }
      },
      "text/html": [
       "<div>                            <div id=\"0dd83324-64a6-470e-b29f-80cb29a44fc0\" class=\"plotly-graph-div\" style=\"height:525px; width:100%;\"></div>            <script type=\"text/javascript\">                require([\"plotly\"], function(Plotly) {                    window.PLOTLYENV=window.PLOTLYENV || {};                                    if (document.getElementById(\"0dd83324-64a6-470e-b29f-80cb29a44fc0\")) {                    Plotly.newPlot(                        \"0dd83324-64a6-470e-b29f-80cb29a44fc0\",                        [{\"lat\": [43.9634323, 43.9633381, 43.9633381, 43.9613069, 43.9589343, 43.9560364, 43.9560364, 43.9561622, 43.95645, 43.95651, 43.95653, 43.95651, 43.9564892, 43.9564892, 43.9564, 43.95626, 43.95619, 43.956081, 43.956081, 43.9560242, 43.9559723, 43.9559723, 43.9559389, 43.9559082, 43.9558813, 43.9558596, 43.9558596, 43.955841, 43.9558331, 43.9558365, 43.9558365, 43.9558609, 43.9559053, 43.9559053, 43.955916, 43.9559179, 43.9559495, 43.9559495, 43.9558454, 43.9556605, 43.9553421, 43.9553317, 43.9553177, 43.9553177, 43.95517, 43.9551432, 43.9551131, 43.9551131, 43.9551102, 43.95511, 43.9551136, 43.95513, 43.9551792, 43.9551792, 43.955193, 43.9552434, 43.9553689, 43.9555253, 43.9556425, 43.9556663, 43.9556663, 43.9561606, 43.9561606, 43.9561827, 43.9564358, 43.9564633, 43.9564633, 43.9539284, 43.9532831, 43.9532831, 43.9528781, 43.9525147, 43.9522569, 43.9522569, 43.9520305, 43.9518098, 43.951068, 43.9509539, 43.9507684, 43.9496825, 43.948963, 43.9470009, 43.9469328, 43.9469328, 43.9467918, 43.9443099, 43.9442328, 43.9442328, 43.9442643, 43.9444219, 43.9446521, 43.9446521, 43.94511, 43.94511, 43.9454087, 43.9454367, 43.9454367, 43.9454843, 43.9455545, 43.9455995, 43.9456256, 43.9456412, 43.9456315, 43.9456315, 43.9456436, 43.9456584, 43.9456979, 43.9457477, 43.9458683, 43.9459193, 43.9459193, 43.9459465, 43.9461106, 43.9462076, 43.9462602, 43.9462994, 43.9463008, 43.9462331, 43.9461082, 43.9459578, 43.9459408, 43.9454071, 43.9453585, 43.9453585, 43.9451677, 43.9447683, 43.9447683, 43.9443808, 43.9442832, 43.9442832, 43.9442759, 43.9442291, 43.944226, 43.9442859, 43.9443836, 43.9444671, 43.9444999, 43.9444999, 43.9443459, 43.9436997, 43.9436997, 43.943521, 43.9428173, 43.9424415, 43.9423319, 43.9423319, 43.9422465, 43.9422465, 43.9421895, 43.9406638, 43.9406638, 43.9406897], \"line\": {\"color\": \"blue\", \"width\": 4.5}, \"lon\": [-78.902949, -78.9029075, -78.9029075, -78.9020131, -78.9009685, -78.8996927, -78.8996927, -78.8991608, -78.89804, -78.89764, -78.8972, -78.89685, -78.8966818, -78.8966818, -78.89613, -78.89537, -78.89487, -78.893601, -78.893601, -78.8934404, -78.8932963, -78.8932963, -78.8932839, -78.8932621, -78.8932319, -78.8931947, -78.8931947, -78.8931406, -78.8930817, -78.893022, -78.893022, -78.8929415, -78.8928796, -78.8928796, -78.8927068, -78.8926574, -78.8925138, -78.8925138, -78.8913022, -78.8893179, -78.886832, -78.8867592, -78.8866614, -78.8866614, -78.88563, -78.8853491, -78.8849726, -78.8849726, -78.8848887, -78.88462, -78.884547, -78.88421, -78.8838567, -78.8838567, -78.8837664, -78.8834349, -78.8828744, -78.8822736, -78.8818076, -78.881713, -78.881713, -78.8796959, -78.8796959, -78.8796064, -78.8785841, -78.878473, -78.878473, -78.8773412, -78.8770531, -78.8770531, -78.8769023, -78.8767889, -78.8767223, -78.8767223, -78.8766741, -78.8766102, -78.8762745, -78.8762229, -78.876139, -78.8756477, -78.8753222, -78.8743865, -78.8743566, -78.8743566, -78.8742896, -78.8731577, -78.8731225, -78.8731225, -78.8729809, -78.8722725, -78.8712841, -78.8712841, -78.86916, -78.86916, -78.8678932, -78.8677764, -78.8677764, -78.8675628, -78.8672686, -78.8670039, -78.8667359, -78.8658571, -78.865731, -78.865731, -78.8647195, -78.8644107, -78.8641237, -78.8638825, -78.8632609, -78.8630662, -78.8630662, -78.8629088, -78.8623119, -78.861868, -78.8615385, -78.8610744, -78.8606381, -78.8600694, -78.8595394, -78.8590768, -78.859031, -78.857594, -78.8574493, -78.8574493, -78.8569696, -78.8559654, -78.8559654, -78.854786, -78.8543015, -78.8543015, -78.8542554, -78.8537359, -78.853264, -78.8526674, -78.852191, -78.8518066, -78.8516557, -78.8516557, -78.8515838, -78.8512818, -78.8512818, -78.8512382, -78.8509139, -78.8507479, -78.8506995, -78.8506995, -78.8506619, -78.8506619, -78.8506374, -78.8499817, -78.8499817, -78.8498715], \"marker\": {\"size\": 10}, \"mode\": \"lines\", \"name\": \"Path\", \"type\": \"scattermapbox\"}, {\"lat\": [43.964546672266835], \"lon\": [-78.90362907154712], \"marker\": {\"color\": \"red\", \"size\": 12}, \"mode\": \"markers\", \"name\": \"Source: FreshCo Simcoe & Winchester\", \"text\": [\"FreshCo Simcoe & Winchester<br>G\"], \"textfont\": {\"color\": \"black\", \"size\": 16}, \"textposition\": \"top right\", \"type\": \"scattermapbox\"}, {\"lat\": [43.94155815], \"lon\": [-78.8496132198076], \"marker\": {\"color\": \"green\", \"size\": 12}, \"mode\": \"markers\", \"name\": \"Destination: Best Buy\\ufffdFirst Pro Oshawa\", \"text\": [\"Best Buy\\ufffdFirst Pro Oshawa<br>E\"], \"textfont\": {\"color\": \"black\", \"size\": 16}, \"textposition\": \"top right\", \"type\": \"scattermapbox\"}],                        {\"mapbox\": {\"center\": {\"lat\": 43.95049483289474, \"lon\": -78.87523454671052}, \"style\": \"stamen-terrain\", \"zoom\": 13}, \"margin\": {\"b\": 0, \"l\": 0, \"r\": 0, \"t\": 0}, \"template\": {\"data\": {\"bar\": [{\"error_x\": {\"color\": \"#2a3f5f\"}, \"error_y\": {\"color\": \"#2a3f5f\"}, \"marker\": {\"line\": {\"color\": \"#E5ECF6\", \"width\": 0.5}}, \"type\": \"bar\"}], \"barpolar\": [{\"marker\": {\"line\": {\"color\": \"#E5ECF6\", \"width\": 0.5}}, \"type\": \"barpolar\"}], \"carpet\": [{\"aaxis\": {\"endlinecolor\": \"#2a3f5f\", \"gridcolor\": \"white\", \"linecolor\": \"white\", \"minorgridcolor\": \"white\", \"startlinecolor\": \"#2a3f5f\"}, \"baxis\": {\"endlinecolor\": \"#2a3f5f\", \"gridcolor\": \"white\", \"linecolor\": \"white\", \"minorgridcolor\": \"white\", \"startlinecolor\": \"#2a3f5f\"}, \"type\": \"carpet\"}], \"choropleth\": [{\"colorbar\": {\"outlinewidth\": 0, \"ticks\": \"\"}, \"type\": \"choropleth\"}], \"contour\": [{\"colorbar\": {\"outlinewidth\": 0, \"ticks\": \"\"}, \"colorscale\": [[0.0, \"#0d0887\"], [0.1111111111111111, \"#46039f\"], [0.2222222222222222, \"#7201a8\"], [0.3333333333333333, \"#9c179e\"], [0.4444444444444444, \"#bd3786\"], [0.5555555555555556, \"#d8576b\"], [0.6666666666666666, \"#ed7953\"], [0.7777777777777778, \"#fb9f3a\"], [0.8888888888888888, \"#fdca26\"], [1.0, \"#f0f921\"]], \"type\": \"contour\"}], \"contourcarpet\": [{\"colorbar\": {\"outlinewidth\": 0, \"ticks\": \"\"}, \"type\": \"contourcarpet\"}], \"heatmap\": [{\"colorbar\": {\"outlinewidth\": 0, \"ticks\": \"\"}, \"colorscale\": [[0.0, \"#0d0887\"], [0.1111111111111111, \"#46039f\"], [0.2222222222222222, \"#7201a8\"], [0.3333333333333333, \"#9c179e\"], [0.4444444444444444, \"#bd3786\"], [0.5555555555555556, \"#d8576b\"], [0.6666666666666666, \"#ed7953\"], [0.7777777777777778, \"#fb9f3a\"], [0.8888888888888888, \"#fdca26\"], [1.0, \"#f0f921\"]], \"type\": \"heatmap\"}], \"heatmapgl\": [{\"colorbar\": {\"outlinewidth\": 0, \"ticks\": \"\"}, \"colorscale\": [[0.0, \"#0d0887\"], [0.1111111111111111, \"#46039f\"], [0.2222222222222222, \"#7201a8\"], [0.3333333333333333, \"#9c179e\"], [0.4444444444444444, \"#bd3786\"], [0.5555555555555556, \"#d8576b\"], [0.6666666666666666, \"#ed7953\"], [0.7777777777777778, \"#fb9f3a\"], [0.8888888888888888, \"#fdca26\"], [1.0, \"#f0f921\"]], \"type\": \"heatmapgl\"}], \"histogram\": [{\"marker\": {\"colorbar\": {\"outlinewidth\": 0, \"ticks\": \"\"}}, \"type\": \"histogram\"}], \"histogram2d\": [{\"colorbar\": {\"outlinewidth\": 0, \"ticks\": \"\"}, \"colorscale\": [[0.0, \"#0d0887\"], [0.1111111111111111, \"#46039f\"], [0.2222222222222222, \"#7201a8\"], [0.3333333333333333, \"#9c179e\"], [0.4444444444444444, \"#bd3786\"], [0.5555555555555556, \"#d8576b\"], [0.6666666666666666, \"#ed7953\"], [0.7777777777777778, \"#fb9f3a\"], [0.8888888888888888, \"#fdca26\"], [1.0, \"#f0f921\"]], \"type\": \"histogram2d\"}], \"histogram2dcontour\": [{\"colorbar\": {\"outlinewidth\": 0, \"ticks\": \"\"}, \"colorscale\": [[0.0, \"#0d0887\"], [0.1111111111111111, \"#46039f\"], [0.2222222222222222, \"#7201a8\"], [0.3333333333333333, \"#9c179e\"], [0.4444444444444444, \"#bd3786\"], [0.5555555555555556, \"#d8576b\"], [0.6666666666666666, \"#ed7953\"], [0.7777777777777778, \"#fb9f3a\"], [0.8888888888888888, \"#fdca26\"], [1.0, \"#f0f921\"]], \"type\": \"histogram2dcontour\"}], \"mesh3d\": [{\"colorbar\": {\"outlinewidth\": 0, \"ticks\": \"\"}, \"type\": \"mesh3d\"}], \"parcoords\": [{\"line\": {\"colorbar\": {\"outlinewidth\": 0, \"ticks\": \"\"}}, \"type\": \"parcoords\"}], \"pie\": [{\"automargin\": true, \"type\": \"pie\"}], \"scatter\": [{\"marker\": {\"colorbar\": {\"outlinewidth\": 0, \"ticks\": \"\"}}, \"type\": \"scatter\"}], \"scatter3d\": [{\"line\": {\"colorbar\": {\"outlinewidth\": 0, \"ticks\": \"\"}}, \"marker\": {\"colorbar\": {\"outlinewidth\": 0, \"ticks\": \"\"}}, \"type\": \"scatter3d\"}], \"scattercarpet\": [{\"marker\": {\"colorbar\": {\"outlinewidth\": 0, \"ticks\": \"\"}}, \"type\": \"scattercarpet\"}], \"scattergeo\": [{\"marker\": {\"colorbar\": {\"outlinewidth\": 0, \"ticks\": \"\"}}, \"type\": \"scattergeo\"}], \"scattergl\": [{\"marker\": {\"colorbar\": {\"outlinewidth\": 0, \"ticks\": \"\"}}, \"type\": \"scattergl\"}], \"scattermapbox\": [{\"marker\": {\"colorbar\": {\"outlinewidth\": 0, \"ticks\": \"\"}}, \"type\": \"scattermapbox\"}], \"scatterpolar\": [{\"marker\": {\"colorbar\": {\"outlinewidth\": 0, \"ticks\": \"\"}}, \"type\": \"scatterpolar\"}], \"scatterpolargl\": [{\"marker\": {\"colorbar\": {\"outlinewidth\": 0, \"ticks\": \"\"}}, \"type\": \"scatterpolargl\"}], \"scatterternary\": [{\"marker\": {\"colorbar\": {\"outlinewidth\": 0, \"ticks\": \"\"}}, \"type\": \"scatterternary\"}], \"surface\": [{\"colorbar\": {\"outlinewidth\": 0, \"ticks\": \"\"}, \"colorscale\": [[0.0, \"#0d0887\"], [0.1111111111111111, \"#46039f\"], [0.2222222222222222, \"#7201a8\"], [0.3333333333333333, \"#9c179e\"], [0.4444444444444444, \"#bd3786\"], [0.5555555555555556, \"#d8576b\"], [0.6666666666666666, \"#ed7953\"], [0.7777777777777778, \"#fb9f3a\"], [0.8888888888888888, \"#fdca26\"], [1.0, \"#f0f921\"]], \"type\": \"surface\"}], \"table\": [{\"cells\": {\"fill\": {\"color\": \"#EBF0F8\"}, \"line\": {\"color\": \"white\"}}, \"header\": {\"fill\": {\"color\": \"#C8D4E3\"}, \"line\": {\"color\": \"white\"}}, \"type\": \"table\"}]}, \"layout\": {\"annotationdefaults\": {\"arrowcolor\": \"#2a3f5f\", \"arrowhead\": 0, \"arrowwidth\": 1}, \"autotypenumbers\": \"strict\", \"coloraxis\": {\"colorbar\": {\"outlinewidth\": 0, \"ticks\": \"\"}}, \"colorscale\": {\"diverging\": [[0, \"#8e0152\"], [0.1, \"#c51b7d\"], [0.2, \"#de77ae\"], [0.3, \"#f1b6da\"], [0.4, \"#fde0ef\"], [0.5, \"#f7f7f7\"], [0.6, \"#e6f5d0\"], [0.7, \"#b8e186\"], [0.8, \"#7fbc41\"], [0.9, \"#4d9221\"], [1, \"#276419\"]], \"sequential\": [[0.0, \"#0d0887\"], [0.1111111111111111, \"#46039f\"], [0.2222222222222222, \"#7201a8\"], [0.3333333333333333, \"#9c179e\"], [0.4444444444444444, \"#bd3786\"], [0.5555555555555556, \"#d8576b\"], [0.6666666666666666, \"#ed7953\"], [0.7777777777777778, \"#fb9f3a\"], [0.8888888888888888, \"#fdca26\"], [1.0, \"#f0f921\"]], \"sequentialminus\": [[0.0, \"#0d0887\"], [0.1111111111111111, \"#46039f\"], [0.2222222222222222, \"#7201a8\"], [0.3333333333333333, \"#9c179e\"], [0.4444444444444444, \"#bd3786\"], [0.5555555555555556, \"#d8576b\"], [0.6666666666666666, \"#ed7953\"], [0.7777777777777778, \"#fb9f3a\"], [0.8888888888888888, \"#fdca26\"], [1.0, \"#f0f921\"]]}, \"colorway\": [\"#636efa\", \"#EF553B\", \"#00cc96\", \"#ab63fa\", \"#FFA15A\", \"#19d3f3\", \"#FF6692\", \"#B6E880\", \"#FF97FF\", \"#FECB52\"], \"font\": {\"color\": \"#2a3f5f\"}, \"geo\": {\"bgcolor\": \"white\", \"lakecolor\": \"white\", \"landcolor\": \"#E5ECF6\", \"showlakes\": true, \"showland\": true, \"subunitcolor\": \"white\"}, \"hoverlabel\": {\"align\": \"left\"}, \"hovermode\": \"closest\", \"mapbox\": {\"style\": \"light\"}, \"paper_bgcolor\": \"white\", \"plot_bgcolor\": \"#E5ECF6\", \"polar\": {\"angularaxis\": {\"gridcolor\": \"white\", \"linecolor\": \"white\", \"ticks\": \"\"}, \"bgcolor\": \"#E5ECF6\", \"radialaxis\": {\"gridcolor\": \"white\", \"linecolor\": \"white\", \"ticks\": \"\"}}, \"scene\": {\"xaxis\": {\"backgroundcolor\": \"#E5ECF6\", \"gridcolor\": \"white\", \"gridwidth\": 2, \"linecolor\": \"white\", \"showbackground\": true, \"ticks\": \"\", \"zerolinecolor\": \"white\"}, \"yaxis\": {\"backgroundcolor\": \"#E5ECF6\", \"gridcolor\": \"white\", \"gridwidth\": 2, \"linecolor\": \"white\", \"showbackground\": true, \"ticks\": \"\", \"zerolinecolor\": \"white\"}, \"zaxis\": {\"backgroundcolor\": \"#E5ECF6\", \"gridcolor\": \"white\", \"gridwidth\": 2, \"linecolor\": \"white\", \"showbackground\": true, \"ticks\": \"\", \"zerolinecolor\": \"white\"}}, \"shapedefaults\": {\"line\": {\"color\": \"#2a3f5f\"}}, \"ternary\": {\"aaxis\": {\"gridcolor\": \"white\", \"linecolor\": \"white\", \"ticks\": \"\"}, \"baxis\": {\"gridcolor\": \"white\", \"linecolor\": \"white\", \"ticks\": \"\"}, \"bgcolor\": \"#E5ECF6\", \"caxis\": {\"gridcolor\": \"white\", \"linecolor\": \"white\", \"ticks\": \"\"}}, \"title\": {\"x\": 0.05}, \"xaxis\": {\"automargin\": true, \"gridcolor\": \"white\", \"linecolor\": \"white\", \"ticks\": \"\", \"title\": {\"standoff\": 15}, \"zerolinecolor\": \"white\", \"zerolinewidth\": 2}, \"yaxis\": {\"automargin\": true, \"gridcolor\": \"white\", \"linecolor\": \"white\", \"ticks\": \"\", \"title\": {\"standoff\": 15}, \"zerolinecolor\": \"white\", \"zerolinewidth\": 2}}}},                        {\"responsive\": true}                    ).then(function(){\n",
       "                            \n",
       "var gd = document.getElementById('0dd83324-64a6-470e-b29f-80cb29a44fc0');\n",
       "var x = new MutationObserver(function (mutations, observer) {{\n",
       "        var display = window.getComputedStyle(gd).display;\n",
       "        if (!display || display === 'none') {{\n",
       "            console.log([gd, 'removed!']);\n",
       "            Plotly.purge(gd);\n",
       "            observer.disconnect();\n",
       "        }}\n",
       "}});\n",
       "\n",
       "// Listen for the removal of the full notebook cells\n",
       "var notebookContainer = gd.closest('#notebook-container');\n",
       "if (notebookContainer) {{\n",
       "    x.observe(notebookContainer, {childList: true});\n",
       "}}\n",
       "\n",
       "// Listen for the clearing of the current output cell\n",
       "var outputEl = gd.closest('.output');\n",
       "if (outputEl) {{\n",
       "    x.observe(outputEl, {childList: true});\n",
       "}}\n",
       "\n",
       "                        })                };                });            </script>        </div>"
      ]
     },
     "metadata": {},
     "output_type": "display_data"
    },
    {
     "data": {
      "application/vnd.plotly.v1+json": {
       "config": {
        "plotlyServerURL": "https://plot.ly"
       },
       "data": [
        {
         "lat": [
          43.9406897,
          43.9406638,
          43.9406638,
          43.9404,
          43.9400785,
          43.9398627,
          43.9398627,
          43.9396795,
          43.9396145,
          43.9396145,
          43.9394787,
          43.9394787,
          43.9394292,
          43.9392206,
          43.9392206,
          43.9386215,
          43.9385128,
          43.9385128,
          43.9383097,
          43.9382368,
          43.9381696,
          43.9378993,
          43.9378993,
          43.9368251,
          43.9359104,
          43.9359104,
          43.9336428,
          43.9336428,
          43.9319909,
          43.9319909,
          43.9308521,
          43.9302583,
          43.9301466,
          43.9295182,
          43.9295182,
          43.9289302,
          43.927886,
          43.927886,
          43.9251505,
          43.9248095,
          43.9248095,
          43.9240959,
          43.9235285,
          43.9229051,
          43.9221092,
          43.9219405,
          43.9219405,
          43.9218294,
          43.920637,
          43.920637,
          43.9185641,
          43.9175234,
          43.9173861,
          43.9173861,
          43.9172737,
          43.9143037,
          43.9137989,
          43.9130291,
          43.9130291,
          43.9129494,
          43.9126824,
          43.9125705,
          43.9125705,
          43.9124863,
          43.9124863,
          43.9124029,
          43.9121995,
          43.9121061,
          43.9121061,
          43.9120201,
          43.9118307,
          43.9114784,
          43.9113897,
          43.910989,
          43.9108891,
          43.9099969,
          43.9095456,
          43.9093871
         ],
         "line": {
          "color": "blue",
          "width": 4.5
         },
         "lon": [
          -78.8498715,
          -78.8499817,
          -78.8499817,
          -78.8498908,
          -78.8497643,
          -78.8496744,
          -78.8496744,
          -78.8496041,
          -78.8495791,
          -78.8495791,
          -78.8495251,
          -78.8495251,
          -78.8495027,
          -78.8494081,
          -78.8494081,
          -78.8491491,
          -78.8490419,
          -78.8490419,
          -78.8489576,
          -78.8489268,
          -78.8488984,
          -78.8487802,
          -78.8487802,
          -78.8483226,
          -78.8479016,
          -78.8479016,
          -78.8468746,
          -78.8468746,
          -78.8461899,
          -78.8461899,
          -78.8456737,
          -78.8453799,
          -78.8453323,
          -78.8450645,
          -78.8450645,
          -78.8448076,
          -78.8443515,
          -78.8443515,
          -78.8431029,
          -78.8429473,
          -78.8429473,
          -78.8426332,
          -78.8423866,
          -78.8421621,
          -78.8418809,
          -78.8418144,
          -78.8418144,
          -78.8417682,
          -78.8412547,
          -78.8412547,
          -78.8403475,
          -78.8398855,
          -78.8398245,
          -78.8398245,
          -78.8397753,
          -78.8384753,
          -78.8382222,
          -78.8378913,
          -78.8378913,
          -78.8379472,
          -78.837843,
          -78.8377992,
          -78.8377992,
          -78.8377671,
          -78.8377671,
          -78.8377301,
          -78.8376399,
          -78.8375177,
          -78.8375177,
          -78.8374763,
          -78.8373787,
          -78.8372261,
          -78.8371876,
          -78.837014,
          -78.8369707,
          -78.8365842,
          -78.8363756,
          -78.8363024
         ],
         "marker": {
          "size": 10
         },
         "mode": "lines",
         "name": "Path",
         "type": "scattermapbox"
        },
        {
         "lat": [
          43.94155815
         ],
         "lon": [
          -78.8496132198076
         ],
         "marker": {
          "color": "red",
          "size": 12
         },
         "mode": "markers",
         "name": "Source: Best Buy�First Pro Oshawa",
         "text": [
          "Best Buy�First Pro Oshawa<br>E"
         ],
         "textfont": {
          "color": "black",
          "size": 16
         },
         "textposition": "top right",
         "type": "scattermapbox"
        },
        {
         "lat": [
          43.9093871
         ],
         "lon": [
          -78.8363024
         ],
         "marker": {
          "color": "green",
          "size": 12
         },
         "mode": "markers",
         "name": "Destination: THE HOME DEPOT OSHAWA",
         "text": [
          "THE HOME DEPOT OSHAWA<br>O"
         ],
         "textfont": {
          "color": "black",
          "size": 16
         },
         "textposition": "top right",
         "type": "scattermapbox"
        }
       ],
       "layout": {
        "mapbox": {
         "center": {
          "lat": 43.92586925128205,
          "lon": -78.84352275000002
         },
         "style": "stamen-terrain",
         "zoom": 13
        },
        "margin": {
         "b": 0,
         "l": 0,
         "r": 0,
         "t": 0
        },
        "template": {
         "data": {
          "bar": [
           {
            "error_x": {
             "color": "#2a3f5f"
            },
            "error_y": {
             "color": "#2a3f5f"
            },
            "marker": {
             "line": {
              "color": "#E5ECF6",
              "width": 0.5
             }
            },
            "type": "bar"
           }
          ],
          "barpolar": [
           {
            "marker": {
             "line": {
              "color": "#E5ECF6",
              "width": 0.5
             }
            },
            "type": "barpolar"
           }
          ],
          "carpet": [
           {
            "aaxis": {
             "endlinecolor": "#2a3f5f",
             "gridcolor": "white",
             "linecolor": "white",
             "minorgridcolor": "white",
             "startlinecolor": "#2a3f5f"
            },
            "baxis": {
             "endlinecolor": "#2a3f5f",
             "gridcolor": "white",
             "linecolor": "white",
             "minorgridcolor": "white",
             "startlinecolor": "#2a3f5f"
            },
            "type": "carpet"
           }
          ],
          "choropleth": [
           {
            "colorbar": {
             "outlinewidth": 0,
             "ticks": ""
            },
            "type": "choropleth"
           }
          ],
          "contour": [
           {
            "colorbar": {
             "outlinewidth": 0,
             "ticks": ""
            },
            "colorscale": [
             [
              0,
              "#0d0887"
             ],
             [
              0.1111111111111111,
              "#46039f"
             ],
             [
              0.2222222222222222,
              "#7201a8"
             ],
             [
              0.3333333333333333,
              "#9c179e"
             ],
             [
              0.4444444444444444,
              "#bd3786"
             ],
             [
              0.5555555555555556,
              "#d8576b"
             ],
             [
              0.6666666666666666,
              "#ed7953"
             ],
             [
              0.7777777777777778,
              "#fb9f3a"
             ],
             [
              0.8888888888888888,
              "#fdca26"
             ],
             [
              1,
              "#f0f921"
             ]
            ],
            "type": "contour"
           }
          ],
          "contourcarpet": [
           {
            "colorbar": {
             "outlinewidth": 0,
             "ticks": ""
            },
            "type": "contourcarpet"
           }
          ],
          "heatmap": [
           {
            "colorbar": {
             "outlinewidth": 0,
             "ticks": ""
            },
            "colorscale": [
             [
              0,
              "#0d0887"
             ],
             [
              0.1111111111111111,
              "#46039f"
             ],
             [
              0.2222222222222222,
              "#7201a8"
             ],
             [
              0.3333333333333333,
              "#9c179e"
             ],
             [
              0.4444444444444444,
              "#bd3786"
             ],
             [
              0.5555555555555556,
              "#d8576b"
             ],
             [
              0.6666666666666666,
              "#ed7953"
             ],
             [
              0.7777777777777778,
              "#fb9f3a"
             ],
             [
              0.8888888888888888,
              "#fdca26"
             ],
             [
              1,
              "#f0f921"
             ]
            ],
            "type": "heatmap"
           }
          ],
          "heatmapgl": [
           {
            "colorbar": {
             "outlinewidth": 0,
             "ticks": ""
            },
            "colorscale": [
             [
              0,
              "#0d0887"
             ],
             [
              0.1111111111111111,
              "#46039f"
             ],
             [
              0.2222222222222222,
              "#7201a8"
             ],
             [
              0.3333333333333333,
              "#9c179e"
             ],
             [
              0.4444444444444444,
              "#bd3786"
             ],
             [
              0.5555555555555556,
              "#d8576b"
             ],
             [
              0.6666666666666666,
              "#ed7953"
             ],
             [
              0.7777777777777778,
              "#fb9f3a"
             ],
             [
              0.8888888888888888,
              "#fdca26"
             ],
             [
              1,
              "#f0f921"
             ]
            ],
            "type": "heatmapgl"
           }
          ],
          "histogram": [
           {
            "marker": {
             "colorbar": {
              "outlinewidth": 0,
              "ticks": ""
             }
            },
            "type": "histogram"
           }
          ],
          "histogram2d": [
           {
            "colorbar": {
             "outlinewidth": 0,
             "ticks": ""
            },
            "colorscale": [
             [
              0,
              "#0d0887"
             ],
             [
              0.1111111111111111,
              "#46039f"
             ],
             [
              0.2222222222222222,
              "#7201a8"
             ],
             [
              0.3333333333333333,
              "#9c179e"
             ],
             [
              0.4444444444444444,
              "#bd3786"
             ],
             [
              0.5555555555555556,
              "#d8576b"
             ],
             [
              0.6666666666666666,
              "#ed7953"
             ],
             [
              0.7777777777777778,
              "#fb9f3a"
             ],
             [
              0.8888888888888888,
              "#fdca26"
             ],
             [
              1,
              "#f0f921"
             ]
            ],
            "type": "histogram2d"
           }
          ],
          "histogram2dcontour": [
           {
            "colorbar": {
             "outlinewidth": 0,
             "ticks": ""
            },
            "colorscale": [
             [
              0,
              "#0d0887"
             ],
             [
              0.1111111111111111,
              "#46039f"
             ],
             [
              0.2222222222222222,
              "#7201a8"
             ],
             [
              0.3333333333333333,
              "#9c179e"
             ],
             [
              0.4444444444444444,
              "#bd3786"
             ],
             [
              0.5555555555555556,
              "#d8576b"
             ],
             [
              0.6666666666666666,
              "#ed7953"
             ],
             [
              0.7777777777777778,
              "#fb9f3a"
             ],
             [
              0.8888888888888888,
              "#fdca26"
             ],
             [
              1,
              "#f0f921"
             ]
            ],
            "type": "histogram2dcontour"
           }
          ],
          "mesh3d": [
           {
            "colorbar": {
             "outlinewidth": 0,
             "ticks": ""
            },
            "type": "mesh3d"
           }
          ],
          "parcoords": [
           {
            "line": {
             "colorbar": {
              "outlinewidth": 0,
              "ticks": ""
             }
            },
            "type": "parcoords"
           }
          ],
          "pie": [
           {
            "automargin": true,
            "type": "pie"
           }
          ],
          "scatter": [
           {
            "marker": {
             "colorbar": {
              "outlinewidth": 0,
              "ticks": ""
             }
            },
            "type": "scatter"
           }
          ],
          "scatter3d": [
           {
            "line": {
             "colorbar": {
              "outlinewidth": 0,
              "ticks": ""
             }
            },
            "marker": {
             "colorbar": {
              "outlinewidth": 0,
              "ticks": ""
             }
            },
            "type": "scatter3d"
           }
          ],
          "scattercarpet": [
           {
            "marker": {
             "colorbar": {
              "outlinewidth": 0,
              "ticks": ""
             }
            },
            "type": "scattercarpet"
           }
          ],
          "scattergeo": [
           {
            "marker": {
             "colorbar": {
              "outlinewidth": 0,
              "ticks": ""
             }
            },
            "type": "scattergeo"
           }
          ],
          "scattergl": [
           {
            "marker": {
             "colorbar": {
              "outlinewidth": 0,
              "ticks": ""
             }
            },
            "type": "scattergl"
           }
          ],
          "scattermapbox": [
           {
            "marker": {
             "colorbar": {
              "outlinewidth": 0,
              "ticks": ""
             }
            },
            "type": "scattermapbox"
           }
          ],
          "scatterpolar": [
           {
            "marker": {
             "colorbar": {
              "outlinewidth": 0,
              "ticks": ""
             }
            },
            "type": "scatterpolar"
           }
          ],
          "scatterpolargl": [
           {
            "marker": {
             "colorbar": {
              "outlinewidth": 0,
              "ticks": ""
             }
            },
            "type": "scatterpolargl"
           }
          ],
          "scatterternary": [
           {
            "marker": {
             "colorbar": {
              "outlinewidth": 0,
              "ticks": ""
             }
            },
            "type": "scatterternary"
           }
          ],
          "surface": [
           {
            "colorbar": {
             "outlinewidth": 0,
             "ticks": ""
            },
            "colorscale": [
             [
              0,
              "#0d0887"
             ],
             [
              0.1111111111111111,
              "#46039f"
             ],
             [
              0.2222222222222222,
              "#7201a8"
             ],
             [
              0.3333333333333333,
              "#9c179e"
             ],
             [
              0.4444444444444444,
              "#bd3786"
             ],
             [
              0.5555555555555556,
              "#d8576b"
             ],
             [
              0.6666666666666666,
              "#ed7953"
             ],
             [
              0.7777777777777778,
              "#fb9f3a"
             ],
             [
              0.8888888888888888,
              "#fdca26"
             ],
             [
              1,
              "#f0f921"
             ]
            ],
            "type": "surface"
           }
          ],
          "table": [
           {
            "cells": {
             "fill": {
              "color": "#EBF0F8"
             },
             "line": {
              "color": "white"
             }
            },
            "header": {
             "fill": {
              "color": "#C8D4E3"
             },
             "line": {
              "color": "white"
             }
            },
            "type": "table"
           }
          ]
         },
         "layout": {
          "annotationdefaults": {
           "arrowcolor": "#2a3f5f",
           "arrowhead": 0,
           "arrowwidth": 1
          },
          "autotypenumbers": "strict",
          "coloraxis": {
           "colorbar": {
            "outlinewidth": 0,
            "ticks": ""
           }
          },
          "colorscale": {
           "diverging": [
            [
             0,
             "#8e0152"
            ],
            [
             0.1,
             "#c51b7d"
            ],
            [
             0.2,
             "#de77ae"
            ],
            [
             0.3,
             "#f1b6da"
            ],
            [
             0.4,
             "#fde0ef"
            ],
            [
             0.5,
             "#f7f7f7"
            ],
            [
             0.6,
             "#e6f5d0"
            ],
            [
             0.7,
             "#b8e186"
            ],
            [
             0.8,
             "#7fbc41"
            ],
            [
             0.9,
             "#4d9221"
            ],
            [
             1,
             "#276419"
            ]
           ],
           "sequential": [
            [
             0,
             "#0d0887"
            ],
            [
             0.1111111111111111,
             "#46039f"
            ],
            [
             0.2222222222222222,
             "#7201a8"
            ],
            [
             0.3333333333333333,
             "#9c179e"
            ],
            [
             0.4444444444444444,
             "#bd3786"
            ],
            [
             0.5555555555555556,
             "#d8576b"
            ],
            [
             0.6666666666666666,
             "#ed7953"
            ],
            [
             0.7777777777777778,
             "#fb9f3a"
            ],
            [
             0.8888888888888888,
             "#fdca26"
            ],
            [
             1,
             "#f0f921"
            ]
           ],
           "sequentialminus": [
            [
             0,
             "#0d0887"
            ],
            [
             0.1111111111111111,
             "#46039f"
            ],
            [
             0.2222222222222222,
             "#7201a8"
            ],
            [
             0.3333333333333333,
             "#9c179e"
            ],
            [
             0.4444444444444444,
             "#bd3786"
            ],
            [
             0.5555555555555556,
             "#d8576b"
            ],
            [
             0.6666666666666666,
             "#ed7953"
            ],
            [
             0.7777777777777778,
             "#fb9f3a"
            ],
            [
             0.8888888888888888,
             "#fdca26"
            ],
            [
             1,
             "#f0f921"
            ]
           ]
          },
          "colorway": [
           "#636efa",
           "#EF553B",
           "#00cc96",
           "#ab63fa",
           "#FFA15A",
           "#19d3f3",
           "#FF6692",
           "#B6E880",
           "#FF97FF",
           "#FECB52"
          ],
          "font": {
           "color": "#2a3f5f"
          },
          "geo": {
           "bgcolor": "white",
           "lakecolor": "white",
           "landcolor": "#E5ECF6",
           "showlakes": true,
           "showland": true,
           "subunitcolor": "white"
          },
          "hoverlabel": {
           "align": "left"
          },
          "hovermode": "closest",
          "mapbox": {
           "style": "light"
          },
          "paper_bgcolor": "white",
          "plot_bgcolor": "#E5ECF6",
          "polar": {
           "angularaxis": {
            "gridcolor": "white",
            "linecolor": "white",
            "ticks": ""
           },
           "bgcolor": "#E5ECF6",
           "radialaxis": {
            "gridcolor": "white",
            "linecolor": "white",
            "ticks": ""
           }
          },
          "scene": {
           "xaxis": {
            "backgroundcolor": "#E5ECF6",
            "gridcolor": "white",
            "gridwidth": 2,
            "linecolor": "white",
            "showbackground": true,
            "ticks": "",
            "zerolinecolor": "white"
           },
           "yaxis": {
            "backgroundcolor": "#E5ECF6",
            "gridcolor": "white",
            "gridwidth": 2,
            "linecolor": "white",
            "showbackground": true,
            "ticks": "",
            "zerolinecolor": "white"
           },
           "zaxis": {
            "backgroundcolor": "#E5ECF6",
            "gridcolor": "white",
            "gridwidth": 2,
            "linecolor": "white",
            "showbackground": true,
            "ticks": "",
            "zerolinecolor": "white"
           }
          },
          "shapedefaults": {
           "line": {
            "color": "#2a3f5f"
           }
          },
          "ternary": {
           "aaxis": {
            "gridcolor": "white",
            "linecolor": "white",
            "ticks": ""
           },
           "baxis": {
            "gridcolor": "white",
            "linecolor": "white",
            "ticks": ""
           },
           "bgcolor": "#E5ECF6",
           "caxis": {
            "gridcolor": "white",
            "linecolor": "white",
            "ticks": ""
           }
          },
          "title": {
           "x": 0.05
          },
          "xaxis": {
           "automargin": true,
           "gridcolor": "white",
           "linecolor": "white",
           "ticks": "",
           "title": {
            "standoff": 15
           },
           "zerolinecolor": "white",
           "zerolinewidth": 2
          },
          "yaxis": {
           "automargin": true,
           "gridcolor": "white",
           "linecolor": "white",
           "ticks": "",
           "title": {
            "standoff": 15
           },
           "zerolinecolor": "white",
           "zerolinewidth": 2
          }
         }
        }
       }
      },
      "text/html": [
       "<div>                            <div id=\"fac770e7-4562-4d75-a405-1616d1f39a29\" class=\"plotly-graph-div\" style=\"height:525px; width:100%;\"></div>            <script type=\"text/javascript\">                require([\"plotly\"], function(Plotly) {                    window.PLOTLYENV=window.PLOTLYENV || {};                                    if (document.getElementById(\"fac770e7-4562-4d75-a405-1616d1f39a29\")) {                    Plotly.newPlot(                        \"fac770e7-4562-4d75-a405-1616d1f39a29\",                        [{\"lat\": [43.9406897, 43.9406638, 43.9406638, 43.9404, 43.9400785, 43.9398627, 43.9398627, 43.9396795, 43.9396145, 43.9396145, 43.9394787, 43.9394787, 43.9394292, 43.9392206, 43.9392206, 43.9386215, 43.9385128, 43.9385128, 43.9383097, 43.9382368, 43.9381696, 43.9378993, 43.9378993, 43.9368251, 43.9359104, 43.9359104, 43.9336428, 43.9336428, 43.9319909, 43.9319909, 43.9308521, 43.9302583, 43.9301466, 43.9295182, 43.9295182, 43.9289302, 43.927886, 43.927886, 43.9251505, 43.9248095, 43.9248095, 43.9240959, 43.9235285, 43.9229051, 43.9221092, 43.9219405, 43.9219405, 43.9218294, 43.920637, 43.920637, 43.9185641, 43.9175234, 43.9173861, 43.9173861, 43.9172737, 43.9143037, 43.9137989, 43.9130291, 43.9130291, 43.9129494, 43.9126824, 43.9125705, 43.9125705, 43.9124863, 43.9124863, 43.9124029, 43.9121995, 43.9121061, 43.9121061, 43.9120201, 43.9118307, 43.9114784, 43.9113897, 43.910989, 43.9108891, 43.9099969, 43.9095456, 43.9093871], \"line\": {\"color\": \"blue\", \"width\": 4.5}, \"lon\": [-78.8498715, -78.8499817, -78.8499817, -78.8498908, -78.8497643, -78.8496744, -78.8496744, -78.8496041, -78.8495791, -78.8495791, -78.8495251, -78.8495251, -78.8495027, -78.8494081, -78.8494081, -78.8491491, -78.8490419, -78.8490419, -78.8489576, -78.8489268, -78.8488984, -78.8487802, -78.8487802, -78.8483226, -78.8479016, -78.8479016, -78.8468746, -78.8468746, -78.8461899, -78.8461899, -78.8456737, -78.8453799, -78.8453323, -78.8450645, -78.8450645, -78.8448076, -78.8443515, -78.8443515, -78.8431029, -78.8429473, -78.8429473, -78.8426332, -78.8423866, -78.8421621, -78.8418809, -78.8418144, -78.8418144, -78.8417682, -78.8412547, -78.8412547, -78.8403475, -78.8398855, -78.8398245, -78.8398245, -78.8397753, -78.8384753, -78.8382222, -78.8378913, -78.8378913, -78.8379472, -78.837843, -78.8377992, -78.8377992, -78.8377671, -78.8377671, -78.8377301, -78.8376399, -78.8375177, -78.8375177, -78.8374763, -78.8373787, -78.8372261, -78.8371876, -78.837014, -78.8369707, -78.8365842, -78.8363756, -78.8363024], \"marker\": {\"size\": 10}, \"mode\": \"lines\", \"name\": \"Path\", \"type\": \"scattermapbox\"}, {\"lat\": [43.94155815], \"lon\": [-78.8496132198076], \"marker\": {\"color\": \"red\", \"size\": 12}, \"mode\": \"markers\", \"name\": \"Source: Best Buy\\ufffdFirst Pro Oshawa\", \"text\": [\"Best Buy\\ufffdFirst Pro Oshawa<br>E\"], \"textfont\": {\"color\": \"black\", \"size\": 16}, \"textposition\": \"top right\", \"type\": \"scattermapbox\"}, {\"lat\": [43.9093871], \"lon\": [-78.8363024], \"marker\": {\"color\": \"green\", \"size\": 12}, \"mode\": \"markers\", \"name\": \"Destination: THE HOME DEPOT OSHAWA\", \"text\": [\"THE HOME DEPOT OSHAWA<br>O\"], \"textfont\": {\"color\": \"black\", \"size\": 16}, \"textposition\": \"top right\", \"type\": \"scattermapbox\"}],                        {\"mapbox\": {\"center\": {\"lat\": 43.92586925128205, \"lon\": -78.84352275000002}, \"style\": \"stamen-terrain\", \"zoom\": 13}, \"margin\": {\"b\": 0, \"l\": 0, \"r\": 0, \"t\": 0}, \"template\": {\"data\": {\"bar\": [{\"error_x\": {\"color\": \"#2a3f5f\"}, \"error_y\": {\"color\": \"#2a3f5f\"}, \"marker\": {\"line\": {\"color\": \"#E5ECF6\", \"width\": 0.5}}, \"type\": \"bar\"}], \"barpolar\": [{\"marker\": {\"line\": {\"color\": \"#E5ECF6\", \"width\": 0.5}}, \"type\": \"barpolar\"}], \"carpet\": [{\"aaxis\": {\"endlinecolor\": \"#2a3f5f\", \"gridcolor\": \"white\", \"linecolor\": \"white\", \"minorgridcolor\": \"white\", \"startlinecolor\": \"#2a3f5f\"}, \"baxis\": {\"endlinecolor\": \"#2a3f5f\", \"gridcolor\": \"white\", \"linecolor\": \"white\", \"minorgridcolor\": \"white\", \"startlinecolor\": \"#2a3f5f\"}, \"type\": \"carpet\"}], \"choropleth\": [{\"colorbar\": {\"outlinewidth\": 0, \"ticks\": \"\"}, \"type\": \"choropleth\"}], \"contour\": [{\"colorbar\": {\"outlinewidth\": 0, \"ticks\": \"\"}, \"colorscale\": [[0.0, \"#0d0887\"], [0.1111111111111111, \"#46039f\"], [0.2222222222222222, \"#7201a8\"], [0.3333333333333333, \"#9c179e\"], [0.4444444444444444, \"#bd3786\"], [0.5555555555555556, \"#d8576b\"], [0.6666666666666666, \"#ed7953\"], [0.7777777777777778, \"#fb9f3a\"], [0.8888888888888888, \"#fdca26\"], [1.0, \"#f0f921\"]], \"type\": \"contour\"}], \"contourcarpet\": [{\"colorbar\": {\"outlinewidth\": 0, \"ticks\": \"\"}, \"type\": \"contourcarpet\"}], \"heatmap\": [{\"colorbar\": {\"outlinewidth\": 0, \"ticks\": \"\"}, \"colorscale\": [[0.0, \"#0d0887\"], [0.1111111111111111, \"#46039f\"], [0.2222222222222222, \"#7201a8\"], [0.3333333333333333, \"#9c179e\"], [0.4444444444444444, \"#bd3786\"], [0.5555555555555556, \"#d8576b\"], [0.6666666666666666, \"#ed7953\"], [0.7777777777777778, \"#fb9f3a\"], [0.8888888888888888, \"#fdca26\"], [1.0, \"#f0f921\"]], \"type\": \"heatmap\"}], \"heatmapgl\": [{\"colorbar\": {\"outlinewidth\": 0, \"ticks\": \"\"}, \"colorscale\": [[0.0, \"#0d0887\"], [0.1111111111111111, \"#46039f\"], [0.2222222222222222, \"#7201a8\"], [0.3333333333333333, \"#9c179e\"], [0.4444444444444444, \"#bd3786\"], [0.5555555555555556, \"#d8576b\"], [0.6666666666666666, \"#ed7953\"], [0.7777777777777778, \"#fb9f3a\"], [0.8888888888888888, \"#fdca26\"], [1.0, \"#f0f921\"]], \"type\": \"heatmapgl\"}], \"histogram\": [{\"marker\": {\"colorbar\": {\"outlinewidth\": 0, \"ticks\": \"\"}}, \"type\": \"histogram\"}], \"histogram2d\": [{\"colorbar\": {\"outlinewidth\": 0, \"ticks\": \"\"}, \"colorscale\": [[0.0, \"#0d0887\"], [0.1111111111111111, \"#46039f\"], [0.2222222222222222, \"#7201a8\"], [0.3333333333333333, \"#9c179e\"], [0.4444444444444444, \"#bd3786\"], [0.5555555555555556, \"#d8576b\"], [0.6666666666666666, \"#ed7953\"], [0.7777777777777778, \"#fb9f3a\"], [0.8888888888888888, \"#fdca26\"], [1.0, \"#f0f921\"]], \"type\": \"histogram2d\"}], \"histogram2dcontour\": [{\"colorbar\": {\"outlinewidth\": 0, \"ticks\": \"\"}, \"colorscale\": [[0.0, \"#0d0887\"], [0.1111111111111111, \"#46039f\"], [0.2222222222222222, \"#7201a8\"], [0.3333333333333333, \"#9c179e\"], [0.4444444444444444, \"#bd3786\"], [0.5555555555555556, \"#d8576b\"], [0.6666666666666666, \"#ed7953\"], [0.7777777777777778, \"#fb9f3a\"], [0.8888888888888888, \"#fdca26\"], [1.0, \"#f0f921\"]], \"type\": \"histogram2dcontour\"}], \"mesh3d\": [{\"colorbar\": {\"outlinewidth\": 0, \"ticks\": \"\"}, \"type\": \"mesh3d\"}], \"parcoords\": [{\"line\": {\"colorbar\": {\"outlinewidth\": 0, \"ticks\": \"\"}}, \"type\": \"parcoords\"}], \"pie\": [{\"automargin\": true, \"type\": \"pie\"}], \"scatter\": [{\"marker\": {\"colorbar\": {\"outlinewidth\": 0, \"ticks\": \"\"}}, \"type\": \"scatter\"}], \"scatter3d\": [{\"line\": {\"colorbar\": {\"outlinewidth\": 0, \"ticks\": \"\"}}, \"marker\": {\"colorbar\": {\"outlinewidth\": 0, \"ticks\": \"\"}}, \"type\": \"scatter3d\"}], \"scattercarpet\": [{\"marker\": {\"colorbar\": {\"outlinewidth\": 0, \"ticks\": \"\"}}, \"type\": \"scattercarpet\"}], \"scattergeo\": [{\"marker\": {\"colorbar\": {\"outlinewidth\": 0, \"ticks\": \"\"}}, \"type\": \"scattergeo\"}], \"scattergl\": [{\"marker\": {\"colorbar\": {\"outlinewidth\": 0, \"ticks\": \"\"}}, \"type\": \"scattergl\"}], \"scattermapbox\": [{\"marker\": {\"colorbar\": {\"outlinewidth\": 0, \"ticks\": \"\"}}, \"type\": \"scattermapbox\"}], \"scatterpolar\": [{\"marker\": {\"colorbar\": {\"outlinewidth\": 0, \"ticks\": \"\"}}, \"type\": \"scatterpolar\"}], \"scatterpolargl\": [{\"marker\": {\"colorbar\": {\"outlinewidth\": 0, \"ticks\": \"\"}}, \"type\": \"scatterpolargl\"}], \"scatterternary\": [{\"marker\": {\"colorbar\": {\"outlinewidth\": 0, \"ticks\": \"\"}}, \"type\": \"scatterternary\"}], \"surface\": [{\"colorbar\": {\"outlinewidth\": 0, \"ticks\": \"\"}, \"colorscale\": [[0.0, \"#0d0887\"], [0.1111111111111111, \"#46039f\"], [0.2222222222222222, \"#7201a8\"], [0.3333333333333333, \"#9c179e\"], [0.4444444444444444, \"#bd3786\"], [0.5555555555555556, \"#d8576b\"], [0.6666666666666666, \"#ed7953\"], [0.7777777777777778, \"#fb9f3a\"], [0.8888888888888888, \"#fdca26\"], [1.0, \"#f0f921\"]], \"type\": \"surface\"}], \"table\": [{\"cells\": {\"fill\": {\"color\": \"#EBF0F8\"}, \"line\": {\"color\": \"white\"}}, \"header\": {\"fill\": {\"color\": \"#C8D4E3\"}, \"line\": {\"color\": \"white\"}}, \"type\": \"table\"}]}, \"layout\": {\"annotationdefaults\": {\"arrowcolor\": \"#2a3f5f\", \"arrowhead\": 0, \"arrowwidth\": 1}, \"autotypenumbers\": \"strict\", \"coloraxis\": {\"colorbar\": {\"outlinewidth\": 0, \"ticks\": \"\"}}, \"colorscale\": {\"diverging\": [[0, \"#8e0152\"], [0.1, \"#c51b7d\"], [0.2, \"#de77ae\"], [0.3, \"#f1b6da\"], [0.4, \"#fde0ef\"], [0.5, \"#f7f7f7\"], [0.6, \"#e6f5d0\"], [0.7, \"#b8e186\"], [0.8, \"#7fbc41\"], [0.9, \"#4d9221\"], [1, \"#276419\"]], \"sequential\": [[0.0, \"#0d0887\"], [0.1111111111111111, \"#46039f\"], [0.2222222222222222, \"#7201a8\"], [0.3333333333333333, \"#9c179e\"], [0.4444444444444444, \"#bd3786\"], [0.5555555555555556, \"#d8576b\"], [0.6666666666666666, \"#ed7953\"], [0.7777777777777778, \"#fb9f3a\"], [0.8888888888888888, \"#fdca26\"], [1.0, \"#f0f921\"]], \"sequentialminus\": [[0.0, \"#0d0887\"], [0.1111111111111111, \"#46039f\"], [0.2222222222222222, \"#7201a8\"], [0.3333333333333333, \"#9c179e\"], [0.4444444444444444, \"#bd3786\"], [0.5555555555555556, \"#d8576b\"], [0.6666666666666666, \"#ed7953\"], [0.7777777777777778, \"#fb9f3a\"], [0.8888888888888888, \"#fdca26\"], [1.0, \"#f0f921\"]]}, \"colorway\": [\"#636efa\", \"#EF553B\", \"#00cc96\", \"#ab63fa\", \"#FFA15A\", \"#19d3f3\", \"#FF6692\", \"#B6E880\", \"#FF97FF\", \"#FECB52\"], \"font\": {\"color\": \"#2a3f5f\"}, \"geo\": {\"bgcolor\": \"white\", \"lakecolor\": \"white\", \"landcolor\": \"#E5ECF6\", \"showlakes\": true, \"showland\": true, \"subunitcolor\": \"white\"}, \"hoverlabel\": {\"align\": \"left\"}, \"hovermode\": \"closest\", \"mapbox\": {\"style\": \"light\"}, \"paper_bgcolor\": \"white\", \"plot_bgcolor\": \"#E5ECF6\", \"polar\": {\"angularaxis\": {\"gridcolor\": \"white\", \"linecolor\": \"white\", \"ticks\": \"\"}, \"bgcolor\": \"#E5ECF6\", \"radialaxis\": {\"gridcolor\": \"white\", \"linecolor\": \"white\", \"ticks\": \"\"}}, \"scene\": {\"xaxis\": {\"backgroundcolor\": \"#E5ECF6\", \"gridcolor\": \"white\", \"gridwidth\": 2, \"linecolor\": \"white\", \"showbackground\": true, \"ticks\": \"\", \"zerolinecolor\": \"white\"}, \"yaxis\": {\"backgroundcolor\": \"#E5ECF6\", \"gridcolor\": \"white\", \"gridwidth\": 2, \"linecolor\": \"white\", \"showbackground\": true, \"ticks\": \"\", \"zerolinecolor\": \"white\"}, \"zaxis\": {\"backgroundcolor\": \"#E5ECF6\", \"gridcolor\": \"white\", \"gridwidth\": 2, \"linecolor\": \"white\", \"showbackground\": true, \"ticks\": \"\", \"zerolinecolor\": \"white\"}}, \"shapedefaults\": {\"line\": {\"color\": \"#2a3f5f\"}}, \"ternary\": {\"aaxis\": {\"gridcolor\": \"white\", \"linecolor\": \"white\", \"ticks\": \"\"}, \"baxis\": {\"gridcolor\": \"white\", \"linecolor\": \"white\", \"ticks\": \"\"}, \"bgcolor\": \"#E5ECF6\", \"caxis\": {\"gridcolor\": \"white\", \"linecolor\": \"white\", \"ticks\": \"\"}}, \"title\": {\"x\": 0.05}, \"xaxis\": {\"automargin\": true, \"gridcolor\": \"white\", \"linecolor\": \"white\", \"ticks\": \"\", \"title\": {\"standoff\": 15}, \"zerolinecolor\": \"white\", \"zerolinewidth\": 2}, \"yaxis\": {\"automargin\": true, \"gridcolor\": \"white\", \"linecolor\": \"white\", \"ticks\": \"\", \"title\": {\"standoff\": 15}, \"zerolinecolor\": \"white\", \"zerolinewidth\": 2}}}},                        {\"responsive\": true}                    ).then(function(){\n",
       "                            \n",
       "var gd = document.getElementById('fac770e7-4562-4d75-a405-1616d1f39a29');\n",
       "var x = new MutationObserver(function (mutations, observer) {{\n",
       "        var display = window.getComputedStyle(gd).display;\n",
       "        if (!display || display === 'none') {{\n",
       "            console.log([gd, 'removed!']);\n",
       "            Plotly.purge(gd);\n",
       "            observer.disconnect();\n",
       "        }}\n",
       "}});\n",
       "\n",
       "// Listen for the removal of the full notebook cells\n",
       "var notebookContainer = gd.closest('#notebook-container');\n",
       "if (notebookContainer) {{\n",
       "    x.observe(notebookContainer, {childList: true});\n",
       "}}\n",
       "\n",
       "// Listen for the clearing of the current output cell\n",
       "var outputEl = gd.closest('.output');\n",
       "if (outputEl) {{\n",
       "    x.observe(outputEl, {childList: true});\n",
       "}}\n",
       "\n",
       "                        })                };                });            </script>        </div>"
      ]
     },
     "metadata": {},
     "output_type": "display_data"
    }
   ],
   "source": [
    "# long2 = []\n",
    "# lat2 = []\n",
    "for j in range(len(df_short)):\n",
    "    if j+1<=len(df_short)-1:\n",
    "        origin_point = (df_short.latitude[j], df_short.longitude[j]) \n",
    "        destination_point = (df_short.latitude[j+1], df_short.longitude[j+1])\n",
    "        name_categ_source= (df_short.Name[j], df_short.Category[j])\n",
    "        name_categ_dest = (df_short.Name[j+1], df_short.Category[j+1])\n",
    "#         print('Origin',origin_point)\n",
    "#         print(destination_point)\n",
    "        # get the nearest nodes to the locations \n",
    "        origin_node = ox.get_nearest_node(G, origin_point) \n",
    "        destination_node = ox.get_nearest_node(G, destination_point)\n",
    "        # printing the closest node id to origin and destination points \n",
    "        origin_node, destination_node\n",
    "        route = nx.shortest_path(G, origin_node, destination_node, weight = 'length')\n",
    "        #print(route)\n",
    "        # getting coordinates of the nodes\n",
    "# we will store the longitudes and latitudes in following list \n",
    "        long = [] \n",
    "        lat = []  \n",
    "        for i in route:\n",
    "            point = G.nodes[i]\n",
    "            long.append(point['x'])\n",
    "            lat.append(point['y'])\n",
    "            #print(lat,long)    \n",
    "        \n",
    "            # getting the list of coordinates from the path \n",
    "    # (which is a list of nodes)\n",
    "        lines = node_list_to_path(G, route)\n",
    "        long2 = []\n",
    "        lat2 = []\n",
    "        for i in range(len(lines)):\n",
    "            z = list(lines[i])\n",
    "            l1 = list(list(zip(*z))[0])\n",
    "            l2 = list(list(zip(*z))[1])\n",
    "            for j in range(len(l1)):\n",
    "                long2.append(l1[j])\n",
    "                lat2.append(l2[j])\n",
    "                \n",
    "        plot_path(lat2, long2, origin_point, destination_point,name_categ_source,name_categ_dest)"
   ]
  },
  {
   "cell_type": "code",
   "execution_count": null,
   "id": "australian-interest",
   "metadata": {},
   "outputs": [],
   "source": []
  }
 ],
 "metadata": {
  "kernelspec": {
   "display_name": "Python 3",
   "language": "python",
   "name": "python3"
  },
  "language_info": {
   "codemirror_mode": {
    "name": "ipython",
    "version": 3
   },
   "file_extension": ".py",
   "mimetype": "text/x-python",
   "name": "python",
   "nbconvert_exporter": "python",
   "pygments_lexer": "ipython3",
   "version": "3.8.5"
  }
 },
 "nbformat": 4,
 "nbformat_minor": 5
}
